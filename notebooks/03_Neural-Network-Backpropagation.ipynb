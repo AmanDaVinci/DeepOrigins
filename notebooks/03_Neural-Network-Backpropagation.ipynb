{
 "cells": [
  {
   "cell_type": "markdown",
   "metadata": {},
   "source": [
    "# Propagating Gradients Backwards\n",
    "---"
   ]
  },
  {
   "cell_type": "markdown",
   "metadata": {
    "toc": true
   },
   "source": [
    "<h1>Table of Contents<span class=\"tocSkip\"></span></h1>\n",
    "<div class=\"toc\"><ul class=\"toc-item\"><li><span><a href=\"#Propagating-Gradients-Backwards\" data-toc-modified-id=\"Propagating-Gradients-Backwards-1\"><span class=\"toc-item-num\">1&nbsp;&nbsp;</span>Propagating Gradients Backwards</a></span><ul class=\"toc-item\"><li><span><a href=\"#Import-Libraries\" data-toc-modified-id=\"Import-Libraries-1.1\"><span class=\"toc-item-num\">1.1&nbsp;&nbsp;</span>Import Libraries</a></span></li><li><span><a href=\"#Unit-Tests\" data-toc-modified-id=\"Unit-Tests-1.2\"><span class=\"toc-item-num\">1.2&nbsp;&nbsp;</span>Unit Tests</a></span></li><li><span><a href=\"#Load-Data\" data-toc-modified-id=\"Load-Data-1.3\"><span class=\"toc-item-num\">1.3&nbsp;&nbsp;</span>Load Data</a></span></li><li><span><a href=\"#Normalize-Data\" data-toc-modified-id=\"Normalize-Data-1.4\"><span class=\"toc-item-num\">1.4&nbsp;&nbsp;</span>Normalize Data</a></span></li></ul></li><li><span><a href=\"#Backpropagation-from-scratch\" data-toc-modified-id=\"Backpropagation-from-scratch-2\"><span class=\"toc-item-num\">2&nbsp;&nbsp;</span>Backpropagation from scratch</a></span><ul class=\"toc-item\"><li><span><a href=\"#Linear-Layer\" data-toc-modified-id=\"Linear-Layer-2.1\"><span class=\"toc-item-num\">2.1&nbsp;&nbsp;</span>Linear Layer</a></span></li><li><span><a href=\"#Activation-Layer\" data-toc-modified-id=\"Activation-Layer-2.2\"><span class=\"toc-item-num\">2.2&nbsp;&nbsp;</span>Activation Layer</a></span></li><li><span><a href=\"#Loss-Layer\" data-toc-modified-id=\"Loss-Layer-2.3\"><span class=\"toc-item-num\">2.3&nbsp;&nbsp;</span>Loss Layer</a></span></li><li><span><a href=\"#Feedforward-Network\" data-toc-modified-id=\"Feedforward-Network-2.4\"><span class=\"toc-item-num\">2.4&nbsp;&nbsp;</span>Feedforward Network</a></span></li></ul></li><li><span><a href=\"#Refactor-&amp;-Redesign\" data-toc-modified-id=\"Refactor-&amp;-Redesign-3\"><span class=\"toc-item-num\">3&nbsp;&nbsp;</span>Refactor &amp; Redesign</a></span><ul class=\"toc-item\"><li><span><a href=\"#Abstract-Layer-Class\" data-toc-modified-id=\"Abstract-Layer-Class-3.1\"><span class=\"toc-item-num\">3.1&nbsp;&nbsp;</span>Abstract Layer Class</a></span></li><li><span><a href=\"#Linear-Layer\" data-toc-modified-id=\"Linear-Layer-3.2\"><span class=\"toc-item-num\">3.2&nbsp;&nbsp;</span>Linear Layer</a></span></li><li><span><a href=\"#Activation-Layer\" data-toc-modified-id=\"Activation-Layer-3.3\"><span class=\"toc-item-num\">3.3&nbsp;&nbsp;</span>Activation Layer</a></span></li><li><span><a href=\"#Loss-Layer\" data-toc-modified-id=\"Loss-Layer-3.4\"><span class=\"toc-item-num\">3.4&nbsp;&nbsp;</span>Loss Layer</a></span></li><li><span><a href=\"#Feedforward-Network\" data-toc-modified-id=\"Feedforward-Network-3.5\"><span class=\"toc-item-num\">3.5&nbsp;&nbsp;</span>Feedforward Network</a></span></li></ul></li><li><span><a href=\"#Comparison-with-PyTorch's-Autograd\" data-toc-modified-id=\"Comparison-with-PyTorch's-Autograd-4\"><span class=\"toc-item-num\">4&nbsp;&nbsp;</span>Comparison with PyTorch's Autograd</a></span><ul class=\"toc-item\"><li><span><a href=\"#PyTorch's-Performance\" data-toc-modified-id=\"PyTorch's-Performance-4.1\"><span class=\"toc-item-num\">4.1&nbsp;&nbsp;</span>PyTorch's Performance</a></span></li><li><span><a href=\"#Our-Model's-Performance\" data-toc-modified-id=\"Our-Model's-Performance-4.2\"><span class=\"toc-item-num\">4.2&nbsp;&nbsp;</span>Our Model's Performance</a></span></li></ul></li></ul></div>"
   ]
  },
  {
   "cell_type": "markdown",
   "metadata": {},
   "source": [
    "## Import Libraries"
   ]
  },
  {
   "cell_type": "code",
   "execution_count": 1,
   "metadata": {},
   "outputs": [],
   "source": [
    "import math\n",
    "import operator\n",
    "\n",
    "import torch\n",
    "from torchvision.datasets import MNIST\n",
    "\n",
    "import matplotlib.pyplot as plt\n",
    "%matplotlib inline"
   ]
  },
  {
   "cell_type": "markdown",
   "metadata": {},
   "source": [
    "## Unit Tests"
   ]
  },
  {
   "cell_type": "code",
   "execution_count": 2,
   "metadata": {},
   "outputs": [],
   "source": [
    "def test(a, b, compare, compare_name=None):\n",
    "    if compare_name is None:\n",
    "        compare_name = compare.__name__\n",
    "    assert compare(a, b),\\\n",
    "    f\"{compare_name} check failed:\\n{a}\\n{b}\"\n",
    "\n",
    "def test_zero(x, tol=1e-3):\n",
    "    test(x, tol, operator.le, f\"Zero (less than tolerance: {tol})\")\n",
    "    \n",
    "def test_equality(a, b):\n",
    "    test(a, b, operator.eq, \"Equality\")\n",
    "\n",
    "def test_approximately(a, b):\n",
    "    allclose = partial(torch.allclose, atol=1e-5, rtol=1e-03)\n",
    "    if not isinstance(a, torch.Tensor) or not isinstance(b, torch.Tensor):\n",
    "        a = torch.tensor(a)\n",
    "        b = torch.tensor(b)\n",
    "    test(a, b, allclose, \"Approximate Equality\")"
   ]
  },
  {
   "cell_type": "markdown",
   "metadata": {},
   "source": [
    "## Load Data"
   ]
  },
  {
   "cell_type": "code",
   "execution_count": 3,
   "metadata": {},
   "outputs": [],
   "source": [
    "dataset = MNIST(root=\"../data/\")"
   ]
  },
  {
   "cell_type": "code",
   "execution_count": 4,
   "metadata": {},
   "outputs": [
    {
     "data": {
      "text/plain": [
       "(torch.Size([50000, 28, 28]), torch.Size([10000, 28, 28]))"
      ]
     },
     "execution_count": 4,
     "metadata": {},
     "output_type": "execute_result"
    }
   ],
   "source": [
    "x, y = dataset.data.float(), dataset.targets\n",
    "x_train, x_test = x[:50000], x[50000:]\n",
    "y_train, y_test = y[:50000], y[50000:]\n",
    "\n",
    "x_train.shape, x_test.shape"
   ]
  },
  {
   "cell_type": "code",
   "execution_count": 5,
   "metadata": {},
   "outputs": [
    {
     "data": {
      "text/plain": [
       "<matplotlib.image.AxesImage at 0x7fb0556adb10>"
      ]
     },
     "execution_count": 5,
     "metadata": {},
     "output_type": "execute_result"
    },
    {
     "data": {
      "image/png": "[encoded data removed]",
      "text/plain": [
       "<Figure size 432x288 with 1 Axes>"
      ]
     },
     "metadata": {
      "needs_background": "light"
     },
     "output_type": "display_data"
    }
   ],
   "source": [
    "plt.imshow(x_train[0])"
   ]
  },
  {
   "cell_type": "markdown",
   "metadata": {},
   "source": [
    "**Flatten**"
   ]
  },
  {
   "cell_type": "code",
   "execution_count": 6,
   "metadata": {},
   "outputs": [],
   "source": [
    "x_train = x_train.reshape(x_train.shape[0],x_train.shape[1]*x_train.shape[2])\n",
    "x_test = x_test.reshape(x_test.shape[0],x_test.shape[1]*x_test.shape[2])"
   ]
  },
  {
   "cell_type": "code",
   "execution_count": 7,
   "metadata": {},
   "outputs": [
    {
     "data": {
      "text/plain": [
       "(50000, 784, 9)"
      ]
     },
     "execution_count": 7,
     "metadata": {},
     "output_type": "execute_result"
    }
   ],
   "source": [
    "n, m = x_train.shape\n",
    "c = (y_train.max() - y_train.min()).item()\n",
    "n, m, c"
   ]
  },
  {
   "cell_type": "markdown",
   "metadata": {},
   "source": [
    "## Normalize Data"
   ]
  },
  {
   "cell_type": "code",
   "execution_count": 8,
   "metadata": {},
   "outputs": [],
   "source": [
    "def normalize(x, mean, std): return (x-mean)/std"
   ]
  },
  {
   "cell_type": "code",
   "execution_count": 9,
   "metadata": {},
   "outputs": [],
   "source": [
    "train_mean = x_train.mean()\n",
    "train_std = x_train.std()"
   ]
  },
  {
   "cell_type": "code",
   "execution_count": 10,
   "metadata": {},
   "outputs": [],
   "source": [
    "x_train = normalize(x_train, train_mean, train_std)\n",
    "x_test = normalize(x_test, train_mean, train_std)"
   ]
  },
  {
   "cell_type": "code",
   "execution_count": 11,
   "metadata": {},
   "outputs": [
    {
     "data": {
      "text/plain": [
       "<matplotlib.image.AxesImage at 0x7fb0555b1390>"
      ]
     },
     "execution_count": 11,
     "metadata": {},
     "output_type": "execute_result"
    },
    {
     "data": {
      "image/png": "[encoded data removed]",
      "text/plain": [
       "<Figure size 432x288 with 1 Axes>"
      ]
     },
     "metadata": {
      "needs_background": "light"
     },
     "output_type": "display_data"
    }
   ],
   "source": [
    "plt.imshow(x_test[0].view(28,28))"
   ]
  },
  {
   "cell_type": "markdown",
   "metadata": {},
   "source": [
    "# Backpropagation from scratch"
   ]
  },
  {
   "cell_type": "markdown",
   "metadata": {},
   "source": [
    "## Linear Layer"
   ]
  },
  {
   "cell_type": "code",
   "execution_count": 12,
   "metadata": {},
   "outputs": [],
   "source": [
    "class Linear():\n",
    "    '''Affine layer with weight and bias initialized using Kaiming initialization'''\n",
    "    def __init__(self, in_size, out_size):\n",
    "        self.weight = torch.randn(in_size, out_size) * math.sqrt(2/in_size)\n",
    "        self.bias = torch.zeros(out_size)\n",
    "    \n",
    "    def __repr__(self):\n",
    "        return f\"(Linear: in={self.weight.shape[0]} out={self.weight.shape[1]})\"\n",
    "        \n",
    "    def forward(self, x):\n",
    "        self.x = x\n",
    "        self.y = self.x@self.weight + self.bias \n",
    "        return self.y\n",
    "    \n",
    "    def backward(self):\n",
    "        self.weight.g = self.x.t() @ self.y.g \n",
    "        self.bias.g = self.y.g\n",
    "        self.x.g = self.y.g @ self.weight.t()"
   ]
  },
  {
   "cell_type": "markdown",
   "metadata": {},
   "source": [
    "## Activation Layer"
   ]
  },
  {
   "cell_type": "code",
   "execution_count": 13,
   "metadata": {},
   "outputs": [],
   "source": [
    "class ReLU():\n",
    "    '''Rectified Linear Unit Layer'''\n",
    "    \n",
    "    def __init__(self, shift=0.):\n",
    "        self.shift = shift\n",
    "    \n",
    "    def __repr__(self):\n",
    "        return f\"(ReLU: shift={self.shift})\"\n",
    "    \n",
    "    def forward(self, x):\n",
    "        self.x = x\n",
    "        self.y = self.x.clamp_min(0.) - self.shift \n",
    "        return self.y\n",
    "    \n",
    "    def backward(self):\n",
    "        self.x.g = self.y.g * (self.x>0).float()"
   ]
  },
  {
   "cell_type": "markdown",
   "metadata": {},
   "source": [
    "## Loss Layer"
   ]
  },
  {
   "cell_type": "code",
   "execution_count": 14,
   "metadata": {},
   "outputs": [],
   "source": [
    "class MSE():\n",
    "    '''Mean Squared Error Layer'''\n",
    "    \n",
    "    def __repr__(self):\n",
    "        return \"Loss: Mean Squared Error\"\n",
    "    \n",
    "    def forward(self, y_pred, y_true):\n",
    "        self.x1 = y_pred\n",
    "        self.x2 = y_true\n",
    "        self.y = (self.x1-self.x2).pow(2).mean() \n",
    "        return self.y\n",
    "    \n",
    "    def backward(self):\n",
    "        self.x1.g = 2 * (self.x1-self.x2) / self.x1.shape[0]"
   ]
  },
  {
   "cell_type": "markdown",
   "metadata": {},
   "source": [
    "## Feedforward Network"
   ]
  },
  {
   "cell_type": "code",
   "execution_count": 15,
   "metadata": {},
   "outputs": [],
   "source": [
    "class FeedForwardNN():\n",
    "    '''Feedforward neural network'''\n",
    "\n",
    "    def __init__(self, x_dim, y_dim, n_layers):\n",
    "        # get an exponentially spaced array of layer dimensions\n",
    "        def _exp(pos): return math.ceil(x_dim * (y_dim/x_dim)**pos)\n",
    "        layer_dims  = [_exp(pos/n_layers) for pos in range(0, n_layers+1)]\n",
    "        # construct the list of layers\n",
    "        self.layers = []\n",
    "        for i in range(n_layers):\n",
    "            in_dim, out_dim = layer_dims[i], layer_dims[i+1]\n",
    "            self.layers.append(Linear(in_dim, out_dim))\n",
    "            self.layers.append(ReLU())\n",
    "        self.loss = MSE()\n",
    "        \n",
    "    def __repr__(self):\n",
    "        model_str = \"\\n\".join(l.__repr__() for l in self.layers)\n",
    "        model_str += \"\\n\" + self.loss.__repr__()\n",
    "        return model_str\n",
    "    \n",
    "    def forward(self, x):\n",
    "        for l in self.layers:\n",
    "            x = l.forward(x)\n",
    "        return x\n",
    "    \n",
    "    def backward(self):\n",
    "        self.loss.backward()\n",
    "        for layer in reversed(self.layers):\n",
    "            layer.backward()"
   ]
  },
  {
   "cell_type": "code",
   "execution_count": 16,
   "metadata": {},
   "outputs": [
    {
     "data": {
      "text/plain": [
       "(Linear: in=784 out=207)\n",
       "(ReLU: shift=0.0)\n",
       "(Linear: in=207 out=55)\n",
       "(ReLU: shift=0.0)\n",
       "(Linear: in=55 out=15)\n",
       "(ReLU: shift=0.0)\n",
       "(Linear: in=15 out=4)\n",
       "(ReLU: shift=0.0)\n",
       "(Linear: in=4 out=1)\n",
       "(ReLU: shift=0.0)\n",
       "Loss: Mean Squared Error"
      ]
     },
     "execution_count": 16,
     "metadata": {},
     "output_type": "execute_result"
    }
   ],
   "source": [
    "model = FeedForwardNN(x_dim=784, y_dim=1, n_layers=5)\n",
    "model"
   ]
  },
  {
   "cell_type": "code",
   "execution_count": 17,
   "metadata": {},
   "outputs": [],
   "source": [
    "y_pred = model.forward(x_train)\n",
    "loss = model.loss.forward(y_pred.float(), y_train.unsqueeze(-1).float())\n",
    "model.backward()"
   ]
  },
  {
   "cell_type": "markdown",
   "metadata": {},
   "source": [
    "# Refactor & Redesign"
   ]
  },
  {
   "cell_type": "markdown",
   "metadata": {},
   "source": [
    "## Abstract Layer Class"
   ]
  },
  {
   "cell_type": "code",
   "execution_count": 18,
   "metadata": {},
   "outputs": [],
   "source": [
    "class Layer():\n",
    "    '''Abstract Layer class like PyTorch's nn.Module'''\n",
    "    \n",
    "    def __call__(self, *args):\n",
    "        self.args = args\n",
    "        self.y = self.forward(*self.args)\n",
    "        return self.y\n",
    "\n",
    "    def __repr__(self):\n",
    "        raise NotImplementedError(\"__repr__ method not implemented\")\n",
    "\n",
    "    def forward(self, *args):\n",
    "        raise NotImplementedError(\"forward method not implemented\")\n",
    "        \n",
    "    def backward(self):\n",
    "        raise NotImplementedError(\"backward method not implemented\")"
   ]
  },
  {
   "cell_type": "markdown",
   "metadata": {},
   "source": [
    "## Linear Layer"
   ]
  },
  {
   "cell_type": "code",
   "execution_count": 19,
   "metadata": {},
   "outputs": [],
   "source": [
    "class Linear(Layer):\n",
    "    '''Affine layer with weight and bias initialized using Kaiming initialization'''\n",
    "    def __init__(self, in_size, out_size):\n",
    "        self.weight = torch.randn(in_size, out_size) * math.sqrt(2/in_size)\n",
    "        self.bias = torch.zeros(out_size)\n",
    "    \n",
    "    def __repr__(self):\n",
    "        return f\"(Linear: in={self.weight.shape[0]} out={self.weight.shape[1]})\"\n",
    "        \n",
    "    def forward(self, x):\n",
    "        return x@self.weight + self.bias \n",
    "    \n",
    "    def backward(self):\n",
    "        self.weight.g = self.args[0].t() @ self.y.g \n",
    "        self.bias.g = self.y.g\n",
    "        self.args[0].g = self.y.g @ self.weight.t()"
   ]
  },
  {
   "cell_type": "markdown",
   "metadata": {},
   "source": [
    "## Activation Layer"
   ]
  },
  {
   "cell_type": "code",
   "execution_count": 20,
   "metadata": {},
   "outputs": [],
   "source": [
    "class ReLU(Layer):\n",
    "    '''Rectified Linear Unit Layer'''\n",
    "    \n",
    "    def __init__(self, shift=0.):\n",
    "        self.shift = shift\n",
    "    \n",
    "    def __repr__(self):\n",
    "        return f\"(ReLU: shift={self.shift})\"\n",
    "    \n",
    "    def forward(self, x):\n",
    "        return x.clamp_min(0.) - self.shift\n",
    "    \n",
    "    def backward(self):\n",
    "        self.args[0].g = self.y.g * (self.args[0]>0).float()"
   ]
  },
  {
   "cell_type": "markdown",
   "metadata": {},
   "source": [
    "## Loss Layer"
   ]
  },
  {
   "cell_type": "code",
   "execution_count": 21,
   "metadata": {},
   "outputs": [],
   "source": [
    "class MSE(Layer):\n",
    "    '''Mean Squared Error Layer'''\n",
    "    \n",
    "    def __repr__(self):\n",
    "        return \"Loss: Mean Squared Error\"\n",
    "    \n",
    "    def forward(self, y_pred, y_true):\n",
    "        return (y_pred-y_true).pow(2).mean()\n",
    "    \n",
    "    def backward(self):\n",
    "        n = self.args[0].shape[0]\n",
    "        self.args[0].g = 2 * (self.args[0] - self.args[1]) / n"
   ]
  },
  {
   "cell_type": "markdown",
   "metadata": {},
   "source": [
    "## Feedforward Network"
   ]
  },
  {
   "cell_type": "code",
   "execution_count": 22,
   "metadata": {},
   "outputs": [],
   "source": [
    "class FeedForwardNN(Layer):\n",
    "    '''Feedforward neural network'''\n",
    "\n",
    "    def __init__(self, x_dim, y_dim, n_layers):\n",
    "        # get an exponentially spaced array of layer dimensions\n",
    "        def _exp(pos): return math.ceil(x_dim * (y_dim/x_dim)**pos)\n",
    "        layer_dims  = [_exp(pos/n_layers) for pos in range(0, n_layers+1)]\n",
    "        # construct the list of layers\n",
    "        self.layers = []\n",
    "        for i in range(n_layers):\n",
    "            in_dim, out_dim = layer_dims[i], layer_dims[i+1]\n",
    "            self.layers.append(Linear(in_dim, out_dim))\n",
    "            self.layers.append(ReLU())\n",
    "        self.loss = MSE()\n",
    "            \n",
    "    def __repr__(self):\n",
    "        model_str = \"\\n\".join(l.__repr__() for l in self.layers)\n",
    "        model_str += \"\\n\" + self.loss.__repr__()\n",
    "        return model_str\n",
    "    \n",
    "    def forward(self, x):\n",
    "        for l in self.layers:\n",
    "            x = l(x)\n",
    "        return x\n",
    "    \n",
    "    def backward(self):\n",
    "        self.loss.backward()\n",
    "        for layer in reversed(self.layers):\n",
    "            layer.backward()"
   ]
  },
  {
   "cell_type": "code",
   "execution_count": 23,
   "metadata": {},
   "outputs": [
    {
     "data": {
      "text/plain": [
       "(Linear: in=784 out=207)\n",
       "(ReLU: shift=0.0)\n",
       "(Linear: in=207 out=55)\n",
       "(ReLU: shift=0.0)\n",
       "(Linear: in=55 out=15)\n",
       "(ReLU: shift=0.0)\n",
       "(Linear: in=15 out=4)\n",
       "(ReLU: shift=0.0)\n",
       "(Linear: in=4 out=1)\n",
       "(ReLU: shift=0.0)\n",
       "Loss: Mean Squared Error"
      ]
     },
     "execution_count": 23,
     "metadata": {},
     "output_type": "execute_result"
    }
   ],
   "source": [
    "model = FeedForwardNN(x_dim=784, y_dim=1, n_layers=5)\n",
    "model"
   ]
  },
  {
   "cell_type": "code",
   "execution_count": 24,
   "metadata": {},
   "outputs": [],
   "source": [
    "y_pred = model(x_train)\n",
    "loss = model.loss(y_pred.float(), y_train.unsqueeze(-1).float())\n",
    "model.backward()"
   ]
  },
  {
   "cell_type": "markdown",
   "metadata": {},
   "source": [
    "# Comparison with PyTorch's Autograd"
   ]
  },
  {
   "cell_type": "code",
   "execution_count": 25,
   "metadata": {},
   "outputs": [],
   "source": [
    "import timeit\n",
    "from functools import partial\n",
    "from torch import nn"
   ]
  },
  {
   "cell_type": "code",
   "execution_count": 26,
   "metadata": {},
   "outputs": [
    {
     "data": {
      "text/plain": [
       "<torch._C.Generator at 0x7f346405e8f0>"
      ]
     },
     "execution_count": 26,
     "metadata": {},
     "output_type": "execute_result"
    }
   ],
   "source": [
    "torch.manual_seed(42)"
   ]
  },
  {
   "cell_type": "markdown",
   "metadata": {},
   "source": [
    "## PyTorch's Performance"
   ]
  },
  {
   "cell_type": "code",
   "execution_count": 27,
   "metadata": {},
   "outputs": [],
   "source": [
    "class TorchModel(nn.Module):\n",
    "    \n",
    "    def __init__(self, x_dim, h_dim, y_dim):\n",
    "        super().__init__()\n",
    "        self.layers = [nn.Linear(x_dim, h_dim),\n",
    "                       nn.ReLU(),\n",
    "                       nn.Linear(h_dim,y_dim)]\n",
    "        self.loss = nn.MSELoss()\n",
    "\n",
    "    def forward(self, x):\n",
    "        for l in self.layers:\n",
    "            x = l(x)\n",
    "        return x"
   ]
  },
  {
   "cell_type": "code",
   "execution_count": 28,
   "metadata": {},
   "outputs": [],
   "source": [
    "torch_model = TorchModel(784, 400, 1)"
   ]
  },
  {
   "cell_type": "code",
   "execution_count": 29,
   "metadata": {},
   "outputs": [],
   "source": [
    "torch_forward = timeit.timeit(partial(torch_model,x_train), number=10)\n",
    "y_pred = torch_model(x_train)\n",
    "loss = torch_model.loss(y_pred, y_train.unsqueeze(-1).float())\n",
    "torch_backward = timeit.timeit(loss.backward, number=1)"
   ]
  },
  {
   "cell_type": "code",
   "execution_count": 30,
   "metadata": {},
   "outputs": [
    {
     "data": {
      "text/plain": [
       "(1.3273273869999684, 0.23294704500040098)"
      ]
     },
     "execution_count": 30,
     "metadata": {},
     "output_type": "execute_result"
    }
   ],
   "source": [
    "torch_forward, torch_backward"
   ]
  },
  {
   "cell_type": "markdown",
   "metadata": {},
   "source": [
    "## Our Model's Performance"
   ]
  },
  {
   "cell_type": "code",
   "execution_count": 31,
   "metadata": {},
   "outputs": [],
   "source": [
    "class OurModel(Layer):\n",
    "    \n",
    "    def __init__(self, x_dim, h_dim, y_dim):\n",
    "        self.layers = [Linear(x_dim, h_dim),\n",
    "                       ReLU(),\n",
    "                       Linear(h_dim, y_dim)]\n",
    "        self.loss = MSE()\n",
    "    \n",
    "    def forward(self, x):\n",
    "        for l in self.layers:\n",
    "            x = l(x)\n",
    "        return x\n",
    "    \n",
    "    def backward(self):\n",
    "        self.loss.backward()\n",
    "        for layer in reversed(self.layers):\n",
    "            layer.backward()"
   ]
  },
  {
   "cell_type": "code",
   "execution_count": 32,
   "metadata": {},
   "outputs": [],
   "source": [
    "model = OurModel(784, 400, 1)"
   ]
  },
  {
   "cell_type": "code",
   "execution_count": 33,
   "metadata": {},
   "outputs": [],
   "source": [
    "forward = timeit.timeit(partial(model,x_train), number=10)\n",
    "y_pred = model(x_train)\n",
    "loss = model.loss(y_pred, y_train.unsqueeze(-1).float())\n",
    "backward = timeit.timeit(model.backward, number=1)"
   ]
  },
  {
   "cell_type": "code",
   "execution_count": 34,
   "metadata": {},
   "outputs": [
    {
     "data": {
      "text/plain": [
       "(1.7871809229991413, 0.2806604300003528)"
      ]
     },
     "execution_count": 34,
     "metadata": {},
     "output_type": "execute_result"
    }
   ],
   "source": [
    "forward, backward"
   ]
  },
  {
   "cell_type": "markdown",
   "metadata": {},
   "source": [
    "**TODO**:\n",
    "* [ ] Write a reproducible test for correctness of gradient calculation    "
   ]
  },
  {
   "cell_type": "markdown",
   "metadata": {},
   "source": [
    "___"
   ]
  }
 ],
 "metadata": {
  "kernelspec": {
   "display_name": "Python [conda env:prod] *",
   "language": "python",
   "name": "conda-env-prod-py"
  },
  "language_info": {
   "codemirror_mode": {
    "name": "ipython",
    "version": 3
   },
   "file_extension": ".py",
   "mimetype": "text/x-python",
   "name": "python",
   "nbconvert_exporter": "python",
   "pygments_lexer": "ipython3",
   "version": "3.7.5"
  },
  "toc": {
   "base_numbering": 1,
   "nav_menu": {},
   "number_sections": true,
   "sideBar": true,
   "skip_h1_title": false,
   "title_cell": "Table of Contents",
   "title_sidebar": "Contents",
   "toc_cell": true,
   "toc_position": {},
   "toc_section_display": true,
   "toc_window_display": true
  }
 },
 "nbformat": 4,
 "nbformat_minor": 4
}
