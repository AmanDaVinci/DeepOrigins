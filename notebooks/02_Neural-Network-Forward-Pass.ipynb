{
 "cells": [
  {
   "cell_type": "markdown",
   "metadata": {},
   "source": [
    "# The Forward Pass\n",
    "---"
   ]
  },
  {
   "cell_type": "markdown",
   "metadata": {
    "toc": true
   },
   "source": [
    "<h1>Table of Contents<span class=\"tocSkip\"></span></h1>\n",
    "<div class=\"toc\"><ul class=\"toc-item\"><li><span><a href=\"#The-Forward-Pass\" data-toc-modified-id=\"The-Forward-Pass-1\"><span class=\"toc-item-num\">1&nbsp;&nbsp;</span>The Forward Pass</a></span><ul class=\"toc-item\"><li><span><a href=\"#Import-Libraries\" data-toc-modified-id=\"Import-Libraries-1.1\"><span class=\"toc-item-num\">1.1&nbsp;&nbsp;</span>Import Libraries</a></span></li><li><span><a href=\"#Load-Data\" data-toc-modified-id=\"Load-Data-1.2\"><span class=\"toc-item-num\">1.2&nbsp;&nbsp;</span>Load Data</a></span></li><li><span><a href=\"#Tests\" data-toc-modified-id=\"Tests-1.3\"><span class=\"toc-item-num\">1.3&nbsp;&nbsp;</span>Tests</a></span></li><li><span><a href=\"#Normalize-Data\" data-toc-modified-id=\"Normalize-Data-1.4\"><span class=\"toc-item-num\">1.4&nbsp;&nbsp;</span>Normalize Data</a></span></li></ul></li><li><span><a href=\"#Why-is-it-difficult-to-train-feedforward-neural-networks?\" data-toc-modified-id=\"Why-is-it-difficult-to-train-feedforward-neural-networks?-2\"><span class=\"toc-item-num\">2&nbsp;&nbsp;</span>Why is it difficult to train feedforward neural networks?</a></span><ul class=\"toc-item\"><li><span><a href=\"#Problem:-Exploding-Activations\" data-toc-modified-id=\"Problem:-Exploding-Activations-2.1\"><span class=\"toc-item-num\">2.1&nbsp;&nbsp;</span>Problem: Exploding Activations</a></span></li><li><span><a href=\"#Solution:-Xavier-Initialization\" data-toc-modified-id=\"Solution:-Xavier-Initialization-2.2\"><span class=\"toc-item-num\">2.2&nbsp;&nbsp;</span>Solution: Xavier Initialization</a></span></li><li><span><a href=\"#Problem:-Vanishing-Activations\" data-toc-modified-id=\"Problem:-Vanishing-Activations-2.3\"><span class=\"toc-item-num\">2.3&nbsp;&nbsp;</span>Problem: Vanishing Activations</a></span></li><li><span><a href=\"#Solution:-Kaiming-Initialization\" data-toc-modified-id=\"Solution:-Kaiming-Initialization-2.4\"><span class=\"toc-item-num\">2.4&nbsp;&nbsp;</span>Solution: Kaiming Initialization</a></span></li><li><span><a href=\"#Shifted-Relu:-Better-Solution?\" data-toc-modified-id=\"Shifted-Relu:-Better-Solution?-2.5\"><span class=\"toc-item-num\">2.5&nbsp;&nbsp;</span>Shifted Relu: Better Solution?</a></span></li></ul></li><li><span><a href=\"#Feedforward-Neural-Network\" data-toc-modified-id=\"Feedforward-Neural-Network-3\"><span class=\"toc-item-num\">3&nbsp;&nbsp;</span>Feedforward Neural Network</a></span><ul class=\"toc-item\"><li><span><a href=\"#Linear-Layer\" data-toc-modified-id=\"Linear-Layer-3.1\"><span class=\"toc-item-num\">3.1&nbsp;&nbsp;</span>Linear Layer</a></span></li><li><span><a href=\"#Activation-Layer\" data-toc-modified-id=\"Activation-Layer-3.2\"><span class=\"toc-item-num\">3.2&nbsp;&nbsp;</span>Activation Layer</a></span></li><li><span><a href=\"#Feedforward-Network\" data-toc-modified-id=\"Feedforward-Network-3.3\"><span class=\"toc-item-num\">3.3&nbsp;&nbsp;</span>Feedforward Network</a></span></li></ul></li><li><span><a href=\"#Evaluation\" data-toc-modified-id=\"Evaluation-4\"><span class=\"toc-item-num\">4&nbsp;&nbsp;</span>Evaluation</a></span><ul class=\"toc-item\"><li><span><a href=\"#Mean-Squared-Error\" data-toc-modified-id=\"Mean-Squared-Error-4.1\"><span class=\"toc-item-num\">4.1&nbsp;&nbsp;</span>Mean Squared Error</a></span></li><li><span><a href=\"#Cross-Entropy-Loss\" data-toc-modified-id=\"Cross-Entropy-Loss-4.2\"><span class=\"toc-item-num\">4.2&nbsp;&nbsp;</span>Cross Entropy Loss</a></span><ul class=\"toc-item\"><li><span><a href=\"#Softmax\" data-toc-modified-id=\"Softmax-4.2.1\"><span class=\"toc-item-num\">4.2.1&nbsp;&nbsp;</span>Softmax</a></span></li><li><span><a href=\"#Negative-Log-Likelihood\" data-toc-modified-id=\"Negative-Log-Likelihood-4.2.2\"><span class=\"toc-item-num\">4.2.2&nbsp;&nbsp;</span>Negative Log Likelihood</a></span></li><li><span><a href=\"#Cross-Entropy-Loss\" data-toc-modified-id=\"Cross-Entropy-Loss-4.2.3\"><span class=\"toc-item-num\">4.2.3&nbsp;&nbsp;</span>Cross Entropy Loss</a></span></li></ul></li></ul></li></ul></div>"
   ]
  },
  {
   "cell_type": "markdown",
   "metadata": {},
   "source": [
    "## Import Libraries"
   ]
  },
  {
   "cell_type": "code",
   "execution_count": 1,
   "metadata": {},
   "outputs": [],
   "source": [
    "import math\n",
    "import operator\n",
    "\n",
    "import torch\n",
    "from torchvision.datasets import MNIST\n",
    "\n",
    "import matplotlib.pyplot as plt\n",
    "%matplotlib inline"
   ]
  },
  {
   "cell_type": "markdown",
   "metadata": {},
   "source": [
    "## Load Data"
   ]
  },
  {
   "cell_type": "code",
   "execution_count": 2,
   "metadata": {},
   "outputs": [],
   "source": [
    "dataset = MNIST(root=\"../data/\")"
   ]
  },
  {
   "cell_type": "code",
   "execution_count": 3,
   "metadata": {},
   "outputs": [
    {
     "data": {
      "text/plain": [
       "(torch.Size([50000, 28, 28]), torch.Size([10000, 28, 28]))"
      ]
     },
     "execution_count": 3,
     "metadata": {},
     "output_type": "execute_result"
    }
   ],
   "source": [
    "x, y = dataset.data.float(), dataset.targets\n",
    "x_train, x_test = x[:50000], x[50000:]\n",
    "y_train, y_test = y[:50000], y[50000:]\n",
    "\n",
    "x_train.shape, x_test.shape"
   ]
  },
  {
   "cell_type": "code",
   "execution_count": 4,
   "metadata": {},
   "outputs": [
    {
     "data": {
      "text/plain": [
       "<matplotlib.image.AxesImage at 0x7f6e19291b50>"
      ]
     },
     "execution_count": 4,
     "metadata": {},
     "output_type": "execute_result"
    },
    {
     "data": {
      "image/png": "[encoded data removed]",
      "text/plain": [
       "<Figure size 432x288 with 1 Axes>"
      ]
     },
     "metadata": {
      "needs_background": "light"
     },
     "output_type": "display_data"
    }
   ],
   "source": [
    "plt.imshow(x_train[0])"
   ]
  },
  {
   "cell_type": "code",
   "execution_count": 5,
   "metadata": {},
   "outputs": [],
   "source": [
    "x_train = x_train.reshape(x_train.shape[0],x_train.shape[1]*x_train.shape[2])\n",
    "x_test = x_test.reshape(x_test.shape[0],x_test.shape[1]*x_test.shape[2])"
   ]
  },
  {
   "cell_type": "code",
   "execution_count": 6,
   "metadata": {},
   "outputs": [
    {
     "data": {
      "text/plain": [
       "(50000, 784, 9)"
      ]
     },
     "execution_count": 6,
     "metadata": {},
     "output_type": "execute_result"
    }
   ],
   "source": [
    "n, m = x_train.shape\n",
    "c = (y_train.max() - y_train.min()).item()\n",
    "n, m, c"
   ]
  },
  {
   "cell_type": "markdown",
   "metadata": {},
   "source": [
    "## Tests"
   ]
  },
  {
   "cell_type": "code",
   "execution_count": 7,
   "metadata": {},
   "outputs": [],
   "source": [
    "def stats(x):\n",
    "    shape = f\"Shape: {' x '.join(str(dim) for dim in x.shape)}\"\n",
    "    mean = f\"Mean: {x.mean():.3f}\"\n",
    "    std = f\"Std: {x.std():.3f}\"\n",
    "    print(\"\\n\".join([shape,mean,std]))"
   ]
  },
  {
   "cell_type": "markdown",
   "metadata": {},
   "source": [
    "## Normalize Data"
   ]
  },
  {
   "cell_type": "code",
   "execution_count": 8,
   "metadata": {},
   "outputs": [],
   "source": [
    "def normalize(x, mean, std):\n",
    "    return (x-mean)/std"
   ]
  },
  {
   "cell_type": "code",
   "execution_count": 9,
   "metadata": {},
   "outputs": [],
   "source": [
    "train_mean = x_train.mean()\n",
    "train_std = x_train.std()"
   ]
  },
  {
   "cell_type": "code",
   "execution_count": 10,
   "metadata": {},
   "outputs": [],
   "source": [
    "x_train = normalize(x_train, train_mean, train_std)\n",
    "x_test = normalize(x_test, train_mean, train_std)"
   ]
  },
  {
   "cell_type": "code",
   "execution_count": 11,
   "metadata": {},
   "outputs": [
    {
     "data": {
      "text/plain": [
       "<matplotlib.image.AxesImage at 0x7f6e1919d690>"
      ]
     },
     "execution_count": 11,
     "metadata": {},
     "output_type": "execute_result"
    },
    {
     "data": {
      "image/png": "[encoded data removed]",
      "text/plain": [
       "<Figure size 432x288 with 1 Axes>"
      ]
     },
     "metadata": {
      "needs_background": "light"
     },
     "output_type": "display_data"
    }
   ],
   "source": [
    "plt.imshow(x_test[0].view(28,28))"
   ]
  },
  {
   "cell_type": "markdown",
   "metadata": {},
   "source": [
    "# Why is it difficult to train feedforward neural networks?"
   ]
  },
  {
   "cell_type": "markdown",
   "metadata": {},
   "source": [
    "Based on [Understanding the difficulty of training deep feedforward neural networks](http://proceedings.mlr.press/v9/glorot10a.html) by Xavier Glorot, Yoshua Bengio ; Proceedings of the Thirteenth International Conference on Artificial Intelligence and Statistics, JMLR Workshop and Conference Proceedings 9:249-256, 2010.\n"
   ]
  },
  {
   "cell_type": "markdown",
   "metadata": {},
   "source": [
    "## Problem: Exploding Activations"
   ]
  },
  {
   "cell_type": "markdown",
   "metadata": {},
   "source": [
    "**Initializing linear layers**"
   ]
  },
  {
   "cell_type": "code",
   "execution_count": 12,
   "metadata": {},
   "outputs": [],
   "source": [
    "nh1 = m//2\n",
    "w1 = torch.randn(m, nh1)\n",
    "b1 = torch.zeros(nh1)\n",
    "\n",
    "nh2 = nh1//2 \n",
    "w2 = torch.randn(nh1, nh2)\n",
    "b2 = torch.zeros(nh2)\n",
    "\n",
    "nh3 = nh2//2\n",
    "w3 = torch.randn(nh2, nh3)\n",
    "b3 = torch.zeros(nh3)\n",
    "\n",
    "nh4 = nh3//2\n",
    "w4 = torch.randn(nh3, nh4)\n",
    "b4 = torch.zeros(nh4)"
   ]
  },
  {
   "cell_type": "markdown",
   "metadata": {},
   "source": [
    "**Forward Pass**"
   ]
  },
  {
   "cell_type": "code",
   "execution_count": 13,
   "metadata": {},
   "outputs": [
    {
     "name": "stdout",
     "output_type": "stream",
     "text": [
      "Shape: 50000 x 784\n",
      "Mean: -0.000\n",
      "Std: 1.000\n"
     ]
    }
   ],
   "source": [
    "stats(x_train)"
   ]
  },
  {
   "cell_type": "code",
   "execution_count": 14,
   "metadata": {},
   "outputs": [
    {
     "name": "stdout",
     "output_type": "stream",
     "text": [
      "Shape: 50000 x 392\n",
      "Mean: -1.104\n",
      "Std: 28.021\n"
     ]
    }
   ],
   "source": [
    "h1 = x_train@w1 + b1\n",
    "stats(h1)"
   ]
  },
  {
   "cell_type": "code",
   "execution_count": 15,
   "metadata": {},
   "outputs": [
    {
     "name": "stdout",
     "output_type": "stream",
     "text": [
      "Shape: 50000 x 196\n",
      "Mean: 2.195\n",
      "Std: 560.403\n"
     ]
    }
   ],
   "source": [
    "h2 = h1@w2 + b2\n",
    "stats(h2)"
   ]
  },
  {
   "cell_type": "code",
   "execution_count": 16,
   "metadata": {},
   "outputs": [
    {
     "name": "stdout",
     "output_type": "stream",
     "text": [
      "Shape: 50000 x 98\n",
      "Mean: -675.057\n",
      "Std: 8122.958\n"
     ]
    }
   ],
   "source": [
    "h3 = h2@w3 + b3\n",
    "stats(h3)"
   ]
  },
  {
   "cell_type": "code",
   "execution_count": 17,
   "metadata": {},
   "outputs": [
    {
     "name": "stdout",
     "output_type": "stream",
     "text": [
      "Shape: 50000 x 49\n",
      "Mean: 9956.677\n",
      "Std: 84953.578\n"
     ]
    }
   ],
   "source": [
    "h4 = h3@w4 + b4\n",
    "stats(h4)"
   ]
  },
  {
   "cell_type": "markdown",
   "metadata": {},
   "source": [
    "**We observe exploding activations as their standard deviations and mean increase drastically at every layer**"
   ]
  },
  {
   "cell_type": "markdown",
   "metadata": {},
   "source": [
    "## Solution: Xavier Initialization"
   ]
  },
  {
   "cell_type": "markdown",
   "metadata": {},
   "source": [
    "**Initializing linear layers with Xaiver Initialization**"
   ]
  },
  {
   "cell_type": "code",
   "execution_count": 18,
   "metadata": {},
   "outputs": [],
   "source": [
    "nh1 = m//2\n",
    "w1 = torch.randn(m, nh1) / math.sqrt(m)\n",
    "b1 = torch.zeros(nh1)\n",
    "\n",
    "nh2 = nh1//2 \n",
    "w2 = torch.randn(nh1, nh2) / math.sqrt(nh1) \n",
    "b2 = torch.zeros(nh2)\n",
    "\n",
    "nh3 = nh2//2\n",
    "w3 = torch.randn(nh2, nh3) / math.sqrt(nh2)\n",
    "b3 = torch.zeros(nh3)\n",
    "\n",
    "nh4 = nh3//2\n",
    "w4 = torch.randn(nh3, nh4) / math.sqrt(nh1)\n",
    "b4 = torch.zeros(nh4)"
   ]
  },
  {
   "cell_type": "markdown",
   "metadata": {},
   "source": [
    "**Forward Pass**"
   ]
  },
  {
   "cell_type": "code",
   "execution_count": 19,
   "metadata": {},
   "outputs": [
    {
     "name": "stdout",
     "output_type": "stream",
     "text": [
      "Shape: 50000 x 784\n",
      "Mean: -0.000\n",
      "Std: 1.000\n"
     ]
    }
   ],
   "source": [
    "stats(x_train)"
   ]
  },
  {
   "cell_type": "code",
   "execution_count": 20,
   "metadata": {},
   "outputs": [
    {
     "name": "stdout",
     "output_type": "stream",
     "text": [
      "Shape: 50000 x 392\n",
      "Mean: -0.041\n",
      "Std: 1.030\n"
     ]
    }
   ],
   "source": [
    "h1 = x_train@w1 + b1\n",
    "stats(h1)"
   ]
  },
  {
   "cell_type": "code",
   "execution_count": 21,
   "metadata": {},
   "outputs": [
    {
     "name": "stdout",
     "output_type": "stream",
     "text": [
      "Shape: 50000 x 196\n",
      "Mean: 0.055\n",
      "Std: 1.052\n"
     ]
    }
   ],
   "source": [
    "h2 = h1@w2 + b2\n",
    "stats(h2)"
   ]
  },
  {
   "cell_type": "code",
   "execution_count": 22,
   "metadata": {},
   "outputs": [
    {
     "name": "stdout",
     "output_type": "stream",
     "text": [
      "Shape: 50000 x 98\n",
      "Mean: -0.042\n",
      "Std: 1.059\n"
     ]
    }
   ],
   "source": [
    "h3 = h2@w3 + b3\n",
    "stats(h3)"
   ]
  },
  {
   "cell_type": "code",
   "execution_count": 23,
   "metadata": {},
   "outputs": [
    {
     "name": "stdout",
     "output_type": "stream",
     "text": [
      "Shape: 50000 x 49\n",
      "Mean: 0.026\n",
      "Std: 0.541\n"
     ]
    }
   ],
   "source": [
    "h4 = h3@w4 + b4\n",
    "stats(h4)"
   ]
  },
  {
   "cell_type": "markdown",
   "metadata": {},
   "source": [
    "**The mean & std of activations remain fairly close to 0 and 1 respectively.**"
   ]
  },
  {
   "cell_type": "markdown",
   "metadata": {},
   "source": [
    "## Problem: Vanishing Activations"
   ]
  },
  {
   "cell_type": "markdown",
   "metadata": {},
   "source": [
    "**Linear layers with Relu activation**"
   ]
  },
  {
   "cell_type": "code",
   "execution_count": 24,
   "metadata": {},
   "outputs": [],
   "source": [
    "def relu(x):\n",
    "    return x.clamp_min(0.)"
   ]
  },
  {
   "cell_type": "code",
   "execution_count": 25,
   "metadata": {},
   "outputs": [],
   "source": [
    "def linear_relu(x, weight, bias):\n",
    "    return relu(x@weight + bias)"
   ]
  },
  {
   "cell_type": "markdown",
   "metadata": {},
   "source": [
    "**Forward Pass**"
   ]
  },
  {
   "cell_type": "code",
   "execution_count": 26,
   "metadata": {},
   "outputs": [
    {
     "name": "stdout",
     "output_type": "stream",
     "text": [
      "Shape: 50000 x 784\n",
      "Mean: -0.000\n",
      "Std: 1.000\n"
     ]
    }
   ],
   "source": [
    "stats(x_train)"
   ]
  },
  {
   "cell_type": "code",
   "execution_count": 27,
   "metadata": {},
   "outputs": [
    {
     "name": "stdout",
     "output_type": "stream",
     "text": [
      "Shape: 50000 x 392\n",
      "Mean: 0.385\n",
      "Std: 0.597\n"
     ]
    }
   ],
   "source": [
    "h1 = linear_relu(x_train, w1, b1)\n",
    "stats(h1)"
   ]
  },
  {
   "cell_type": "code",
   "execution_count": 28,
   "metadata": {},
   "outputs": [
    {
     "name": "stdout",
     "output_type": "stream",
     "text": [
      "Shape: 50000 x 196\n",
      "Mean: 0.298\n",
      "Std: 0.430\n"
     ]
    }
   ],
   "source": [
    "h2 = linear_relu(h1, w2, b2)\n",
    "stats(h2)"
   ]
  },
  {
   "cell_type": "code",
   "execution_count": 29,
   "metadata": {},
   "outputs": [
    {
     "name": "stdout",
     "output_type": "stream",
     "text": [
      "Shape: 50000 x 98\n",
      "Mean: 0.204\n",
      "Std: 0.320\n"
     ]
    }
   ],
   "source": [
    "h3 = linear_relu(h2, w3, b3)\n",
    "stats(h3)"
   ]
  },
  {
   "cell_type": "code",
   "execution_count": 30,
   "metadata": {},
   "outputs": [
    {
     "name": "stdout",
     "output_type": "stream",
     "text": [
      "Shape: 50000 x 49\n",
      "Mean: 0.094\n",
      "Std: 0.132\n"
     ]
    }
   ],
   "source": [
    "h4 = linear_relu(h3, w4, b4)\n",
    "stats(h4)"
   ]
  },
  {
   "cell_type": "markdown",
   "metadata": {},
   "source": [
    "**We observe the activations vanishing as their standard deviation halves approximately at every layer**"
   ]
  },
  {
   "cell_type": "markdown",
   "metadata": {},
   "source": [
    "## Solution: Kaiming Initialization"
   ]
  },
  {
   "cell_type": "markdown",
   "metadata": {},
   "source": [
    "**Initializing linear layers with Kaiming Initialization**"
   ]
  },
  {
   "cell_type": "code",
   "execution_count": 31,
   "metadata": {},
   "outputs": [],
   "source": [
    "nh1 = m//2\n",
    "w1 = torch.randn(m, nh1) * math.sqrt(2/m)\n",
    "b1 = torch.zeros(nh1)\n",
    "\n",
    "nh2 = nh1//2 \n",
    "w2 = torch.randn(nh1, nh2) * math.sqrt(2/nh1) \n",
    "b2 = torch.zeros(nh2)\n",
    "\n",
    "nh3 = nh2//2\n",
    "w3 = torch.randn(nh2, nh3) * math.sqrt(2/nh2)\n",
    "b3 = torch.zeros(nh3)\n",
    "\n",
    "nh4 = nh3//2\n",
    "w4 = torch.randn(nh3, nh4) * math.sqrt(2/nh1)\n",
    "b4 = torch.zeros(nh4)"
   ]
  },
  {
   "cell_type": "markdown",
   "metadata": {},
   "source": [
    "**Forward Pass**"
   ]
  },
  {
   "cell_type": "code",
   "execution_count": 32,
   "metadata": {},
   "outputs": [
    {
     "name": "stdout",
     "output_type": "stream",
     "text": [
      "Shape: 50000 x 784\n",
      "Mean: -0.000\n",
      "Std: 1.000\n"
     ]
    }
   ],
   "source": [
    "stats(x_train)"
   ]
  },
  {
   "cell_type": "code",
   "execution_count": 33,
   "metadata": {},
   "outputs": [
    {
     "name": "stdout",
     "output_type": "stream",
     "text": [
      "Shape: 50000 x 392\n",
      "Mean: 0.535\n",
      "Std: 0.812\n"
     ]
    }
   ],
   "source": [
    "h1 = linear_relu(x_train, w1, b1)\n",
    "stats(h1)"
   ]
  },
  {
   "cell_type": "code",
   "execution_count": 34,
   "metadata": {},
   "outputs": [
    {
     "name": "stdout",
     "output_type": "stream",
     "text": [
      "Shape: 50000 x 196\n",
      "Mean: 0.567\n",
      "Std: 0.846\n"
     ]
    }
   ],
   "source": [
    "h2 = linear_relu(h1, w2, b2)\n",
    "stats(h2)"
   ]
  },
  {
   "cell_type": "code",
   "execution_count": 35,
   "metadata": {},
   "outputs": [
    {
     "name": "stdout",
     "output_type": "stream",
     "text": [
      "Shape: 50000 x 98\n",
      "Mean: 0.513\n",
      "Std: 0.848\n"
     ]
    }
   ],
   "source": [
    "h3 = linear_relu(h2, w3, b3)\n",
    "stats(h3)"
   ]
  },
  {
   "cell_type": "code",
   "execution_count": 36,
   "metadata": {},
   "outputs": [
    {
     "name": "stdout",
     "output_type": "stream",
     "text": [
      "Shape: 50000 x 49\n",
      "Mean: 0.285\n",
      "Std: 0.410\n"
     ]
    }
   ],
   "source": [
    "h4 = linear_relu(h3, w4, b4)\n",
    "stats(h4)"
   ]
  },
  {
   "cell_type": "markdown",
   "metadata": {},
   "source": [
    "**We observe the standard deviation of activations behaving much better with Kaiming initialization**"
   ]
  },
  {
   "cell_type": "markdown",
   "metadata": {},
   "source": [
    "**However, the mean of the activations hover around 0.5.**"
   ]
  },
  {
   "cell_type": "markdown",
   "metadata": {},
   "source": [
    "## Shifted Relu: Better Solution?"
   ]
  },
  {
   "cell_type": "markdown",
   "metadata": {},
   "source": [
    "**Linear layers with shifted Relu activation**"
   ]
  },
  {
   "cell_type": "code",
   "execution_count": 37,
   "metadata": {},
   "outputs": [],
   "source": [
    "def shift_relu(x):\n",
    "    return x.clamp_min(0.) - 0.5"
   ]
  },
  {
   "cell_type": "code",
   "execution_count": 38,
   "metadata": {},
   "outputs": [],
   "source": [
    "def linear_shift_relu(x, weight, bias):\n",
    "    return shift_relu(x@weight + bias)"
   ]
  },
  {
   "cell_type": "markdown",
   "metadata": {},
   "source": [
    "**Forward Pass**"
   ]
  },
  {
   "cell_type": "code",
   "execution_count": 39,
   "metadata": {},
   "outputs": [
    {
     "name": "stdout",
     "output_type": "stream",
     "text": [
      "Shape: 50000 x 784\n",
      "Mean: -0.000\n",
      "Std: 1.000\n"
     ]
    }
   ],
   "source": [
    "stats(x_train)"
   ]
  },
  {
   "cell_type": "code",
   "execution_count": 40,
   "metadata": {},
   "outputs": [
    {
     "name": "stdout",
     "output_type": "stream",
     "text": [
      "Shape: 50000 x 392\n",
      "Mean: 0.035\n",
      "Std: 0.812\n"
     ]
    }
   ],
   "source": [
    "h1 = linear_shift_relu(x_train, w1, b1)\n",
    "stats(h1)"
   ]
  },
  {
   "cell_type": "code",
   "execution_count": 41,
   "metadata": {},
   "outputs": [
    {
     "name": "stdout",
     "output_type": "stream",
     "text": [
      "Shape: 50000 x 196\n",
      "Mean: -0.054\n",
      "Std: 0.681\n"
     ]
    }
   ],
   "source": [
    "h2 = linear_shift_relu(h1, w2, b2)\n",
    "stats(h2)"
   ]
  },
  {
   "cell_type": "code",
   "execution_count": 42,
   "metadata": {},
   "outputs": [
    {
     "name": "stdout",
     "output_type": "stream",
     "text": [
      "Shape: 50000 x 98\n",
      "Mean: -0.113\n",
      "Std: 0.570\n"
     ]
    }
   ],
   "source": [
    "h3 = linear_shift_relu(h2, w3, b3)\n",
    "stats(h3)"
   ]
  },
  {
   "cell_type": "code",
   "execution_count": 43,
   "metadata": {},
   "outputs": [
    {
     "name": "stdout",
     "output_type": "stream",
     "text": [
      "Shape: 50000 x 49\n",
      "Mean: -0.332\n",
      "Std: 0.255\n"
     ]
    }
   ],
   "source": [
    "h4 = linear_shift_relu(h3, w4, b4)\n",
    "stats(h4)"
   ]
  },
  {
   "cell_type": "markdown",
   "metadata": {},
   "source": [
    "**The mean of activations remain close to zero at every layer**"
   ]
  },
  {
   "cell_type": "markdown",
   "metadata": {},
   "source": [
    "# Feedforward Neural Network"
   ]
  },
  {
   "cell_type": "markdown",
   "metadata": {},
   "source": [
    "## Linear Layer"
   ]
  },
  {
   "cell_type": "code",
   "execution_count": 44,
   "metadata": {},
   "outputs": [],
   "source": [
    "class Linear():\n",
    "    '''Affine layer with weight and bias initialized using Kaiming initialization'''\n",
    "\n",
    "    def __init__(self, in_size, out_size):\n",
    "        self.weight = torch.randn(in_size, out_size) * math.sqrt(2/in_size)\n",
    "        self.bias = torch.zeros(out_size)\n",
    "    \n",
    "    def __repr__(self):\n",
    "        return f\"(Linear: in={self.weight.shape[0]} out={self.weight.shape[1]})\"\n",
    "        \n",
    "    def forward(self, x):\n",
    "        return x@self.weight + self.bias"
   ]
  },
  {
   "cell_type": "markdown",
   "metadata": {},
   "source": [
    "## Activation Layer"
   ]
  },
  {
   "cell_type": "code",
   "execution_count": 45,
   "metadata": {},
   "outputs": [],
   "source": [
    "class ReLU():\n",
    "    '''Rectified Linear Unit Layer'''\n",
    "    \n",
    "    def __init__(self, shift=0.):\n",
    "        self.shift = shift\n",
    "    \n",
    "    def __repr__(self):\n",
    "        return f\"(ReLU: shift={self.shift})\"\n",
    "    \n",
    "    def forward(self, x):\n",
    "        return x.clamp_min(0.) - self.shift"
   ]
  },
  {
   "cell_type": "markdown",
   "metadata": {},
   "source": [
    "## Feedforward Network"
   ]
  },
  {
   "cell_type": "code",
   "execution_count": 46,
   "metadata": {},
   "outputs": [],
   "source": [
    "class FeedForwardNN():\n",
    "    '''Feedforward neural network'''\n",
    "        \n",
    "    def __init__(self, x_dim, y_dim, n_layers):\n",
    "        # get an exponentially spaced array of layer dimensions\n",
    "        def _exp(pos): return math.ceil(x_dim * (y_dim/x_dim)**pos)\n",
    "        layer_dims  = [_exp(pos/n_layers) for pos in range(0, n_layers+1)]\n",
    "        # construct the list of layers\n",
    "        self.layers = []\n",
    "        for i in range(n_layers):\n",
    "            in_dim, out_dim = layer_dims[i], layer_dims[i+1]\n",
    "            self.layers.append(Linear(in_dim, out_dim))\n",
    "            self.layers.append(ReLU())\n",
    "        \n",
    "    def forward(self, x):\n",
    "        for l in self.layers:\n",
    "            x = l.forward(x)\n",
    "        return x"
   ]
  },
  {
   "cell_type": "code",
   "execution_count": 47,
   "metadata": {},
   "outputs": [],
   "source": [
    "model = FeedForwardNN(784, 10, 5)"
   ]
  },
  {
   "cell_type": "code",
   "execution_count": 48,
   "metadata": {},
   "outputs": [
    {
     "data": {
      "text/plain": [
       "[(Linear: in=784 out=328),\n",
       " (ReLU: shift=0.0),\n",
       " (Linear: in=328 out=137),\n",
       " (ReLU: shift=0.0),\n",
       " (Linear: in=137 out=58),\n",
       " (ReLU: shift=0.0),\n",
       " (Linear: in=58 out=24),\n",
       " (ReLU: shift=0.0),\n",
       " (Linear: in=24 out=10),\n",
       " (ReLU: shift=0.0)]"
      ]
     },
     "execution_count": 48,
     "metadata": {},
     "output_type": "execute_result"
    }
   ],
   "source": [
    "model.layers"
   ]
  },
  {
   "cell_type": "code",
   "execution_count": 49,
   "metadata": {},
   "outputs": [],
   "source": [
    "y_pred = model.forward(x_train)"
   ]
  },
  {
   "cell_type": "code",
   "execution_count": 50,
   "metadata": {},
   "outputs": [
    {
     "data": {
      "text/plain": [
       "(torch.Size([50000, 10]), torch.Size([50000]))"
      ]
     },
     "execution_count": 50,
     "metadata": {},
     "output_type": "execute_result"
    }
   ],
   "source": [
    "y_pred.shape, y_train.shape"
   ]
  },
  {
   "cell_type": "markdown",
   "metadata": {},
   "source": [
    "# Evaluation"
   ]
  },
  {
   "cell_type": "code",
   "execution_count": 51,
   "metadata": {},
   "outputs": [],
   "source": [
    "import torch.nn.functional as F"
   ]
  },
  {
   "cell_type": "markdown",
   "metadata": {},
   "source": [
    "## Mean Squared Error"
   ]
  },
  {
   "cell_type": "markdown",
   "metadata": {},
   "source": [
    "**Regression Model: Predicts digits as integers directly**"
   ]
  },
  {
   "cell_type": "code",
   "execution_count": 52,
   "metadata": {},
   "outputs": [],
   "source": [
    "model = FeedForwardNN(784, 1, 5)\n",
    "y_pred = model.forward(x_train)"
   ]
  },
  {
   "cell_type": "code",
   "execution_count": 53,
   "metadata": {},
   "outputs": [],
   "source": [
    "def mse(y_pred, y_true):\n",
    "    return (y_pred - y_true).pow(2).mean()"
   ]
  },
  {
   "cell_type": "code",
   "execution_count": 54,
   "metadata": {},
   "outputs": [
    {
     "data": {
      "text/plain": [
       "tensor(14.9649)"
      ]
     },
     "execution_count": 54,
     "metadata": {},
     "output_type": "execute_result"
    }
   ],
   "source": [
    "mse(y_pred.squeeze(-1), y_train.float())"
   ]
  },
  {
   "cell_type": "code",
   "execution_count": 55,
   "metadata": {},
   "outputs": [
    {
     "data": {
      "text/plain": [
       "tensor(14.9649)"
      ]
     },
     "execution_count": 55,
     "metadata": {},
     "output_type": "execute_result"
    }
   ],
   "source": [
    "F.mse_loss(y_pred.squeeze(-1), y_train.float())"
   ]
  },
  {
   "cell_type": "markdown",
   "metadata": {},
   "source": [
    "## Cross Entropy Loss"
   ]
  },
  {
   "cell_type": "markdown",
   "metadata": {},
   "source": [
    "**Classification Model: Predicts class probabilities of 10 digits**"
   ]
  },
  {
   "cell_type": "code",
   "execution_count": 56,
   "metadata": {},
   "outputs": [],
   "source": [
    "model = FeedForwardNN(784, 10, 5)\n",
    "y_pred = model.forward(x_train)"
   ]
  },
  {
   "cell_type": "markdown",
   "metadata": {},
   "source": [
    "### Softmax"
   ]
  },
  {
   "cell_type": "code",
   "execution_count": 57,
   "metadata": {},
   "outputs": [],
   "source": [
    "def softmax(x, dim):\n",
    "    return (x.exp()/x.exp().sum(dim,keepdim=True))"
   ]
  },
  {
   "cell_type": "code",
   "execution_count": 58,
   "metadata": {},
   "outputs": [
    {
     "data": {
      "text/plain": [
       "True"
      ]
     },
     "execution_count": 58,
     "metadata": {},
     "output_type": "execute_result"
    }
   ],
   "source": [
    "softmax(y_pred, dim=-1).allclose(F.softmax(y_pred, dim=-1))"
   ]
  },
  {
   "cell_type": "code",
   "execution_count": 59,
   "metadata": {},
   "outputs": [],
   "source": [
    "def log_softmax(x, dim):\n",
    "    return x - x.exp().sum(dim,keepdim=True).log()"
   ]
  },
  {
   "cell_type": "markdown",
   "metadata": {},
   "source": [
    "**PyTorch makes use of Log Sum Trick to stabilize the exponential computation**"
   ]
  },
  {
   "cell_type": "markdown",
   "metadata": {},
   "source": [
    "Log Sum Exponetial Numerical Stability Trick:\n",
    "\n",
    "$$\\log \\left ( \\sum_{j=1}^{n} e^{x_{j}} \\right ) = \\log \\left ( e^{a} \\sum_{j=1}^{n} e^{x_{j}-a} \\right ) = a + \\log \\left ( \\sum_{j=1}^{n} e^{x_{j}-a} \\right )$$\n",
    "\n",
    "where a is the maximum of the $x_{j}$."
   ]
  },
  {
   "cell_type": "code",
   "execution_count": 60,
   "metadata": {},
   "outputs": [],
   "source": [
    "def logsumexp(x, dim):\n",
    "    a = x.max()\n",
    "    return a + ((x-a).exp().sum(dim,keepdim=True)).log()"
   ]
  },
  {
   "cell_type": "code",
   "execution_count": 61,
   "metadata": {},
   "outputs": [],
   "source": [
    "def log_softmax(x, dim):\n",
    "    return x - logsumexp(x, dim)"
   ]
  },
  {
   "cell_type": "code",
   "execution_count": 62,
   "metadata": {},
   "outputs": [
    {
     "data": {
      "text/plain": [
       "True"
      ]
     },
     "execution_count": 62,
     "metadata": {},
     "output_type": "execute_result"
    }
   ],
   "source": [
    "log_softmax(y_pred, dim=-1).allclose(F.log_softmax(y_pred, dim=-1))"
   ]
  },
  {
   "cell_type": "markdown",
   "metadata": {},
   "source": [
    "### Negative Log Likelihood"
   ]
  },
  {
   "cell_type": "markdown",
   "metadata": {},
   "source": [
    "$$ L_i = -\\log\\left(\\frac{e^{f_{y_i}}}{ \\sum_j e^{f_j} }\\right) \\hspace{0.5in} $$"
   ]
  },
  {
   "cell_type": "code",
   "execution_count": 63,
   "metadata": {},
   "outputs": [],
   "source": [
    "def nll_loss(input, target):\n",
    "    return -input[range(target.shape[0]), target].mean()"
   ]
  },
  {
   "cell_type": "code",
   "execution_count": 64,
   "metadata": {},
   "outputs": [
    {
     "data": {
      "text/plain": [
       "True"
      ]
     },
     "execution_count": 64,
     "metadata": {},
     "output_type": "execute_result"
    }
   ],
   "source": [
    "sm_pred = log_softmax(y_pred, dim=-1)\n",
    "nll_loss(sm_pred, y_train).allclose(F.nll_loss(sm_pred, y_train))"
   ]
  },
  {
   "cell_type": "markdown",
   "metadata": {},
   "source": [
    "### Cross Entropy Loss"
   ]
  },
  {
   "cell_type": "code",
   "execution_count": 65,
   "metadata": {},
   "outputs": [],
   "source": [
    "def cross_entropy(input, target):\n",
    "    return nll_loss(log_softmax(input, dim=-1), target)"
   ]
  },
  {
   "cell_type": "markdown",
   "metadata": {},
   "source": [
    "**Check our implementation with PyTorch**"
   ]
  },
  {
   "cell_type": "code",
   "execution_count": 66,
   "metadata": {},
   "outputs": [
    {
     "data": {
      "text/plain": [
       "True"
      ]
     },
     "execution_count": 66,
     "metadata": {},
     "output_type": "execute_result"
    }
   ],
   "source": [
    "cross_entropy(y_pred, y_train).allclose(F.cross_entropy(y_pred, y_train))"
   ]
  },
  {
   "cell_type": "markdown",
   "metadata": {},
   "source": [
    "___"
   ]
  }
 ],
 "metadata": {
  "kernelspec": {
   "display_name": "Python [conda env:prod] *",
   "language": "python",
   "name": "conda-env-prod-py"
  },
  "language_info": {
   "codemirror_mode": {
    "name": "ipython",
    "version": 3
   },
   "file_extension": ".py",
   "mimetype": "text/x-python",
   "name": "python",
   "nbconvert_exporter": "python",
   "pygments_lexer": "ipython3",
   "version": "3.7.5"
  },
  "toc": {
   "base_numbering": 1,
   "nav_menu": {},
   "number_sections": true,
   "sideBar": true,
   "skip_h1_title": false,
   "title_cell": "Table of Contents",
   "title_sidebar": "Contents",
   "toc_cell": true,
   "toc_position": {},
   "toc_section_display": true,
   "toc_window_display": true
  }
 },
 "nbformat": 4,
 "nbformat_minor": 4
}
