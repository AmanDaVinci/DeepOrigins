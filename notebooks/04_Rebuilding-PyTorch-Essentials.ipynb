{
 "cells": [
  {
   "cell_type": "markdown",
   "metadata": {},
   "source": [
    "# Rebuilding PyTorch Essentials\n",
    "\n",
    "**Exploring and re-implementing the essential PyTorch internals for training neural networks**\n",
    "___"
   ]
  },
  {
   "cell_type": "markdown",
   "metadata": {
    "toc": true
   },
   "source": [
    "<h1>Table of Contents<span class=\"tocSkip\"></span></h1>\n",
    "<div class=\"toc\"><ul class=\"toc-item\"><li><span><a href=\"#Rebuilding-PyTorch-Essentials\" data-toc-modified-id=\"Rebuilding-PyTorch-Essentials-1\"><span class=\"toc-item-num\">1&nbsp;&nbsp;</span>Rebuilding PyTorch Essentials</a></span><ul class=\"toc-item\"><li><span><a href=\"#Import-Libraries\" data-toc-modified-id=\"Import-Libraries-1.1\"><span class=\"toc-item-num\">1.1&nbsp;&nbsp;</span>Import Libraries</a></span></li><li><span><a href=\"#Load-Data\" data-toc-modified-id=\"Load-Data-1.2\"><span class=\"toc-item-num\">1.2&nbsp;&nbsp;</span>Load Data</a></span></li><li><span><a href=\"#Pre-process-Data\" data-toc-modified-id=\"Pre-process-Data-1.3\"><span class=\"toc-item-num\">1.3&nbsp;&nbsp;</span>Pre-process Data</a></span></li></ul></li><li><span><a href=\"#Bare-Training-Loop\" data-toc-modified-id=\"Bare-Training-Loop-2\"><span class=\"toc-item-num\">2&nbsp;&nbsp;</span>Bare Training Loop</a></span><ul class=\"toc-item\"><li><span><a href=\"#Build-Model\" data-toc-modified-id=\"Build-Model-2.1\"><span class=\"toc-item-num\">2.1&nbsp;&nbsp;</span>Build Model</a></span></li><li><span><a href=\"#Train-Model\" data-toc-modified-id=\"Train-Model-2.2\"><span class=\"toc-item-num\">2.2&nbsp;&nbsp;</span>Train Model</a></span></li><li><span><a href=\"#Evaluate-Model\" data-toc-modified-id=\"Evaluate-Model-2.3\"><span class=\"toc-item-num\">2.3&nbsp;&nbsp;</span>Evaluate Model</a></span></li></ul></li><li><span><a href=\"#PyTorch-Data-Abstraction\" data-toc-modified-id=\"PyTorch-Data-Abstraction-3\"><span class=\"toc-item-num\">3&nbsp;&nbsp;</span>PyTorch Data Abstraction</a></span><ul class=\"toc-item\"><li><span><a href=\"#Dataset\" data-toc-modified-id=\"Dataset-3.1\"><span class=\"toc-item-num\">3.1&nbsp;&nbsp;</span>Dataset</a></span></li><li><span><a href=\"#Dataloader\" data-toc-modified-id=\"Dataloader-3.2\"><span class=\"toc-item-num\">3.2&nbsp;&nbsp;</span>Dataloader</a></span></li><li><span><a href=\"#Random-Sampler\" data-toc-modified-id=\"Random-Sampler-3.3\"><span class=\"toc-item-num\">3.3&nbsp;&nbsp;</span>Random Sampler</a></span></li></ul></li><li><span><a href=\"#PyTorch-Training-Abstraction\" data-toc-modified-id=\"PyTorch-Training-Abstraction-4\"><span class=\"toc-item-num\">4&nbsp;&nbsp;</span>PyTorch Training Abstraction</a></span></li></ul></div>"
   ]
  },
  {
   "cell_type": "markdown",
   "metadata": {},
   "source": [
    "## Import Libraries"
   ]
  },
  {
   "cell_type": "code",
   "execution_count": 23,
   "metadata": {},
   "outputs": [],
   "source": [
    "import torch\n",
    "import torch.nn as nn\n",
    "import torch.nn.functional as F\n",
    "from torchvision.datasets import MNIST\n",
    "\n",
    "import matplotlib.pyplot as plt\n",
    "%matplotlib inline"
   ]
  },
  {
   "cell_type": "markdown",
   "metadata": {},
   "source": [
    "## Load Data"
   ]
  },
  {
   "cell_type": "code",
   "execution_count": 2,
   "metadata": {},
   "outputs": [],
   "source": [
    "dataset = MNIST(root=\"../data/\")"
   ]
  },
  {
   "cell_type": "code",
   "execution_count": 3,
   "metadata": {},
   "outputs": [
    {
     "data": {
      "text/plain": [
       "(torch.Size([50000, 28, 28]), torch.Size([10000, 28, 28]))"
      ]
     },
     "execution_count": 3,
     "metadata": {},
     "output_type": "execute_result"
    }
   ],
   "source": [
    "x, y = dataset.data.float(), dataset.targets\n",
    "x_train, x_test = x[:50000], x[50000:]\n",
    "y_train, y_test = y[:50000], y[50000:]\n",
    "\n",
    "x_train.shape, x_test.shape"
   ]
  },
  {
   "cell_type": "code",
   "execution_count": 4,
   "metadata": {},
   "outputs": [
    {
     "data": {
      "text/plain": [
       "<matplotlib.image.AxesImage at 0x7fc34bd868d0>"
      ]
     },
     "execution_count": 4,
     "metadata": {},
     "output_type": "execute_result"
    },
    {
     "data": {
      "image/png": "[encoded data removed]",
      "text/plain": [
       "<Figure size 432x288 with 1 Axes>"
      ]
     },
     "metadata": {
      "needs_background": "light"
     },
     "output_type": "display_data"
    }
   ],
   "source": [
    "plt.imshow(x_train[0])"
   ]
  },
  {
   "cell_type": "markdown",
   "metadata": {},
   "source": [
    "**Flatten**"
   ]
  },
  {
   "cell_type": "code",
   "execution_count": 5,
   "metadata": {},
   "outputs": [],
   "source": [
    "x_train = x_train.reshape(x_train.shape[0],x_train.shape[1]*x_train.shape[2])\n",
    "x_test = x_test.reshape(x_test.shape[0],x_test.shape[1]*x_test.shape[2])"
   ]
  },
  {
   "cell_type": "markdown",
   "metadata": {},
   "source": [
    "## Pre-process Data"
   ]
  },
  {
   "cell_type": "code",
   "execution_count": 7,
   "metadata": {},
   "outputs": [],
   "source": [
    "def normalize(x, mean, std): return (x-mean)/std"
   ]
  },
  {
   "cell_type": "code",
   "execution_count": 8,
   "metadata": {},
   "outputs": [],
   "source": [
    "train_mean = x_train.mean()\n",
    "train_std = x_train.std()"
   ]
  },
  {
   "cell_type": "code",
   "execution_count": 9,
   "metadata": {},
   "outputs": [],
   "source": [
    "x_train = normalize(x_train, train_mean, train_std)\n",
    "x_test = normalize(x_test, train_mean, train_std)"
   ]
  },
  {
   "cell_type": "code",
   "execution_count": 10,
   "metadata": {},
   "outputs": [
    {
     "data": {
      "text/plain": [
       "<matplotlib.image.AxesImage at 0x7fc34bc9f198>"
      ]
     },
     "execution_count": 10,
     "metadata": {},
     "output_type": "execute_result"
    },
    {
     "data": {
      "image/png": "[encoded data removed]",
      "text/plain": [
       "<Figure size 432x288 with 1 Axes>"
      ]
     },
     "metadata": {
      "needs_background": "light"
     },
     "output_type": "display_data"
    }
   ],
   "source": [
    "plt.imshow(x_test[0].view(28,28))"
   ]
  },
  {
   "cell_type": "markdown",
   "metadata": {},
   "source": [
    "# Bare Training Loop"
   ]
  },
  {
   "cell_type": "markdown",
   "metadata": {},
   "source": [
    "## Build Model"
   ]
  },
  {
   "cell_type": "code",
   "execution_count": 15,
   "metadata": {},
   "outputs": [],
   "source": [
    "class FC(nn.Module):\n",
    "    \n",
    "    def __init__(self, x_dim, y_dim, h_dim):\n",
    "        super().__init__()\n",
    "        self.layers = [nn.Linear(x_dim, h_dim),\n",
    "                       nn.ReLU(),\n",
    "                       nn.Linear(h_dim, y_dim)]\n",
    "    \n",
    "    def forward(self, x):\n",
    "        for layer in self.layers:\n",
    "            x = layer(x)\n",
    "        return x"
   ]
  },
  {
   "cell_type": "markdown",
   "metadata": {},
   "source": [
    "**Model Config:**"
   ]
  },
  {
   "cell_type": "code",
   "execution_count": 11,
   "metadata": {},
   "outputs": [
    {
     "data": {
      "text/plain": [
       "(50000, 784, 10)"
      ]
     },
     "execution_count": 11,
     "metadata": {},
     "output_type": "execute_result"
    }
   ],
   "source": [
    "n, m = x_train.shape\n",
    "c = (y_train.max() - y_train.min()+1).item()\n",
    "n, m, c"
   ]
  },
  {
   "cell_type": "code",
   "execution_count": 17,
   "metadata": {},
   "outputs": [],
   "source": [
    "model = FC(m, c, 300)"
   ]
  },
  {
   "cell_type": "markdown",
   "metadata": {},
   "source": [
    "## Train Model"
   ]
  },
  {
   "cell_type": "markdown",
   "metadata": {},
   "source": [
    "**Training Config:**"
   ]
  },
  {
   "cell_type": "code",
   "execution_count": 26,
   "metadata": {},
   "outputs": [],
   "source": [
    "epochs = 10\n",
    "lr = 1e-3\n",
    "bs = 128\n",
    "loss_fn = F.cross_entropy"
   ]
  },
  {
   "cell_type": "code",
   "execution_count": 29,
   "metadata": {},
   "outputs": [],
   "source": [
    "for epoch in range(epochs):\n",
    "    num_batches = (n-1)//bs\n",
    "    for i in range(num_batches):\n",
    "        # data minibatch\n",
    "        start_idx, end_idx = bs*i, bs*(i+1)\n",
    "        xb = x_train[start_idx:end_idx]\n",
    "        yb = y_train[start_idx:end_idx]\n",
    "        # forward pass \n",
    "        yb_pred = model(xb)\n",
    "        loss = loss_fn(yb_pred, yb)\n",
    "        # backpropagation\n",
    "        loss.backward()\n",
    "        # update model\n",
    "        with torch.no_grad():\n",
    "            for layer in model.layers:\n",
    "                if hasattr(layer, \"weight\"):\n",
    "                    layer.weight -= lr * layer.weight.grad\n",
    "                    layer.weight.grad.zero_()\n",
    "                if hasattr(layer, \"bias\"):\n",
    "                    layer.bias -= lr * layer.bias.grad\n",
    "                    layer.bias.grad.zero_()       \n",
    "        "
   ]
  },
  {
   "cell_type": "markdown",
   "metadata": {},
   "source": [
    "## Evaluate Model"
   ]
  },
  {
   "cell_type": "code",
   "execution_count": 32,
   "metadata": {},
   "outputs": [],
   "source": [
    "def accuracy(input, target):\n",
    "    input_pred = torch.argmax(input, dim=-1)\n",
    "    return (input_pred==target).float().mean()"
   ]
  },
  {
   "cell_type": "code",
   "execution_count": 30,
   "metadata": {},
   "outputs": [
    {
     "data": {
      "text/plain": [
       "tensor(0.4383, grad_fn=<NllLossBackward>)"
      ]
     },
     "execution_count": 30,
     "metadata": {},
     "output_type": "execute_result"
    }
   ],
   "source": [
    "loss_fn(model(x_train), y_train)"
   ]
  },
  {
   "cell_type": "code",
   "execution_count": 34,
   "metadata": {},
   "outputs": [
    {
     "data": {
      "text/plain": [
       "tensor(0.8857)"
      ]
     },
     "execution_count": 34,
     "metadata": {},
     "output_type": "execute_result"
    }
   ],
   "source": [
    "accuracy(model(x_train), y_train)"
   ]
  },
  {
   "cell_type": "markdown",
   "metadata": {},
   "source": [
    "# PyTorch Data Abstraction"
   ]
  },
  {
   "cell_type": "markdown",
   "metadata": {},
   "source": [
    "## Dataset\n",
    "**A simple wrapper for x's and y's**"
   ]
  },
  {
   "cell_type": "code",
   "execution_count": 36,
   "metadata": {},
   "outputs": [],
   "source": [
    "class Dataset():\n",
    "    \n",
    "    def __init__(self, x, y):\n",
    "        self.x, self.y = x, y\n",
    "    \n",
    "    def __len__(self):\n",
    "        return self.x.shape[0]\n",
    "    \n",
    "    def __getitem__(self, i):\n",
    "        return self.x[i], self.y[i]"
   ]
  },
  {
   "cell_type": "markdown",
   "metadata": {},
   "source": [
    "**Training Loop using Dataset abstraction**"
   ]
  },
  {
   "cell_type": "code",
   "execution_count": 37,
   "metadata": {},
   "outputs": [],
   "source": [
    "train_ds = Dataset(x_train, y_train)\n",
    "test_ds = Dataset(x_train, y_test)x"
   ]
  },
  {
   "cell_type": "code",
   "execution_count": 41,
   "metadata": {},
   "outputs": [],
   "source": [
    "for epoch in range(epochs):\n",
    "    num_batches = (n-1)//bs\n",
    "    for i in range(num_batches):\n",
    "        # data minibatch\n",
    "        xb,yb = train_ds[bs*i:bs*(i+1)]\n",
    "        # forward pass \n",
    "        yb_pred = model(xb)\n",
    "        loss = loss_fn(yb_pred, yb)\n",
    "        # backpropagation\n",
    "        loss.backward()\n",
    "        # update model\n",
    "        with torch.no_grad():\n",
    "            for layer in model.layers:\n",
    "                if hasattr(layer, \"weight\"):\n",
    "                    layer.weight -= lr * layer.weight.grad\n",
    "                    layer.weight.grad.zero_()\n",
    "                if hasattr(layer, \"bias\"):\n",
    "                    layer.bias -= lr * layer.bias.grad\n",
    "                    layer.bias.grad.zero_()       \n",
    "        "
   ]
  },
  {
   "cell_type": "code",
   "execution_count": 42,
   "metadata": {},
   "outputs": [
    {
     "data": {
      "text/plain": [
       "tensor(0.9040)"
      ]
     },
     "execution_count": 42,
     "metadata": {},
     "output_type": "execute_result"
    }
   ],
   "source": [
    "accuracy(model(x_train), y_train)"
   ]
  },
  {
   "cell_type": "markdown",
   "metadata": {},
   "source": [
    "## Dataloader\n",
    "**Loading minibatches from a Dataset**"
   ]
  },
  {
   "cell_type": "code",
   "execution_count": 81,
   "metadata": {},
   "outputs": [],
   "source": [
    "class DataLoader():\n",
    "    \n",
    "    def __init__(self, dataset, batch_size):\n",
    "        self.ds, self.bs = dataset, batch_size\n",
    "    \n",
    "    def __iter__(self):\n",
    "        for i in range(0, len(self.ds), self.bs):\n",
    "            yield self.ds[i:i+self.bs]"
   ]
  },
  {
   "cell_type": "markdown",
   "metadata": {},
   "source": [
    "**Example:**"
   ]
  },
  {
   "cell_type": "code",
   "execution_count": 87,
   "metadata": {},
   "outputs": [],
   "source": [
    "x = torch.Tensor(range(10))\n",
    "y = x*x\n",
    "dummy_ds = Dataset(x,y)\n",
    "dummy_dl = DataLoader(dummy_ds, 2)"
   ]
  },
  {
   "cell_type": "code",
   "execution_count": 90,
   "metadata": {},
   "outputs": [
    {
     "data": {
      "text/plain": [
       "[(tensor([0., 1.]), tensor([0., 1.])),\n",
       " (tensor([2., 3.]), tensor([4., 9.])),\n",
       " (tensor([4., 5.]), tensor([16., 25.])),\n",
       " (tensor([6., 7.]), tensor([36., 49.])),\n",
       " (tensor([8., 9.]), tensor([64., 81.]))]"
      ]
     },
     "execution_count": 90,
     "metadata": {},
     "output_type": "execute_result"
    }
   ],
   "source": [
    "[(xb,yb) for xb,yb in dummy_dl]"
   ]
  },
  {
   "cell_type": "markdown",
   "metadata": {},
   "source": [
    "**Training Loop using DataLoader abstraction**"
   ]
  },
  {
   "cell_type": "code",
   "execution_count": 92,
   "metadata": {},
   "outputs": [],
   "source": [
    "train_ds = Dataset(x_train, y_train)\n",
    "test_ds = Dataset(x_train, y_test)\n",
    "\n",
    "train_dl = DataLoader(train_ds, bs)\n",
    "test_dl = DataLoader(test_ds, bs)"
   ]
  },
  {
   "cell_type": "code",
   "execution_count": 93,
   "metadata": {},
   "outputs": [],
   "source": [
    "for epoch in range(epochs):\n",
    "    # data minibatch\n",
    "    for xb,yb in train_dl:\n",
    "        # forward pass \n",
    "        yb_pred = model(xb)\n",
    "        loss = loss_fn(yb_pred, yb)\n",
    "        # backpropagation\n",
    "        loss.backward()\n",
    "        # update model\n",
    "        with torch.no_grad():\n",
    "            for layer in model.layers:\n",
    "                if hasattr(layer, \"weight\"):\n",
    "                    layer.weight -= lr * layer.weight.grad\n",
    "                    layer.weight.grad.zero_()\n",
    "                if hasattr(layer, \"bias\"):\n",
    "                    layer.bias -= lr * layer.bias.grad\n",
    "                    layer.bias.grad.zero_()       \n",
    "        "
   ]
  },
  {
   "cell_type": "code",
   "execution_count": 94,
   "metadata": {},
   "outputs": [
    {
     "data": {
      "text/plain": [
       "tensor(0.9143)"
      ]
     },
     "execution_count": 94,
     "metadata": {},
     "output_type": "execute_result"
    }
   ],
   "source": [
    "accuracy(model(x_train), y_train)"
   ]
  },
  {
   "cell_type": "markdown",
   "metadata": {},
   "source": [
    "## Random Sampler\n",
    "**Shuffles data during batch training**"
   ]
  },
  {
   "cell_type": "code",
   "execution_count": 104,
   "metadata": {},
   "outputs": [],
   "source": [
    "class Sampler():\n",
    "    \n",
    "    def __init__(self, data_size, batch_size, shuffle):\n",
    "        self.n, self.bs, self.shuffle = data_size, batch_size, shuffle\n",
    "        \n",
    "    def __iter__(self):\n",
    "        sample_idx = torch.randperm(self.n) if self.shuffle else list(range(self.n))\n",
    "        for i in range(0, self.n, self.bs):\n",
    "            yield sample_idx[i : i+self.bs]"
   ]
  },
  {
   "cell_type": "markdown",
   "metadata": {},
   "source": [
    "**Example:**"
   ]
  },
  {
   "cell_type": "code",
   "execution_count": 108,
   "metadata": {},
   "outputs": [
    {
     "name": "stdout",
     "output_type": "stream",
     "text": [
      "[[0, 1], [2, 3], [4, 5], [6, 7], [8, 9]]\n"
     ]
    }
   ],
   "source": [
    "x = torch.Tensor(range(10))\n",
    "y = x*x\n",
    "dummy_samp = Sampler(10, 2, False)\n",
    "print([samples for samples in dummy_samp])"
   ]
  },
  {
   "cell_type": "code",
   "execution_count": 107,
   "metadata": {},
   "outputs": [
    {
     "name": "stdout",
     "output_type": "stream",
     "text": [
      "[tensor([1, 4]), tensor([7, 2]), tensor([3, 5]), tensor([6, 0]), tensor([8, 9])]\n"
     ]
    }
   ],
   "source": [
    "x = torch.Tensor(range(10))\n",
    "y = x*x\n",
    "dummy_samp = Sampler(10, 2, True)\n",
    "print([samples for samples in dummy_samp])"
   ]
  },
  {
   "cell_type": "markdown",
   "metadata": {},
   "source": [
    "**DataLoader with shuffling feature**"
   ]
  },
  {
   "cell_type": "code",
   "execution_count": 124,
   "metadata": {},
   "outputs": [],
   "source": [
    "class DataLoader():\n",
    "    \n",
    "    def __init__(self, dataset, batch_size, sampler, collate_fn):\n",
    "        self.ds, self.bs = dataset, batch_size        \n",
    "        self.sampler, self.collate_fn = sampler, collate_fn\n",
    "    \n",
    "    def __iter__(self):\n",
    "        for batch_idxs in self.sampler:\n",
    "            yield self.collate_fn([self.ds[idx] for idx in batch_idxs])"
   ]
  },
  {
   "cell_type": "code",
   "execution_count": 125,
   "metadata": {},
   "outputs": [],
   "source": [
    "def collate(batch):\n",
    "    xs, ys = zip(*batch)\n",
    "    return torch.stack(xs), torch.stack(ys)"
   ]
  },
  {
   "cell_type": "markdown",
   "metadata": {},
   "source": [
    "**Example:**"
   ]
  },
  {
   "cell_type": "code",
   "execution_count": 127,
   "metadata": {},
   "outputs": [
    {
     "data": {
      "text/plain": [
       "[(tensor([0., 1.]), tensor([0., 1.])),\n",
       " (tensor([2., 3.]), tensor([4., 9.])),\n",
       " (tensor([4., 5.]), tensor([16., 25.])),\n",
       " (tensor([6., 7.]), tensor([36., 49.])),\n",
       " (tensor([8., 9.]), tensor([64., 81.]))]"
      ]
     },
     "execution_count": 127,
     "metadata": {},
     "output_type": "execute_result"
    }
   ],
   "source": [
    "x = torch.Tensor(range(10))\n",
    "y = x*x\n",
    "\n",
    "dummy_ds =  Dataset(x, y)\n",
    "dummy_samp = Sampler(10, 2, False)\n",
    "dummy_dl = DataLoader(dummy_ds, bs, dummy_samp, collate)\n",
    "\n",
    "[batch for batch in dummy_dl]"
   ]
  },
  {
   "cell_type": "code",
   "execution_count": 128,
   "metadata": {},
   "outputs": [
    {
     "data": {
      "text/plain": [
       "[(tensor([5., 3.]), tensor([25.,  9.])),\n",
       " (tensor([7., 8.]), tensor([49., 64.])),\n",
       " (tensor([1., 2.]), tensor([1., 4.])),\n",
       " (tensor([9., 6.]), tensor([81., 36.])),\n",
       " (tensor([4., 0.]), tensor([16.,  0.]))]"
      ]
     },
     "execution_count": 128,
     "metadata": {},
     "output_type": "execute_result"
    }
   ],
   "source": [
    "x = torch.Tensor(range(10))\n",
    "y = x*x\n",
    "\n",
    "dummy_ds =  Dataset(x, y)\n",
    "dummy_samp = Sampler(10, 2, True)\n",
    "dummy_dl = DataLoader(dummy_ds, bs, dummy_samp, collate)\n",
    "\n",
    "[batch for batch in dummy_dl]"
   ]
  },
  {
   "cell_type": "markdown",
   "metadata": {},
   "source": [
    "**Training Loop with shuffled DataLoader**"
   ]
  },
  {
   "cell_type": "code",
   "execution_count": 129,
   "metadata": {},
   "outputs": [],
   "source": [
    "train_ds = Dataset(x_train, y_train)\n",
    "test_ds = Dataset(x_train, y_test)\n",
    "\n",
    "train_samp = Sampler(len(train_ds), bs, shuffle=True)\n",
    "test_samp = Sampler(len(test_ds), bs, shuffle=False)\n",
    "\n",
    "train_dl = DataLoader(train_ds, bs, train_samp, collate)\n",
    "test_dl = DataLoader(test_ds, bs, test_samp, collate)"
   ]
  },
  {
   "cell_type": "code",
   "execution_count": 130,
   "metadata": {},
   "outputs": [],
   "source": [
    "for epoch in range(epochs):\n",
    "    # data minibatch\n",
    "    for xb,yb in train_dl:\n",
    "        # forward pass \n",
    "        yb_pred = model(xb)\n",
    "        loss = loss_fn(yb_pred, yb)\n",
    "        # backpropagation\n",
    "        loss.backward()\n",
    "        # update model\n",
    "        with torch.no_grad():\n",
    "            for layer in model.layers:\n",
    "                if hasattr(layer, \"weight\"):\n",
    "                    layer.weight -= lr * layer.weight.grad\n",
    "                    layer.weight.grad.zero_()\n",
    "                if hasattr(layer, \"bias\"):\n",
    "                    layer.bias -= lr * layer.bias.grad\n",
    "                    layer.bias.grad.zero_()       \n",
    "        "
   ]
  },
  {
   "cell_type": "code",
   "execution_count": 131,
   "metadata": {},
   "outputs": [
    {
     "data": {
      "text/plain": [
       "tensor(0.9220)"
      ]
     },
     "execution_count": 131,
     "metadata": {},
     "output_type": "execute_result"
    }
   ],
   "source": [
    "accuracy(model(x_train), y_train)"
   ]
  },
  {
   "cell_type": "markdown",
   "metadata": {},
   "source": [
    "# PyTorch Training Abstraction"
   ]
  },
  {
   "cell_type": "markdown",
   "metadata": {},
   "source": []
  }
 ],
 "metadata": {
  "kernelspec": {
   "display_name": "Python [conda env:prod] *",
   "language": "python",
   "name": "conda-env-prod-py"
  },
  "language_info": {
   "codemirror_mode": {
    "name": "ipython",
    "version": 3
   },
   "file_extension": ".py",
   "mimetype": "text/x-python",
   "name": "python",
   "nbconvert_exporter": "python",
   "pygments_lexer": "ipython3",
   "version": "3.7.3"
  },
  "toc": {
   "base_numbering": 1,
   "nav_menu": {},
   "number_sections": true,
   "sideBar": true,
   "skip_h1_title": false,
   "title_cell": "Table of Contents",
   "title_sidebar": "Contents",
   "toc_cell": true,
   "toc_position": {},
   "toc_section_display": true,
   "toc_window_display": true
  }
 },
 "nbformat": 4,
 "nbformat_minor": 2
}
