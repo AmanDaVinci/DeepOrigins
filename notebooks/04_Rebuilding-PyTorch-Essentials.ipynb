{
 "cells": [
  {
   "cell_type": "markdown",
   "metadata": {},
   "source": [
    "# Rebuilding the PyTorch training loop in simple Python\n",
    "___"
   ]
  },
  {
   "cell_type": "markdown",
   "metadata": {
    "toc": true
   },
   "source": [
    "<h1>Table of Contents<span class=\"tocSkip\"></span></h1>\n",
    "<div class=\"toc\"><ul class=\"toc-item\"><li><span><a href=\"#Rebuilding-the-PyTorch-training-loop-in-simple-Python\" data-toc-modified-id=\"Rebuilding-the-PyTorch-training-loop-in-simple-Python-1\"><span class=\"toc-item-num\">1&nbsp;&nbsp;</span>Rebuilding the PyTorch training loop in simple Python</a></span><ul class=\"toc-item\"><li><span><a href=\"#Import-Libraries\" data-toc-modified-id=\"Import-Libraries-1.1\"><span class=\"toc-item-num\">1.1&nbsp;&nbsp;</span>Import Libraries</a></span></li><li><span><a href=\"#Load-Data\" data-toc-modified-id=\"Load-Data-1.2\"><span class=\"toc-item-num\">1.2&nbsp;&nbsp;</span>Load Data</a></span></li><li><span><a href=\"#Pre-process-Data\" data-toc-modified-id=\"Pre-process-Data-1.3\"><span class=\"toc-item-num\">1.3&nbsp;&nbsp;</span>Pre-process Data</a></span></li></ul></li><li><span><a href=\"#Bare-Training-Loop\" data-toc-modified-id=\"Bare-Training-Loop-2\"><span class=\"toc-item-num\">2&nbsp;&nbsp;</span>Bare Training Loop</a></span><ul class=\"toc-item\"><li><span><a href=\"#Build-Model\" data-toc-modified-id=\"Build-Model-2.1\"><span class=\"toc-item-num\">2.1&nbsp;&nbsp;</span>Build Model</a></span></li><li><span><a href=\"#Train-Model\" data-toc-modified-id=\"Train-Model-2.2\"><span class=\"toc-item-num\">2.2&nbsp;&nbsp;</span>Train Model</a></span></li><li><span><a href=\"#Evaluate-Model\" data-toc-modified-id=\"Evaluate-Model-2.3\"><span class=\"toc-item-num\">2.3&nbsp;&nbsp;</span>Evaluate Model</a></span></li></ul></li><li><span><a href=\"#PyTorch-Data-Abstractions\" data-toc-modified-id=\"PyTorch-Data-Abstractions-3\"><span class=\"toc-item-num\">3&nbsp;&nbsp;</span>PyTorch Data Abstractions</a></span><ul class=\"toc-item\"><li><span><a href=\"#Dataset\" data-toc-modified-id=\"Dataset-3.1\"><span class=\"toc-item-num\">3.1&nbsp;&nbsp;</span>Dataset</a></span></li><li><span><a href=\"#Dataloader\" data-toc-modified-id=\"Dataloader-3.2\"><span class=\"toc-item-num\">3.2&nbsp;&nbsp;</span>Dataloader</a></span></li><li><span><a href=\"#Random-Sampler\" data-toc-modified-id=\"Random-Sampler-3.3\"><span class=\"toc-item-num\">3.3&nbsp;&nbsp;</span>Random Sampler</a></span></li></ul></li><li><span><a href=\"#PyTorch-Training-Abstractions\" data-toc-modified-id=\"PyTorch-Training-Abstractions-4\"><span class=\"toc-item-num\">4&nbsp;&nbsp;</span>PyTorch Training Abstractions</a></span><ul class=\"toc-item\"><li><span><a href=\"#nn.Parameters\" data-toc-modified-id=\"nn.Parameters-4.1\"><span class=\"toc-item-num\">4.1&nbsp;&nbsp;</span>nn.Parameters</a></span></li><li><span><a href=\"#nn.Sequential\" data-toc-modified-id=\"nn.Sequential-4.2\"><span class=\"toc-item-num\">4.2&nbsp;&nbsp;</span>nn.Sequential</a></span></li><li><span><a href=\"#Optimizer\" data-toc-modified-id=\"Optimizer-4.3\"><span class=\"toc-item-num\">4.3&nbsp;&nbsp;</span>Optimizer</a></span></li></ul></li><li><span><a href=\"#Validation\" data-toc-modified-id=\"Validation-5\"><span class=\"toc-item-num\">5&nbsp;&nbsp;</span>Validation</a></span></li></ul></div>"
   ]
  },
  {
   "cell_type": "markdown",
   "metadata": {},
   "source": [
    "## Import Libraries"
   ]
  },
  {
   "cell_type": "code",
   "execution_count": 1,
   "metadata": {},
   "outputs": [],
   "source": [
    "import torch\n",
    "import torch.nn as nn\n",
    "import torch.nn.functional as F\n",
    "from torchvision.datasets import MNIST\n",
    "\n",
    "import matplotlib.pyplot as plt\n",
    "%matplotlib inline"
   ]
  },
  {
   "cell_type": "markdown",
   "metadata": {},
   "source": [
    "## Load Data"
   ]
  },
  {
   "cell_type": "code",
   "execution_count": 2,
   "metadata": {},
   "outputs": [],
   "source": [
    "dataset = MNIST(root=\"../data/\")"
   ]
  },
  {
   "cell_type": "code",
   "execution_count": 3,
   "metadata": {},
   "outputs": [
    {
     "data": {
      "text/plain": [
       "(torch.Size([50000, 28, 28]), torch.Size([10000, 28, 28]))"
      ]
     },
     "execution_count": 3,
     "metadata": {},
     "output_type": "execute_result"
    }
   ],
   "source": [
    "x, y = dataset.data.float(), dataset.targets\n",
    "x_train, x_test = x[:50000], x[50000:]\n",
    "y_train, y_test = y[:50000], y[50000:]\n",
    "\n",
    "x_train.shape, x_test.shape"
   ]
  },
  {
   "cell_type": "code",
   "execution_count": 4,
   "metadata": {},
   "outputs": [
    {
     "data": {
      "text/plain": [
       "<matplotlib.image.AxesImage at 0x7f7b45f87310>"
      ]
     },
     "execution_count": 4,
     "metadata": {},
     "output_type": "execute_result"
    },
    {
     "data": {
      "image/png": "[encoded data removed]",
      "text/plain": [
       "<Figure size 432x288 with 1 Axes>"
      ]
     },
     "metadata": {
      "needs_background": "light"
     },
     "output_type": "display_data"
    }
   ],
   "source": [
    "plt.imshow(x_train[0])"
   ]
  },
  {
   "cell_type": "markdown",
   "metadata": {},
   "source": [
    "**Flatten**"
   ]
  },
  {
   "cell_type": "code",
   "execution_count": 5,
   "metadata": {},
   "outputs": [],
   "source": [
    "x_train = x_train.reshape(x_train.shape[0],x_train.shape[1]*x_train.shape[2])\n",
    "x_test = x_test.reshape(x_test.shape[0],x_test.shape[1]*x_test.shape[2])"
   ]
  },
  {
   "cell_type": "markdown",
   "metadata": {},
   "source": [
    "## Pre-process Data"
   ]
  },
  {
   "cell_type": "code",
   "execution_count": 7,
   "metadata": {},
   "outputs": [],
   "source": [
    "def normalize(x, mean, std): \n",
    "    return (x-mean)/std"
   ]
  },
  {
   "cell_type": "code",
   "execution_count": 8,
   "metadata": {},
   "outputs": [],
   "source": [
    "train_mean = x_train.mean()\n",
    "train_std = x_train.std()"
   ]
  },
  {
   "cell_type": "code",
   "execution_count": 9,
   "metadata": {},
   "outputs": [],
   "source": [
    "x_train = normalize(x_train, train_mean, train_std)\n",
    "x_test = normalize(x_test, train_mean, train_std)"
   ]
  },
  {
   "cell_type": "code",
   "execution_count": 10,
   "metadata": {},
   "outputs": [
    {
     "data": {
      "text/plain": [
       "<matplotlib.image.AxesImage at 0x7f7b14147e50>"
      ]
     },
     "execution_count": 10,
     "metadata": {},
     "output_type": "execute_result"
    },
    {
     "data": {
      "image/png": "[encoded data removed]",
      "text/plain": [
       "<Figure size 432x288 with 1 Axes>"
      ]
     },
     "metadata": {
      "needs_background": "light"
     },
     "output_type": "display_data"
    }
   ],
   "source": [
    "plt.imshow(x_test[0].view(28,28))"
   ]
  },
  {
   "cell_type": "markdown",
   "metadata": {},
   "source": [
    "# Bare Training Loop\n",
    "---"
   ]
  },
  {
   "cell_type": "markdown",
   "metadata": {},
   "source": [
    "## Build Model"
   ]
  },
  {
   "cell_type": "code",
   "execution_count": 11,
   "metadata": {},
   "outputs": [],
   "source": [
    "class FC(nn.Module):\n",
    "    \n",
    "    def __init__(self, x_dim, y_dim, h_dim):\n",
    "        super().__init__()\n",
    "        self.layers = [nn.Linear(x_dim, h_dim),\n",
    "                       nn.ReLU(),\n",
    "                       nn.Linear(h_dim, y_dim)]\n",
    "    \n",
    "    def forward(self, x):\n",
    "        for layer in self.layers:\n",
    "            x = layer(x)\n",
    "        return x"
   ]
  },
  {
   "cell_type": "markdown",
   "metadata": {},
   "source": [
    "**Model Config:**"
   ]
  },
  {
   "cell_type": "code",
   "execution_count": 12,
   "metadata": {},
   "outputs": [
    {
     "data": {
      "text/plain": [
       "(50000, 784, 10)"
      ]
     },
     "execution_count": 12,
     "metadata": {},
     "output_type": "execute_result"
    }
   ],
   "source": [
    "n, m = x_train.shape\n",
    "c = (y_train.max() - y_train.min()+1).item()\n",
    "n, m, c"
   ]
  },
  {
   "cell_type": "code",
   "execution_count": 13,
   "metadata": {},
   "outputs": [],
   "source": [
    "model = FC(m, c, 300)"
   ]
  },
  {
   "cell_type": "markdown",
   "metadata": {},
   "source": [
    "## Train Model"
   ]
  },
  {
   "cell_type": "markdown",
   "metadata": {},
   "source": [
    "**Training Config:**"
   ]
  },
  {
   "cell_type": "code",
   "execution_count": 14,
   "metadata": {},
   "outputs": [],
   "source": [
    "epochs = 10\n",
    "lr = 1e-3\n",
    "bs = 128\n",
    "loss_fn = F.cross_entropy"
   ]
  },
  {
   "cell_type": "code",
   "execution_count": 15,
   "metadata": {},
   "outputs": [],
   "source": [
    "for epoch in range(epochs):\n",
    "    num_batches = (n-1)//bs\n",
    "    for i in range(num_batches):\n",
    "        # data minibatch\n",
    "        start_idx, end_idx = bs*i, bs*(i+1)\n",
    "        xb = x_train[start_idx:end_idx]\n",
    "        yb = y_train[start_idx:end_idx]\n",
    "        # forward pass \n",
    "        yb_pred = model(xb)\n",
    "        loss = loss_fn(yb_pred, yb)\n",
    "        # backpropagation\n",
    "        loss.backward()\n",
    "        # update model\n",
    "        with torch.no_grad():\n",
    "            for layer in model.layers:\n",
    "                if hasattr(layer, \"weight\"):\n",
    "                    layer.weight -= lr * layer.weight.grad\n",
    "                    layer.weight.grad.zero_()\n",
    "                if hasattr(layer, \"bias\"):\n",
    "                    layer.bias -= lr * layer.bias.grad\n",
    "                    layer.bias.grad.zero_()       \n",
    "        "
   ]
  },
  {
   "cell_type": "markdown",
   "metadata": {},
   "source": [
    "## Evaluate Model"
   ]
  },
  {
   "cell_type": "code",
   "execution_count": 16,
   "metadata": {},
   "outputs": [],
   "source": [
    "def accuracy(input, target):\n",
    "    input_pred = torch.argmax(input, dim=-1)\n",
    "    return (input_pred==target).float().mean()"
   ]
  },
  {
   "cell_type": "code",
   "execution_count": 17,
   "metadata": {},
   "outputs": [
    {
     "data": {
      "text/plain": [
       "tensor(0.4428, grad_fn=<NllLossBackward>)"
      ]
     },
     "execution_count": 17,
     "metadata": {},
     "output_type": "execute_result"
    }
   ],
   "source": [
    "loss_fn(model(x_train), y_train)"
   ]
  },
  {
   "cell_type": "code",
   "execution_count": 18,
   "metadata": {},
   "outputs": [
    {
     "data": {
      "text/plain": [
       "tensor(0.8839)"
      ]
     },
     "execution_count": 18,
     "metadata": {},
     "output_type": "execute_result"
    }
   ],
   "source": [
    "accuracy(model(x_train), y_train)"
   ]
  },
  {
   "cell_type": "markdown",
   "metadata": {},
   "source": [
    "# PyTorch Data Abstractions\n",
    "---"
   ]
  },
  {
   "cell_type": "markdown",
   "metadata": {},
   "source": [
    "## Dataset\n",
    "**A simple wrapper for x's and y's**"
   ]
  },
  {
   "cell_type": "code",
   "execution_count": 19,
   "metadata": {},
   "outputs": [],
   "source": [
    "class Dataset():\n",
    "    \n",
    "    def __init__(self, x, y):\n",
    "        self.x, self.y = x, y\n",
    "    \n",
    "    def __len__(self):\n",
    "        return self.x.shape[0]\n",
    "    \n",
    "    def __getitem__(self, i):\n",
    "        return self.x[i], self.y[i]"
   ]
  },
  {
   "cell_type": "markdown",
   "metadata": {},
   "source": [
    "**Training Loop using Dataset abstraction**"
   ]
  },
  {
   "cell_type": "code",
   "execution_count": 20,
   "metadata": {},
   "outputs": [],
   "source": [
    "train_ds = Dataset(x_train, y_train)\n",
    "test_ds = Dataset(x_train, y_test)"
   ]
  },
  {
   "cell_type": "code",
   "execution_count": 21,
   "metadata": {},
   "outputs": [],
   "source": [
    "for epoch in range(epochs):\n",
    "    num_batches = (n-1)//bs\n",
    "    for i in range(num_batches):\n",
    "        # data minibatch\n",
    "        xb,yb = train_ds[bs*i:bs*(i+1)]\n",
    "        # forward pass \n",
    "        yb_pred = model(xb)\n",
    "        loss = loss_fn(yb_pred, yb)\n",
    "        # backpropagation\n",
    "        loss.backward()\n",
    "        # update model\n",
    "        with torch.no_grad():\n",
    "            for layer in model.layers:\n",
    "                if hasattr(layer, \"weight\"):\n",
    "                    layer.weight -= lr * layer.weight.grad\n",
    "                    layer.weight.grad.zero_()\n",
    "                if hasattr(layer, \"bias\"):\n",
    "                    layer.bias -= lr * layer.bias.grad\n",
    "                    layer.bias.grad.zero_()       \n",
    "        "
   ]
  },
  {
   "cell_type": "code",
   "execution_count": 22,
   "metadata": {},
   "outputs": [
    {
     "data": {
      "text/plain": [
       "tensor(0.9029)"
      ]
     },
     "execution_count": 22,
     "metadata": {},
     "output_type": "execute_result"
    }
   ],
   "source": [
    "accuracy(model(x_train), y_train)"
   ]
  },
  {
   "cell_type": "markdown",
   "metadata": {},
   "source": [
    "## Dataloader\n",
    "**Loading minibatches from a Dataset**"
   ]
  },
  {
   "cell_type": "code",
   "execution_count": 23,
   "metadata": {},
   "outputs": [],
   "source": [
    "class DataLoader():\n",
    "    \n",
    "    def __init__(self, dataset, batch_size):\n",
    "        self.ds, self.bs = dataset, batch_size\n",
    "    \n",
    "    def __iter__(self):\n",
    "        for i in range(0, len(self.ds), self.bs):\n",
    "            yield self.ds[i:i+self.bs]"
   ]
  },
  {
   "cell_type": "markdown",
   "metadata": {},
   "source": [
    "**Example:**"
   ]
  },
  {
   "cell_type": "code",
   "execution_count": 24,
   "metadata": {},
   "outputs": [],
   "source": [
    "x = torch.Tensor(range(10))\n",
    "y = x*x\n",
    "dummy_ds = Dataset(x,y)\n",
    "dummy_dl = DataLoader(dummy_ds, 2)"
   ]
  },
  {
   "cell_type": "code",
   "execution_count": 25,
   "metadata": {},
   "outputs": [
    {
     "data": {
      "text/plain": [
       "[(tensor([0., 1.]), tensor([0., 1.])),\n",
       " (tensor([2., 3.]), tensor([4., 9.])),\n",
       " (tensor([4., 5.]), tensor([16., 25.])),\n",
       " (tensor([6., 7.]), tensor([36., 49.])),\n",
       " (tensor([8., 9.]), tensor([64., 81.]))]"
      ]
     },
     "execution_count": 25,
     "metadata": {},
     "output_type": "execute_result"
    }
   ],
   "source": [
    "[(xb,yb) for xb,yb in dummy_dl]"
   ]
  },
  {
   "cell_type": "markdown",
   "metadata": {},
   "source": [
    "**Training Loop using DataLoader abstraction**"
   ]
  },
  {
   "cell_type": "code",
   "execution_count": 26,
   "metadata": {},
   "outputs": [],
   "source": [
    "train_ds = Dataset(x_train, y_train)\n",
    "test_ds = Dataset(x_train, y_test)\n",
    "\n",
    "train_dl = DataLoader(train_ds, bs)\n",
    "test_dl = DataLoader(test_ds, bs)"
   ]
  },
  {
   "cell_type": "code",
   "execution_count": 27,
   "metadata": {},
   "outputs": [],
   "source": [
    "for epoch in range(epochs):\n",
    "    # data minibatch\n",
    "    for xb,yb in train_dl:\n",
    "        # forward pass \n",
    "        yb_pred = model(xb)\n",
    "        loss = loss_fn(yb_pred, yb)\n",
    "        # backpropagation\n",
    "        loss.backward()\n",
    "        # update model\n",
    "        with torch.no_grad():\n",
    "            for layer in model.layers:\n",
    "                if hasattr(layer, \"weight\"):\n",
    "                    layer.weight -= lr * layer.weight.grad\n",
    "                    layer.weight.grad.zero_()\n",
    "                if hasattr(layer, \"bias\"):\n",
    "                    layer.bias -= lr * layer.bias.grad\n",
    "                    layer.bias.grad.zero_()       \n",
    "        "
   ]
  },
  {
   "cell_type": "code",
   "execution_count": 28,
   "metadata": {},
   "outputs": [
    {
     "data": {
      "text/plain": [
       "tensor(0.9130)"
      ]
     },
     "execution_count": 28,
     "metadata": {},
     "output_type": "execute_result"
    }
   ],
   "source": [
    "accuracy(model(x_train), y_train)"
   ]
  },
  {
   "cell_type": "markdown",
   "metadata": {},
   "source": [
    "## Random Sampler\n",
    "**Shuffles data during batch training**"
   ]
  },
  {
   "cell_type": "code",
   "execution_count": 29,
   "metadata": {},
   "outputs": [],
   "source": [
    "class Sampler():\n",
    "    \n",
    "    def __init__(self, data_size, batch_size, shuffle):\n",
    "        self.n, self.bs, self.shuffle = data_size, batch_size, shuffle\n",
    "        \n",
    "    def __iter__(self):\n",
    "        sample_idx = torch.randperm(self.n) if self.shuffle else list(range(self.n))\n",
    "        for i in range(0, self.n, self.bs):\n",
    "            yield sample_idx[i : i+self.bs]"
   ]
  },
  {
   "cell_type": "markdown",
   "metadata": {},
   "source": [
    "**Example:**"
   ]
  },
  {
   "cell_type": "code",
   "execution_count": 30,
   "metadata": {},
   "outputs": [
    {
     "name": "stdout",
     "output_type": "stream",
     "text": [
      "[[0, 1], [2, 3], [4, 5], [6, 7], [8, 9]]\n"
     ]
    }
   ],
   "source": [
    "x = torch.Tensor(range(10))\n",
    "y = x*x\n",
    "dummy_samp = Sampler(10, 2, False)\n",
    "print([samples for samples in dummy_samp])"
   ]
  },
  {
   "cell_type": "code",
   "execution_count": 31,
   "metadata": {},
   "outputs": [
    {
     "name": "stdout",
     "output_type": "stream",
     "text": [
      "[tensor([4, 1]), tensor([8, 3]), tensor([6, 5]), tensor([2, 0]), tensor([7, 9])]\n"
     ]
    }
   ],
   "source": [
    "x = torch.Tensor(range(10))\n",
    "y = x*x\n",
    "dummy_samp = Sampler(10, 2, True)\n",
    "print([samples for samples in dummy_samp])"
   ]
  },
  {
   "cell_type": "markdown",
   "metadata": {},
   "source": [
    "**DataLoader with shuffling feature**"
   ]
  },
  {
   "cell_type": "code",
   "execution_count": 32,
   "metadata": {},
   "outputs": [],
   "source": [
    "class DataLoader():\n",
    "    \n",
    "    def __init__(self, dataset, batch_size, sampler, collate_fn):\n",
    "        self.ds, self.bs = dataset, batch_size        \n",
    "        self.sampler, self.collate_fn = sampler, collate_fn\n",
    "    \n",
    "    def __iter__(self):\n",
    "        for batch_idxs in self.sampler:\n",
    "            yield self.collate_fn([self.ds[idx] for idx in batch_idxs])"
   ]
  },
  {
   "cell_type": "code",
   "execution_count": 33,
   "metadata": {},
   "outputs": [],
   "source": [
    "def collate(batch):\n",
    "    xs, ys = zip(*batch)\n",
    "    return torch.stack(xs), torch.stack(ys)"
   ]
  },
  {
   "cell_type": "markdown",
   "metadata": {},
   "source": [
    "**Example:**"
   ]
  },
  {
   "cell_type": "code",
   "execution_count": 34,
   "metadata": {},
   "outputs": [
    {
     "data": {
      "text/plain": [
       "[(tensor([0., 1.]), tensor([0., 1.])),\n",
       " (tensor([2., 3.]), tensor([4., 9.])),\n",
       " (tensor([4., 5.]), tensor([16., 25.])),\n",
       " (tensor([6., 7.]), tensor([36., 49.])),\n",
       " (tensor([8., 9.]), tensor([64., 81.]))]"
      ]
     },
     "execution_count": 34,
     "metadata": {},
     "output_type": "execute_result"
    }
   ],
   "source": [
    "x = torch.Tensor(range(10))\n",
    "y = x*x\n",
    "\n",
    "dummy_ds =  Dataset(x, y)\n",
    "dummy_samp = Sampler(10, 2, False)\n",
    "dummy_dl = DataLoader(dummy_ds, bs, dummy_samp, collate)\n",
    "\n",
    "[batch for batch in dummy_dl]"
   ]
  },
  {
   "cell_type": "code",
   "execution_count": 34,
   "metadata": {},
   "outputs": [
    {
     "data": {
      "text/plain": [
       "[(tensor([9., 8.]), tensor([81., 64.])),\n",
       " (tensor([2., 5.]), tensor([ 4., 25.])),\n",
       " (tensor([4., 6.]), tensor([16., 36.])),\n",
       " (tensor([7., 0.]), tensor([49.,  0.])),\n",
       " (tensor([1., 3.]), tensor([1., 9.]))]"
      ]
     },
     "execution_count": 34,
     "metadata": {},
     "output_type": "execute_result"
    }
   ],
   "source": [
    "x = torch.Tensor(range(10))\n",
    "y = x*x\n",
    "\n",
    "dummy_ds =  Dataset(x, y)\n",
    "dummy_samp = Sampler(10, 2, True)\n",
    "dummy_dl = DataLoader(dummy_ds, bs, dummy_samp, collate)\n",
    "\n",
    "[batch for batch in dummy_dl]"
   ]
  },
  {
   "cell_type": "markdown",
   "metadata": {},
   "source": [
    "**Training Loop with shuffled DataLoader**"
   ]
  },
  {
   "cell_type": "code",
   "execution_count": 35,
   "metadata": {},
   "outputs": [],
   "source": [
    "def get_dataloaders(x_train, y_train, x_test, y_test, bs, collate):\n",
    "    train_ds = Dataset(x_train, y_train)\n",
    "    test_ds = Dataset(x_test, y_test)\n",
    "\n",
    "    train_samp = Sampler(len(train_ds), bs, shuffle=True)\n",
    "    test_samp = Sampler(len(test_ds), bs, shuffle=False)\n",
    "\n",
    "    train_dl = DataLoader(train_ds, bs, train_samp, collate)\n",
    "    test_dl = DataLoader(test_ds, bs, test_samp, collate)\n",
    "    \n",
    "    return train_dl, test_dl"
   ]
  },
  {
   "cell_type": "code",
   "execution_count": 36,
   "metadata": {},
   "outputs": [],
   "source": [
    "train_dl, test_dl = get_dataloaders(x_train, y_train,\n",
    "                                    x_test, y_test,\n",
    "                                    bs, collate)"
   ]
  },
  {
   "cell_type": "code",
   "execution_count": 37,
   "metadata": {},
   "outputs": [],
   "source": [
    "for epoch in range(epochs):\n",
    "    # data minibatch\n",
    "    for xb,yb in train_dl:\n",
    "        # forward pass \n",
    "        yb_pred = model(xb)\n",
    "        loss = loss_fn(yb_pred, yb)\n",
    "        # backpropagation\n",
    "        loss.backward()\n",
    "        # update model\n",
    "        with torch.no_grad():\n",
    "            for layer in model.layers:\n",
    "                if hasattr(layer, \"weight\"):\n",
    "                    layer.weight -= lr * layer.weight.grad\n",
    "                    layer.weight.grad.zero_()\n",
    "                if hasattr(layer, \"bias\"):\n",
    "                    layer.bias -= lr * layer.bias.grad\n",
    "                    layer.bias.grad.zero_()               "
   ]
  },
  {
   "cell_type": "code",
   "execution_count": 38,
   "metadata": {},
   "outputs": [
    {
     "data": {
      "text/plain": [
       "tensor(0.9200)"
      ]
     },
     "execution_count": 38,
     "metadata": {},
     "output_type": "execute_result"
    }
   ],
   "source": [
    "accuracy(model(x_train), y_train)"
   ]
  },
  {
   "cell_type": "markdown",
   "metadata": {},
   "source": [
    "# PyTorch Training Abstractions\n",
    "---"
   ]
  },
  {
   "cell_type": "markdown",
   "metadata": {},
   "source": [
    "## nn.Parameters\n",
    "**All trainable parameters of the model are abstracted together**"
   ]
  },
  {
   "cell_type": "markdown",
   "metadata": {},
   "source": [
    "**How PyTorch does it?**"
   ]
  },
  {
   "cell_type": "code",
   "execution_count": 46,
   "metadata": {},
   "outputs": [],
   "source": [
    "class Model(nn.Module):\n",
    "    \n",
    "    def __init__(self, x_dim, y_dim, h_dim):\n",
    "        super().__init__()\n",
    "        self.l1 = nn.Linear(x_dim, h_dim)\n",
    "        self.l2 = nn.Linear(h_dim, y_dim)\n",
    "    \n",
    "    def forward(self, x):\n",
    "        x = F.relu(self.l1(x))\n",
    "        return self.l2(x)"
   ]
  },
  {
   "cell_type": "code",
   "execution_count": 47,
   "metadata": {},
   "outputs": [
    {
     "data": {
      "text/plain": [
       "Model(\n",
       "  (l1): Linear(in_features=784, out_features=300, bias=True)\n",
       "  (l2): Linear(in_features=300, out_features=10, bias=True)\n",
       ")"
      ]
     },
     "execution_count": 47,
     "metadata": {},
     "output_type": "execute_result"
    }
   ],
   "source": [
    "model = Model(784,10,300)\n",
    "model"
   ]
  },
  {
   "cell_type": "code",
   "execution_count": 48,
   "metadata": {},
   "outputs": [],
   "source": [
    "train_dl, test_dl = get_dataloaders(x_train, y_train, x_test, y_test, bs, collate)"
   ]
  },
  {
   "cell_type": "code",
   "execution_count": 77,
   "metadata": {},
   "outputs": [],
   "source": [
    "for epoch in range(epochs):\n",
    "    for xb,yb in train_dl:\n",
    "        yb_pred = model(xb)\n",
    "        loss = loss_fn(yb_pred, yb)\n",
    "        loss.backward()\n",
    "        with torch.no_grad():\n",
    "            for p in model.parameters():\n",
    "                p -= lr * p.grad\n",
    "                p.grad.zero_()"
   ]
  },
  {
   "cell_type": "code",
   "execution_count": 78,
   "metadata": {},
   "outputs": [
    {
     "data": {
      "text/plain": [
       "tensor(0.9030)"
      ]
     },
     "execution_count": 78,
     "metadata": {},
     "output_type": "execute_result"
    }
   ],
   "source": [
    "accuracy(model(x_train), y_train)"
   ]
  },
  {
   "cell_type": "markdown",
   "metadata": {},
   "source": [
    "**How to rebuild this functionality?**"
   ]
  },
  {
   "cell_type": "code",
   "execution_count": 71,
   "metadata": {},
   "outputs": [],
   "source": [
    "class OurModule():\n",
    "    \n",
    "    def __init__(self, x_dim, y_dim, h_dim):\n",
    "        self._modules = {}\n",
    "        self.l1 = nn.Linear(x_dim, h_dim)\n",
    "        self.l2 = nn.Linear(h_dim, y_dim)\n",
    "    \n",
    "    def __setattr__(self, k, v):\n",
    "        if not k.startswith('_'):\n",
    "            self._modules[k] = v\n",
    "        super().__setattr__(k, v)\n",
    "    \n",
    "    def __repr__(self):\n",
    "        return f\"{self._modules}\"\n",
    "    \n",
    "    def parameters(self):\n",
    "        for m in self._modules.values():\n",
    "            for p in m.parameters():\n",
    "                yield p\n",
    "    \n",
    "    def __call__(self, x):\n",
    "        x = F.relu(self.l1(x))\n",
    "        return self.l2(x)"
   ]
  },
  {
   "cell_type": "code",
   "execution_count": 72,
   "metadata": {},
   "outputs": [
    {
     "data": {
      "text/plain": [
       "{'l1': Linear(in_features=784, out_features=300, bias=True), 'l2': Linear(in_features=300, out_features=10, bias=True)}"
      ]
     },
     "execution_count": 72,
     "metadata": {},
     "output_type": "execute_result"
    }
   ],
   "source": [
    "model = OurModule(784,10,300)\n",
    "model"
   ]
  },
  {
   "cell_type": "code",
   "execution_count": 73,
   "metadata": {},
   "outputs": [],
   "source": [
    "train_dl, test_dl = get_dataloaders(x_train, y_train, x_test, y_test, bs, collate)"
   ]
  },
  {
   "cell_type": "code",
   "execution_count": 75,
   "metadata": {},
   "outputs": [],
   "source": [
    "for epoch in range(epochs):\n",
    "    for xb,yb in train_dl:\n",
    "        yb_pred = model(xb)\n",
    "        loss = loss_fn(yb_pred, yb)\n",
    "        loss.backward()\n",
    "        with torch.no_grad():\n",
    "            for p in model.parameters():\n",
    "                p -= lr * p.grad\n",
    "                p.grad.zero_()"
   ]
  },
  {
   "cell_type": "code",
   "execution_count": 76,
   "metadata": {},
   "outputs": [
    {
     "data": {
      "text/plain": [
       "tensor(0.8843)"
      ]
     },
     "execution_count": 76,
     "metadata": {},
     "output_type": "execute_result"
    }
   ],
   "source": [
    "accuracy(model(x_train), y_train)"
   ]
  },
  {
   "cell_type": "markdown",
   "metadata": {},
   "source": [
    "## nn.Sequential\n",
    "**Quick model construction by defining a list of layers**"
   ]
  },
  {
   "cell_type": "markdown",
   "metadata": {},
   "source": [
    "**How PyTorch does it?**"
   ]
  },
  {
   "cell_type": "code",
   "execution_count": 81,
   "metadata": {},
   "outputs": [
    {
     "data": {
      "text/plain": [
       "Sequential(\n",
       "  (0): Linear(in_features=784, out_features=300, bias=True)\n",
       "  (1): ReLU()\n",
       "  (2): Linear(in_features=300, out_features=10, bias=True)\n",
       ")"
      ]
     },
     "execution_count": 81,
     "metadata": {},
     "output_type": "execute_result"
    }
   ],
   "source": [
    "model = nn.Sequential(nn.Linear(784,300), nn.ReLU(), nn.Linear(300,10))\n",
    "model"
   ]
  },
  {
   "cell_type": "markdown",
   "metadata": {},
   "source": [
    "**How to rebuild this functionality?**"
   ]
  },
  {
   "cell_type": "code",
   "execution_count": 86,
   "metadata": {},
   "outputs": [],
   "source": [
    "class Sequential(nn.Module):\n",
    "    \n",
    "    def __init__(self, *layers):\n",
    "        super().__init__()\n",
    "        self.layers = self.module_list(layers)\n",
    "    \n",
    "    def module_list(self, layers):\n",
    "        for i, l in enumerate(layers):\n",
    "            self.add_module(name = f'{i}',\n",
    "                            module = l)\n",
    "    \n",
    "    def forward(self):\n",
    "        for l in self.layers:\n",
    "            x = l(x)\n",
    "        return x        "
   ]
  },
  {
   "cell_type": "code",
   "execution_count": 87,
   "metadata": {},
   "outputs": [
    {
     "data": {
      "text/plain": [
       "Sequential(\n",
       "  (0): Linear(in_features=784, out_features=300, bias=True)\n",
       "  (1): ReLU()\n",
       "  (2): Linear(in_features=300, out_features=10, bias=True)\n",
       ")"
      ]
     },
     "execution_count": 87,
     "metadata": {},
     "output_type": "execute_result"
    }
   ],
   "source": [
    "model = Sequential(nn.Linear(784,300), nn.ReLU(), nn.Linear(300,10))\n",
    "model"
   ]
  },
  {
   "cell_type": "markdown",
   "metadata": {},
   "source": [
    "## Optimizer\n",
    "**Abstracting away the optimization function used to train a model**"
   ]
  },
  {
   "cell_type": "markdown",
   "metadata": {},
   "source": [
    "**How PyTorch does it?**"
   ]
  },
  {
   "cell_type": "code",
   "execution_count": 88,
   "metadata": {},
   "outputs": [
    {
     "data": {
      "text/plain": [
       "Sequential(\n",
       "  (0): Linear(in_features=784, out_features=300, bias=True)\n",
       "  (1): ReLU()\n",
       "  (2): Linear(in_features=300, out_features=10, bias=True)\n",
       ")"
      ]
     },
     "execution_count": 88,
     "metadata": {},
     "output_type": "execute_result"
    }
   ],
   "source": [
    "model = nn.Sequential(nn.Linear(784,300), nn.ReLU(), nn.Linear(300,10))\n",
    "model"
   ]
  },
  {
   "cell_type": "code",
   "execution_count": 89,
   "metadata": {},
   "outputs": [],
   "source": [
    "train_dl, test_dl = get_dataloaders(x_train, y_train, x_test, y_test, bs, collate)"
   ]
  },
  {
   "cell_type": "code",
   "execution_count": 90,
   "metadata": {},
   "outputs": [],
   "source": [
    "opt = torch.optim.SGD(model.parameters(), lr=0.5)"
   ]
  },
  {
   "cell_type": "code",
   "execution_count": 91,
   "metadata": {},
   "outputs": [],
   "source": [
    "for epoch in range(epochs):\n",
    "    for xb,yb in train_dl:\n",
    "        yb_pred = model(xb)\n",
    "        loss = loss_fn(yb_pred, yb)\n",
    "        loss.backward()\n",
    "        opt.step()\n",
    "        opt.zero_grad()"
   ]
  },
  {
   "cell_type": "code",
   "execution_count": 92,
   "metadata": {},
   "outputs": [
    {
     "data": {
      "text/plain": [
       "tensor(0.9995)"
      ]
     },
     "execution_count": 92,
     "metadata": {},
     "output_type": "execute_result"
    }
   ],
   "source": [
    "accuracy(model(x_train), y_train)"
   ]
  },
  {
   "cell_type": "markdown",
   "metadata": {},
   "source": [
    "**How to rebuild this functionality?**"
   ]
  },
  {
   "cell_type": "code",
   "execution_count": 105,
   "metadata": {},
   "outputs": [],
   "source": [
    "class Optimizer():\n",
    "    \n",
    "    def __init__(self, params, lr):\n",
    "        self.params, self.lr = list(params), lr\n",
    "    \n",
    "    def step(self):\n",
    "        with torch.no_grad():\n",
    "            for p in self.params:\n",
    "                p -= lr * p.grad\n",
    "    \n",
    "    def zero_grad(self):\n",
    "        for p in self.params:\n",
    "            p.grad.data.zero_()"
   ]
  },
  {
   "cell_type": "code",
   "execution_count": 106,
   "metadata": {},
   "outputs": [
    {
     "data": {
      "text/plain": [
       "Sequential(\n",
       "  (0): Linear(in_features=784, out_features=300, bias=True)\n",
       "  (1): ReLU()\n",
       "  (2): Linear(in_features=300, out_features=10, bias=True)\n",
       ")"
      ]
     },
     "execution_count": 106,
     "metadata": {},
     "output_type": "execute_result"
    }
   ],
   "source": [
    "model = nn.Sequential(nn.Linear(784,300), nn.ReLU(), nn.Linear(300,10))\n",
    "model"
   ]
  },
  {
   "cell_type": "code",
   "execution_count": 107,
   "metadata": {},
   "outputs": [],
   "source": [
    "train_dl, test_dl = get_dataloaders(x_train, y_train, x_test, y_test, bs, collate)"
   ]
  },
  {
   "cell_type": "code",
   "execution_count": 108,
   "metadata": {},
   "outputs": [],
   "source": [
    "opt = Optimizer(model.parameters(), lr=0.)"
   ]
  },
  {
   "cell_type": "code",
   "execution_count": 109,
   "metadata": {},
   "outputs": [],
   "source": [
    "for epoch in range(epochs):\n",
    "    for xb,yb in train_dl:\n",
    "        yb_pred = model(xb)\n",
    "        loss = loss_fn(yb_pred, yb)\n",
    "        loss.backward()\n",
    "        opt.step()\n",
    "        opt.zero_grad()"
   ]
  },
  {
   "cell_type": "code",
   "execution_count": 110,
   "metadata": {},
   "outputs": [
    {
     "data": {
      "text/plain": [
       "tensor(0.8854)"
      ]
     },
     "execution_count": 110,
     "metadata": {},
     "output_type": "execute_result"
    }
   ],
   "source": [
    "accuracy(model(x_train), y_train)"
   ]
  },
  {
   "cell_type": "markdown",
   "metadata": {},
   "source": [
    "# Validation\n",
    "---"
   ]
  },
  {
   "cell_type": "markdown",
   "metadata": {},
   "source": [
    "**Learning model**"
   ]
  },
  {
   "cell_type": "code",
   "execution_count": 122,
   "metadata": {},
   "outputs": [
    {
     "data": {
      "text/plain": [
       "Sequential(\n",
       "  (0): Linear(in_features=784, out_features=300, bias=True)\n",
       "  (1): ReLU()\n",
       "  (2): Linear(in_features=300, out_features=10, bias=True)\n",
       ")"
      ]
     },
     "execution_count": 122,
     "metadata": {},
     "output_type": "execute_result"
    }
   ],
   "source": [
    "model = nn.Sequential(nn.Linear(784,300), nn.ReLU(), nn.Linear(300,10))\n",
    "model"
   ]
  },
  {
   "cell_type": "markdown",
   "metadata": {},
   "source": [
    "**Data**"
   ]
  },
  {
   "cell_type": "code",
   "execution_count": 123,
   "metadata": {},
   "outputs": [],
   "source": [
    "train_dl, test_dl = get_dataloaders(x_train, y_train, x_test, y_test, bs, collate)"
   ]
  },
  {
   "cell_type": "markdown",
   "metadata": {},
   "source": [
    "**Optimizer**"
   ]
  },
  {
   "cell_type": "code",
   "execution_count": 124,
   "metadata": {},
   "outputs": [],
   "source": [
    "opt = torch.optim.SGD(model.parameters(), lr=0.5)"
   ]
  },
  {
   "cell_type": "markdown",
   "metadata": {},
   "source": [
    "**Training & Validation Loop**"
   ]
  },
  {
   "cell_type": "code",
   "execution_count": 127,
   "metadata": {},
   "outputs": [
    {
     "name": "stdout",
     "output_type": "stream",
     "text": [
      "EPOCH#:0 \t Loss: 0.0623 Accuracy: 0.7748\n",
      "EPOCH#:1 \t Loss: 0.0630 Accuracy: 0.7746\n",
      "EPOCH#:2 \t Loss: 0.0629 Accuracy: 0.7751\n",
      "EPOCH#:3 \t Loss: 0.0635 Accuracy: 0.7746\n",
      "EPOCH#:4 \t Loss: 0.0633 Accuracy: 0.7748\n",
      "EPOCH#:5 \t Loss: 0.0636 Accuracy: 0.7750\n",
      "EPOCH#:6 \t Loss: 0.0639 Accuracy: 0.7751\n",
      "EPOCH#:7 \t Loss: 0.0644 Accuracy: 0.7753\n",
      "EPOCH#:8 \t Loss: 0.0642 Accuracy: 0.7751\n",
      "EPOCH#:9 \t Loss: 0.0648 Accuracy: 0.7750\n"
     ]
    }
   ],
   "source": [
    "for epoch in range(epochs):\n",
    "    # Train model\n",
    "    model.train()\n",
    "    for xb,yb in train_dl:\n",
    "        yb_pred = model(xb)\n",
    "        loss = loss_fn(yb_pred, yb)\n",
    "        loss.backward()\n",
    "        opt.step()\n",
    "        opt.zero_grad()\n",
    "        \n",
    "    # Validate model\n",
    "    model.eval()\n",
    "    with torch.no_grad():\n",
    "        loss, acc, n = 0., 0., 0.\n",
    "        for xb, yb in test_dl:\n",
    "            yb_pred = model(xb)\n",
    "            loss += loss_fn(yb_pred, yb)\n",
    "            acc += accuracy(yb_pred, yb)\n",
    "            n += len(xb)\n",
    "        loss = loss/n * 100\n",
    "        acc = acc/n * 100\n",
    "    print(f\"EPOCH#:{epoch} \\t Loss: {loss:.4f} Accuracy: {acc:.4f}\")"
   ]
  }
 ],
 "metadata": {
  "kernelspec": {
   "display_name": "Python [conda env:prod] *",
   "language": "python",
   "name": "conda-env-prod-py"
  },
  "language_info": {
   "codemirror_mode": {
    "name": "ipython",
    "version": 3
   },
   "file_extension": ".py",
   "mimetype": "text/x-python",
   "name": "python",
   "nbconvert_exporter": "python",
   "pygments_lexer": "ipython3",
   "version": "3.7.5"
  },
  "toc": {
   "base_numbering": 1,
   "nav_menu": {},
   "number_sections": true,
   "sideBar": true,
   "skip_h1_title": false,
   "title_cell": "Table of Contents",
   "title_sidebar": "Contents",
   "toc_cell": true,
   "toc_position": {},
   "toc_section_display": true,
   "toc_window_display": true
  }
 },
 "nbformat": 4,
 "nbformat_minor": 4
}
