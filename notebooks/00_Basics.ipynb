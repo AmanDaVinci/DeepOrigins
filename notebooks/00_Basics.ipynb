{
 "cells": [
  {
   "cell_type": "markdown",
   "metadata": {},
   "source": [
    "# Getting Started with DeepOrigins\n",
    "---\n",
    "*How to go from simple **matrix multiplication** and basic **backpropagation** to ResNets, Cyclical Learning Rate Policies and breaking the **State-of-the-Art in Imagenet**, all from scratch!*"
   ]
  },
  {
   "cell_type": "markdown",
   "metadata": {
    "toc": true
   },
   "source": [
    "<h1>Table of Contents<span class=\"tocSkip\"></span></h1>\n",
    "<div class=\"toc\"><ul class=\"toc-item\"><li><span><a href=\"#Getting-Started-with-DeepOrigins\" data-toc-modified-id=\"Getting-Started-with-DeepOrigins-1\"><span class=\"toc-item-num\">1&nbsp;&nbsp;</span>Getting Started with DeepOrigins</a></span></li><li><span><a href=\"#Python-Data-Model\" data-toc-modified-id=\"Python-Data-Model-2\"><span class=\"toc-item-num\">2&nbsp;&nbsp;</span>Python Data Model</a></span><ul class=\"toc-item\"><li><span><a href=\"#__new__-&amp;__init__\" data-toc-modified-id=\"__new__-&amp;__init__-2.1\"><span class=\"toc-item-num\">2.1&nbsp;&nbsp;</span><code>__new__</code> &amp;<code>__init__</code></a></span></li><li><span><a href=\"#__repr__-&amp;-__str__\" data-toc-modified-id=\"__repr__-&amp;-__str__-2.2\"><span class=\"toc-item-num\">2.2&nbsp;&nbsp;</span><code>__repr__</code> &amp; <code>__str__</code></a></span></li><li><span><a href=\"#__len__-&amp;-__getitem__\" data-toc-modified-id=\"__len__-&amp;-__getitem__-2.3\"><span class=\"toc-item-num\">2.3&nbsp;&nbsp;</span><code>__len__</code> &amp; <code>__getitem__</code></a></span></li><li><span><a href=\"#__call__\" data-toc-modified-id=\"__call__-2.4\"><span class=\"toc-item-num\">2.4&nbsp;&nbsp;</span><code>__call__</code></a></span></li><li><span><a href=\"#__enter__,-__exit__-&amp;-__del__\" data-toc-modified-id=\"__enter__,-__exit__-&amp;-__del__-2.5\"><span class=\"toc-item-num\">2.5&nbsp;&nbsp;</span><code>__enter__</code>, <code>__exit__</code> &amp; <code>__del__</code></a></span></li></ul></li><li><span><a href=\"#Python-Decorators\" data-toc-modified-id=\"Python-Decorators-3\"><span class=\"toc-item-num\">3&nbsp;&nbsp;</span>Python Decorators</a></span></li><li><span><a href=\"#Callbacks-in-Python\" data-toc-modified-id=\"Callbacks-in-Python-4\"><span class=\"toc-item-num\">4&nbsp;&nbsp;</span>Callbacks in Python</a></span><ul class=\"toc-item\"><li><span><a href=\"#Events-&amp;-Callbacks\" data-toc-modified-id=\"Events-&amp;-Callbacks-4.1\"><span class=\"toc-item-num\">4.1&nbsp;&nbsp;</span>Events &amp; Callbacks</a></span></li></ul></li><li><span><a href=\"#Statistical-Measures-of-Spread\" data-toc-modified-id=\"Statistical-Measures-of-Spread-5\"><span class=\"toc-item-num\">5&nbsp;&nbsp;</span>Statistical Measures of Spread</a></span></li><li><span><a href=\"#Softmax\" data-toc-modified-id=\"Softmax-6\"><span class=\"toc-item-num\">6&nbsp;&nbsp;</span>Softmax</a></span></li></ul></div>"
   ]
  },
  {
   "cell_type": "markdown",
   "metadata": {},
   "source": [
    "# Python Data Model\n",
    "---\n",
    "**Python abstracts and represents all data as objects in compliance with the Von Neumann model: [Python Data Model](https://docs.python.org/3/reference/datamodel.html#object.__init__)**"
   ]
  },
  {
   "cell_type": "markdown",
   "metadata": {},
   "source": [
    "Python classes can be extended with special behaviour using the `__dunder__` or data model methods such as `__init__`. We can overload operators in Python by using the specific `__dunder__` methods, each with a pre-defined name. For example, defining a `__add__` method in our class will add two objects of the class whenever a plus sign is encountered. \n",
    "\n",
    "Such *special* methods are also invoked by certain special syntax such as subscription (`arr[i]`) or during certain special context such as initialising a new object (`__init__`) or calling `len` on a container object such as a list."
   ]
  },
  {
   "cell_type": "markdown",
   "metadata": {},
   "source": [
    "We shall see some of the regularly used (by me) special methods below. For a complete and exhaustive guide please follow the documentation link given above. Let's begin!"
   ]
  },
  {
   "cell_type": "markdown",
   "metadata": {},
   "source": [
    "## `__new__` &`__init__`"
   ]
  },
  {
   "cell_type": "markdown",
   "metadata": {},
   "source": [
    "Now, we will play with a running example to demostrate these *magic* methods. We will design a `Polynomial` class to abstract the polynomials of math."
   ]
  },
  {
   "cell_type": "markdown",
   "metadata": {},
   "source": [
    "Many of you will be familiar with `__init__`. Whereas `__init__` is used to initialize the object, `__new__` is used to create the object itself, which can then be initialized. That's why `__init__` takes `self` as the first parameter but `__new__` takes `cls`. When `__new__` is called, the `self` instance doesn't exist yet. So the class is passed to `__new__` and then it creates a `self` instance to be used by `__init__`. "
   ]
  },
  {
   "cell_type": "markdown",
   "metadata": {},
   "source": [
    "Here, we will use them to construct only quadratic (2-degree) polynomials: "
   ]
  },
  {
   "cell_type": "code",
   "execution_count": 42,
   "metadata": {},
   "outputs": [],
   "source": [
    "class Polynomial:\n",
    "    '''An abstraction of the polynomial'''\n",
    "    \n",
    "    def __new__(cls, *coefficients):\n",
    "        '''An arbitary constraint for demonstration'''\n",
    "        if len(coefficients) == 3:\n",
    "            return super().__new__(cls)\n",
    "        else:\n",
    "            raise Exception(\"Polynomial must be quadratic with 3 non-zero coefficients\")\n",
    "        \n",
    "    def __init__(self, *coefficients):\n",
    "        self.coeff = [c for c in coefficients]"
   ]
  },
  {
   "cell_type": "code",
   "execution_count": 43,
   "metadata": {},
   "outputs": [
    {
     "data": {
      "text/plain": [
       "[1, 2, 3]"
      ]
     },
     "execution_count": 43,
     "metadata": {},
     "output_type": "execute_result"
    }
   ],
   "source": [
    "y = Polynomial(1,2,3)\n",
    "y.coeff"
   ]
  },
  {
   "cell_type": "code",
   "execution_count": 44,
   "metadata": {},
   "outputs": [
    {
     "ename": "Exception",
     "evalue": "Polynomial must be quadratic with 3 non-zero coefficients",
     "output_type": "error",
     "traceback": [
      "\u001b[0;31m---------------------------------------------------------------------------\u001b[0m",
      "\u001b[0;31mException\u001b[0m                                 Traceback (most recent call last)",
      "\u001b[0;32m<ipython-input-44-edf9485275f5>\u001b[0m in \u001b[0;36m<module>\u001b[0;34m\u001b[0m\n\u001b[0;32m----> 1\u001b[0;31m \u001b[0my\u001b[0m \u001b[0;34m=\u001b[0m \u001b[0mPolynomial\u001b[0m\u001b[0;34m(\u001b[0m\u001b[0;36m2\u001b[0m\u001b[0;34m,\u001b[0m\u001b[0;36m5\u001b[0m\u001b[0;34m)\u001b[0m\u001b[0;34m\u001b[0m\u001b[0;34m\u001b[0m\u001b[0m\n\u001b[0m",
      "\u001b[0;32m<ipython-input-42-1c338cdd520c>\u001b[0m in \u001b[0;36m__new__\u001b[0;34m(cls, *coefficients)\u001b[0m\n\u001b[1;32m      7\u001b[0m             \u001b[0;32mreturn\u001b[0m \u001b[0msuper\u001b[0m\u001b[0;34m(\u001b[0m\u001b[0;34m)\u001b[0m\u001b[0;34m.\u001b[0m\u001b[0m__new__\u001b[0m\u001b[0;34m(\u001b[0m\u001b[0mcls\u001b[0m\u001b[0;34m)\u001b[0m\u001b[0;34m\u001b[0m\u001b[0;34m\u001b[0m\u001b[0m\n\u001b[1;32m      8\u001b[0m         \u001b[0;32melse\u001b[0m\u001b[0;34m:\u001b[0m\u001b[0;34m\u001b[0m\u001b[0;34m\u001b[0m\u001b[0m\n\u001b[0;32m----> 9\u001b[0;31m             \u001b[0;32mraise\u001b[0m \u001b[0mException\u001b[0m\u001b[0;34m(\u001b[0m\u001b[0;34m\"Polynomial must be quadratic with 3 non-zero coefficients\"\u001b[0m\u001b[0;34m)\u001b[0m\u001b[0;34m\u001b[0m\u001b[0;34m\u001b[0m\u001b[0m\n\u001b[0m\u001b[1;32m     10\u001b[0m \u001b[0;34m\u001b[0m\u001b[0m\n\u001b[1;32m     11\u001b[0m     \u001b[0;32mdef\u001b[0m \u001b[0m__init__\u001b[0m\u001b[0;34m(\u001b[0m\u001b[0mself\u001b[0m\u001b[0;34m,\u001b[0m \u001b[0;34m*\u001b[0m\u001b[0mcoefficients\u001b[0m\u001b[0;34m)\u001b[0m\u001b[0;34m:\u001b[0m\u001b[0;34m\u001b[0m\u001b[0;34m\u001b[0m\u001b[0m\n",
      "\u001b[0;31mException\u001b[0m: Polynomial must be quadratic with 3 non-zero coefficients"
     ]
    }
   ],
   "source": [
    "y = Polynomial(2,5)"
   ]
  },
  {
   "cell_type": "markdown",
   "metadata": {},
   "source": [
    "## `__repr__` & `__str__`"
   ]
  },
  {
   "cell_type": "markdown",
   "metadata": {},
   "source": [
    "Let's make our `Polynomial` objects look like real polynomials."
   ]
  },
  {
   "cell_type": "markdown",
   "metadata": {},
   "source": [
    "Python gives us `__repr__` and `__str__` to represent the objects of our class to the outside world. So, what's the difference between the two:\n",
    "* `__repr__`:  To design the \"official\" string representation which should, if possible, look like the valid Python expression used to create this object\n",
    "* `__str__`: To design the \"informal\" string representation which prints pretty and looks closer to how we *think* about the object"
   ]
  },
  {
   "cell_type": "code",
   "execution_count": 45,
   "metadata": {},
   "outputs": [],
   "source": [
    "class Polynomial:\n",
    "    '''An abstraction of the polynomial'''\n",
    "            \n",
    "    def __init__(self, *coefficients):\n",
    "        self.coeff = [c for c in coefficients]\n",
    "    \n",
    "    def __repr__(self):\n",
    "        return f\"Polynomial({self.coeff})\"\n",
    "    \n",
    "    def __str__(self):\n",
    "        return ' + '.join([f'{c}x^{i}'\n",
    "                           for i,c in enumerate(self.coeff)])"
   ]
  },
  {
   "cell_type": "code",
   "execution_count": 46,
   "metadata": {},
   "outputs": [
    {
     "data": {
      "text/plain": [
       "Polynomial([1, 2, 3])"
      ]
     },
     "execution_count": 46,
     "metadata": {},
     "output_type": "execute_result"
    }
   ],
   "source": [
    "y = Polynomial(1,2,3)\n",
    "y"
   ]
  },
  {
   "cell_type": "code",
   "execution_count": 47,
   "metadata": {},
   "outputs": [
    {
     "name": "stdout",
     "output_type": "stream",
     "text": [
      "1x^0 + 2x^1 + 3x^2\n"
     ]
    }
   ],
   "source": [
    "print(y)"
   ]
  },
  {
   "cell_type": "markdown",
   "metadata": {},
   "source": [
    "## `__len__` & `__getitem__`"
   ]
  },
  {
   "cell_type": "markdown",
   "metadata": {},
   "source": [
    "The `__len__` and `__getitem__` method along with some others (`__setitem__`, `__iter__`, `__contains__`) can be used to emulate container objects like tuples or lists i.e. sequences or even mappings like dictionaries."
   ]
  },
  {
   "cell_type": "markdown",
   "metadata": {},
   "source": [
    "Here, we will use these two *magic* methods to close the gap between our `Polynomial` class abstraction and the real math-y polynomials:\n",
    "* Whenever someone calls the `len()` function on our `Polynomial` objects, we should return the nearest interpretation for the \"length\" of a polynomial. This must be the degree of the polynomial (highest power of x with a non-zero coefficient e.g. degree of $3x^{2} + 2x + 1$ is 2).\n",
    "* Whenever someone tries to index into our polynomial object using `polynomial[i]` we simply return the coefficient  of that particular term e.g. 0th item of $3x^{2} + 2x + 1$ is 1, 2nd item of $3x^{2} + 2x + 1$ is 3. "
   ]
  },
  {
   "cell_type": "code",
   "execution_count": 48,
   "metadata": {},
   "outputs": [],
   "source": [
    "class Polynomial:\n",
    "    '''An abstraction of the polynomial'''\n",
    "            \n",
    "    def __init__(self, *coefficients):\n",
    "        self.coeff = [c for c in coefficients]\n",
    "    \n",
    "    def __len__(self):\n",
    "        '''Degree of a polynomial'''\n",
    "        return len(self.coeff)\n",
    "    \n",
    "    def __getitem__(self, i):\n",
    "        return self.coeff[i]"
   ]
  },
  {
   "cell_type": "code",
   "execution_count": 49,
   "metadata": {},
   "outputs": [],
   "source": [
    "y = Polynomial(1,2,3)"
   ]
  },
  {
   "cell_type": "code",
   "execution_count": 50,
   "metadata": {},
   "outputs": [
    {
     "data": {
      "text/plain": [
       "3"
      ]
     },
     "execution_count": 50,
     "metadata": {},
     "output_type": "execute_result"
    }
   ],
   "source": [
    "len(y)"
   ]
  },
  {
   "cell_type": "code",
   "execution_count": 51,
   "metadata": {},
   "outputs": [
    {
     "data": {
      "text/plain": [
       "(3, 2, 1)"
      ]
     },
     "execution_count": 51,
     "metadata": {},
     "output_type": "execute_result"
    }
   ],
   "source": [
    "y[2], y[1], y[0]"
   ]
  },
  {
   "cell_type": "markdown",
   "metadata": {},
   "source": [
    "## `__call__`"
   ]
  },
  {
   "cell_type": "markdown",
   "metadata": {},
   "source": [
    "Let's make our `Polynomial` objects do some real work. So what can we do with real polynomials like:\n",
    "\n",
    "\\begin{equation*}\n",
    "y = 3x^{2} + 2x + 1\n",
    "\\end{equation*}\n",
    "\n",
    "Well, we can compute the value of the polynomial at a given x like so:\n",
    "\n",
    "\\begin{align}\n",
    "y(1) = 6 \\\\ \n",
    "y(2) = 17 \\\\\n",
    "y(3) = 34 \\\\\n",
    "\\end{align}\n"
   ]
  },
  {
   "cell_type": "markdown",
   "metadata": {},
   "source": [
    "Python has the `__call__` method to implement this behaviour. In general, defining a `__call__` method in a class makes it a *Callable* class. Then we can use the objects of this class just like we use functions e.g. f(x) -> obj(x). I find this really useful and really cool!  "
   ]
  },
  {
   "cell_type": "code",
   "execution_count": 119,
   "metadata": {},
   "outputs": [],
   "source": [
    "class Polynomial:\n",
    "    '''An abstraction of the polynomial'''\n",
    "            \n",
    "    def __init__(self, *coefficients):\n",
    "        self.coeff = [c for c in coefficients]\n",
    "    \n",
    "    def __call__(self, x):\n",
    "        return sum([c*(x**i) for i, c in enumerate(self.coeff)])"
   ]
  },
  {
   "cell_type": "code",
   "execution_count": 120,
   "metadata": {},
   "outputs": [],
   "source": [
    "y = Polynomial(1,2,3)"
   ]
  },
  {
   "cell_type": "code",
   "execution_count": 121,
   "metadata": {},
   "outputs": [
    {
     "data": {
      "text/plain": [
       "6"
      ]
     },
     "execution_count": 121,
     "metadata": {},
     "output_type": "execute_result"
    }
   ],
   "source": [
    "y(1)"
   ]
  },
  {
   "cell_type": "code",
   "execution_count": 122,
   "metadata": {},
   "outputs": [
    {
     "data": {
      "text/plain": [
       "17"
      ]
     },
     "execution_count": 122,
     "metadata": {},
     "output_type": "execute_result"
    }
   ],
   "source": [
    "y(2)"
   ]
  },
  {
   "cell_type": "code",
   "execution_count": 123,
   "metadata": {},
   "outputs": [
    {
     "data": {
      "text/plain": [
       "34"
      ]
     },
     "execution_count": 123,
     "metadata": {},
     "output_type": "execute_result"
    }
   ],
   "source": [
    "y(3)"
   ]
  },
  {
   "cell_type": "markdown",
   "metadata": {},
   "source": [
    "## `__enter__`, `__exit__` & `__del__`"
   ]
  },
  {
   "cell_type": "markdown",
   "metadata": {},
   "source": [
    "Now, let's demonstrate the usage of `__enter__`, `__exit__` & `__del__` by implementing a random polynomial generator which works only within a context. "
   ]
  },
  {
   "cell_type": "markdown",
   "metadata": {},
   "source": [
    "When we enter the context using `with` we get either one of a linear, quadratic or cubic polynomial with random coefficients. We compute the value of the polynomial at x and optionally do some more operations in the body. When we exit the `with` context, `del` is automatically called for clean up. And next time we get a fresh new polynomial. "
   ]
  },
  {
   "cell_type": "code",
   "execution_count": 161,
   "metadata": {},
   "outputs": [],
   "source": [
    "import random"
   ]
  },
  {
   "cell_type": "code",
   "execution_count": 162,
   "metadata": {},
   "outputs": [],
   "source": [
    "class RandomPolynomial():\n",
    "    ''' Working within the context of a randomly defined polynomial'''\n",
    "    \n",
    "    def __enter__(self):\n",
    "        degree = random.randint(1,3)\n",
    "        coeffs = random.sample(range(1,9), k=degree)\n",
    "        self.random_polynomial = Polynomial(*coeffs) \n",
    "        print(f\"Entering with random coefficients: {coeffs}\")\n",
    "        return self.random_polynomial\n",
    "    \n",
    "    def __exit__(self, *args):\n",
    "        '''__del__ is automatically called'''\n",
    "        print(\"Exiting by cleaning up\")\n",
    "    \n",
    "    def __del__(self):\n",
    "        del(self.random_polynomial)\n",
    "        print(\"Cleanup Complete\")"
   ]
  },
  {
   "cell_type": "code",
   "execution_count": 168,
   "metadata": {},
   "outputs": [
    {
     "name": "stdout",
     "output_type": "stream",
     "text": [
      "Entering with random coefficients: [7, 5]\n",
      "22\n",
      "Exiting by cleaning up\n",
      "Cleanup Complete\n"
     ]
    }
   ],
   "source": [
    "with RandomPolynomial() as y:\n",
    "    print(y(3))"
   ]
  },
  {
   "cell_type": "markdown",
   "metadata": {},
   "source": [
    "# Python Decorators\n",
    "---"
   ]
  },
  {
   "cell_type": "code",
   "execution_count": null,
   "metadata": {},
   "outputs": [],
   "source": []
  },
  {
   "cell_type": "markdown",
   "metadata": {},
   "source": [
    "# Callbacks in Python\n",
    "---"
   ]
  },
  {
   "cell_type": "markdown",
   "metadata": {},
   "source": [
    "## Events & Callbacks"
   ]
  },
  {
   "cell_type": "code",
   "execution_count": 8,
   "metadata": {},
   "outputs": [],
   "source": [
    "import ipywidgets as widgets"
   ]
  },
  {
   "cell_type": "markdown",
   "metadata": {},
   "source": [
    "We create a graphical button using the ipywidgets.Button"
   ]
  },
  {
   "cell_type": "code",
   "execution_count": 9,
   "metadata": {},
   "outputs": [
    {
     "data": {
      "application/vnd.jupyter.widget-view+json": {
       "model_id": "35b2b99f553e4711945593582facb016",
       "version_major": 2,
       "version_minor": 0
      },
      "text/plain": [
       "Button(description='Click Here', style=ButtonStyle())"
      ]
     },
     "metadata": {},
     "output_type": "display_data"
    }
   ],
   "source": [
    "b = widgets.Button(description=\"Click Here\")\n",
    "b"
   ]
  },
  {
   "cell_type": "markdown",
   "metadata": {},
   "source": [
    "However, it won't do anything no matter how many times you click on it. But something does happen when you click on it. The developers of the ipywidgets library have defined an event called `on_click()` which is called everytime the button registers a mouse click. If we, the users of this library, want something to happen when the button is clicked we can indeed open the source code of the library and manually edit the `on_click()` function. But that's gonna be a mess, a disaster waiting to happen. But the developers of ipywidgets created this library for users to create their own buttons with their own behaviours. Afterall we could actually create our own button, but how do we define it's behaviour?  "
   ]
  },
  {
   "cell_type": "markdown",
   "metadata": {},
   "source": [
    "The ipywidgets' developers simply want us to write a function `f()` that implements our custom behaviour and pass the function `f()` to the `on_click()` function. The developers have promised us that `on_click()` will call our function `f()` back. That's a callback!"
   ]
  },
  {
   "cell_type": "code",
   "execution_count": 10,
   "metadata": {},
   "outputs": [],
   "source": [
    "def f(o): print(\"Custom Click Click!\")"
   ]
  },
  {
   "cell_type": "code",
   "execution_count": 11,
   "metadata": {},
   "outputs": [
    {
     "data": {
      "application/vnd.jupyter.widget-view+json": {
       "model_id": "35b2b99f553e4711945593582facb016",
       "version_major": 2,
       "version_minor": 0
      },
      "text/plain": [
       "Button(description='Click Here', style=ButtonStyle())"
      ]
     },
     "metadata": {},
     "output_type": "display_data"
    },
    {
     "name": "stdout",
     "output_type": "stream",
     "text": [
      "Custom Click Click!\n"
     ]
    }
   ],
   "source": [
    "b.on_click(f)\n",
    "b"
   ]
  },
  {
   "cell_type": "markdown",
   "metadata": {},
   "source": [
    "## "
   ]
  },
  {
   "cell_type": "markdown",
   "metadata": {},
   "source": [
    "# Statistical Measures of Spread\n",
    "---"
   ]
  },
  {
   "cell_type": "code",
   "execution_count": null,
   "metadata": {},
   "outputs": [],
   "source": []
  },
  {
   "cell_type": "markdown",
   "metadata": {},
   "source": [
    "# Softmax\n",
    "---"
   ]
  },
  {
   "cell_type": "code",
   "execution_count": null,
   "metadata": {},
   "outputs": [],
   "source": []
  }
 ],
 "metadata": {
  "kernelspec": {
   "display_name": "Python [conda env:prod] *",
   "language": "python",
   "name": "conda-env-prod-py"
  },
  "language_info": {
   "codemirror_mode": {
    "name": "ipython",
    "version": 3
   },
   "file_extension": ".py",
   "mimetype": "text/x-python",
   "name": "python",
   "nbconvert_exporter": "python",
   "pygments_lexer": "ipython3",
   "version": "3.7.3"
  },
  "toc": {
   "base_numbering": 1,
   "nav_menu": {},
   "number_sections": true,
   "sideBar": true,
   "skip_h1_title": false,
   "title_cell": "Table of Contents",
   "title_sidebar": "Contents",
   "toc_cell": true,
   "toc_position": {},
   "toc_section_display": true,
   "toc_window_display": true
  }
 },
 "nbformat": 4,
 "nbformat_minor": 2
}
