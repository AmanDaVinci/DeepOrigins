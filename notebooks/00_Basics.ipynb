{
 "cells": [
  {
   "cell_type": "markdown",
   "metadata": {},
   "source": [
    "# A Python Primer\n",
    "---"
   ]
  },
  {
   "cell_type": "markdown",
   "metadata": {
    "toc": true
   },
   "source": [
    "<h1>Table of Contents<span class=\"tocSkip\"></span></h1>\n",
    "<div class=\"toc\"><ul class=\"toc-item\"><li><span><a href=\"#A-Python-Primer\" data-toc-modified-id=\"A-Python-Primer-1\"><span class=\"toc-item-num\">1&nbsp;&nbsp;</span>A Python Primer</a></span></li><li><span><a href=\"#Python-Data-Model\" data-toc-modified-id=\"Python-Data-Model-2\"><span class=\"toc-item-num\">2&nbsp;&nbsp;</span>Python Data Model</a></span><ul class=\"toc-item\"><li><span><a href=\"#Instantiating-with-__new__-&amp;__init__\" data-toc-modified-id=\"Instantiating-with-__new__-&amp;__init__-2.1\"><span class=\"toc-item-num\">2.1&nbsp;&nbsp;</span>Instantiating with <code>__new__</code> &amp;<code>__init__</code></a></span></li><li><span><a href=\"#Representing-with-__repr__-&amp;-__str__\" data-toc-modified-id=\"Representing-with-__repr__-&amp;-__str__-2.2\"><span class=\"toc-item-num\">2.2&nbsp;&nbsp;</span>Representing with <code>__repr__</code> &amp; <code>__str__</code></a></span></li><li><span><a href=\"#Iterating-with-__len__-&amp;-__getitem__\" data-toc-modified-id=\"Iterating-with-__len__-&amp;-__getitem__-2.3\"><span class=\"toc-item-num\">2.3&nbsp;&nbsp;</span>Iterating with <code>__len__</code> &amp; <code>__getitem__</code></a></span></li><li><span><a href=\"#Calling-objects-like-functions-with-__call__\" data-toc-modified-id=\"Calling-objects-like-functions-with-__call__-2.4\"><span class=\"toc-item-num\">2.4&nbsp;&nbsp;</span>Calling objects like functions with <code>__call__</code></a></span></li><li><span><a href=\"#Pythonic-Polynomials\" data-toc-modified-id=\"Pythonic-Polynomials-2.5\"><span class=\"toc-item-num\">2.5&nbsp;&nbsp;</span>Pythonic Polynomials</a></span></li><li><span><a href=\"#Setting-up-contexts-with-__enter__,-__exit__-&amp;-__del__\" data-toc-modified-id=\"Setting-up-contexts-with-__enter__,-__exit__-&amp;-__del__-2.6\"><span class=\"toc-item-num\">2.6&nbsp;&nbsp;</span>Setting up contexts with <code>__enter__</code>, <code>__exit__</code> &amp; <code>__del__</code></a></span></li></ul></li><li><span><a href=\"#Python-Decorators\" data-toc-modified-id=\"Python-Decorators-3\"><span class=\"toc-item-num\">3&nbsp;&nbsp;</span>Python Decorators</a></span></li><li><span><a href=\"#Callbacks-in-Python\" data-toc-modified-id=\"Callbacks-in-Python-4\"><span class=\"toc-item-num\">4&nbsp;&nbsp;</span>Callbacks in Python</a></span><ul class=\"toc-item\"><li><span><a href=\"#Events-&amp;-Callbacks\" data-toc-modified-id=\"Events-&amp;-Callbacks-4.1\"><span class=\"toc-item-num\">4.1&nbsp;&nbsp;</span>Events &amp; Callbacks</a></span></li><li><span><a href=\"#Custom-Callback\" data-toc-modified-id=\"Custom-Callback-4.2\"><span class=\"toc-item-num\">4.2&nbsp;&nbsp;</span>Custom Callback</a></span></li><li><span><a href=\"#Lambdas,-Partials-&amp;-Inner-Functions\" data-toc-modified-id=\"Lambdas,-Partials-&amp;-Inner-Functions-4.3\"><span class=\"toc-item-num\">4.3&nbsp;&nbsp;</span>Lambdas, Partials &amp; Inner Functions</a></span></li><li><span><a href=\"#Stateful-Callbacks-with-callable-Classes\" data-toc-modified-id=\"Stateful-Callbacks-with-callable-Classes-4.4\"><span class=\"toc-item-num\">4.4&nbsp;&nbsp;</span>Stateful Callbacks with callable Classes</a></span></li><li><span><a href=\"#Callback-arguments-with-*args-&amp;-**kwargs\" data-toc-modified-id=\"Callback-arguments-with-*args-&amp;-**kwargs-4.5\"><span class=\"toc-item-num\">4.5&nbsp;&nbsp;</span>Callback arguments with <code>*args</code> &amp; <code>**kwargs</code></a></span></li><li><span><a href=\"#Callbacks-affecting-behaviour\" data-toc-modified-id=\"Callbacks-affecting-behaviour-4.6\"><span class=\"toc-item-num\">4.6&nbsp;&nbsp;</span>Callbacks affecting behaviour</a></span></li></ul></li><li><span><a href=\"#Statistical-Measures\" data-toc-modified-id=\"Statistical-Measures-5\"><span class=\"toc-item-num\">5&nbsp;&nbsp;</span>Statistical Measures</a></span><ul class=\"toc-item\"><li><span><a href=\"#Measures-of-Spread\" data-toc-modified-id=\"Measures-of-Spread-5.1\"><span class=\"toc-item-num\">5.1&nbsp;&nbsp;</span>Measures of Spread</a></span></li><li><span><a href=\"#Measures-of-Correlation\" data-toc-modified-id=\"Measures-of-Correlation-5.2\"><span class=\"toc-item-num\">5.2&nbsp;&nbsp;</span>Measures of Correlation</a></span></li></ul></li><li><span><a href=\"#Entropy-Measures\" data-toc-modified-id=\"Entropy-Measures-6\"><span class=\"toc-item-num\">6&nbsp;&nbsp;</span>Entropy Measures</a></span></li></ul></div>"
   ]
  },
  {
   "cell_type": "markdown",
   "metadata": {},
   "source": [
    "# Python Data Model\n",
    "---\n",
    "**Python abstracts and represents all data as objects in compliance with the Von Neumann model: [Python Data Model](https://docs.python.org/3/reference/datamodel.html#object.__init__)**"
   ]
  },
  {
   "cell_type": "markdown",
   "metadata": {},
   "source": [
    "Python classes can be extended with special behaviour using the `__dunder__` or data model methods such as `__init__`. We can overload operators in Python by using the specific `__dunder__` methods, each with a pre-defined name. For example, defining a `__add__` method in our class will add two objects of the class whenever a plus sign is encountered. \n",
    "\n",
    "Such *special* methods are also invoked by certain special syntax such as subscription (`arr[i]`) or during certain special context such as initialising a new object (`__init__`) or calling `len` on a container object such as a list."
   ]
  },
  {
   "cell_type": "markdown",
   "metadata": {},
   "source": [
    "We shall see some of the regularly used (by me) special methods below. For a complete and exhaustive guide please follow the documentation link given above. Let's begin!"
   ]
  },
  {
   "cell_type": "markdown",
   "metadata": {},
   "source": [
    "## Instantiating with `__new__` &`__init__`"
   ]
  },
  {
   "cell_type": "markdown",
   "metadata": {},
   "source": [
    "Now, we will play with a running example to demostrate these *magic* methods. We will design a `Polynomial` class to abstract the polynomials of math."
   ]
  },
  {
   "cell_type": "markdown",
   "metadata": {},
   "source": [
    "Many of you will be familiar with `__init__`. Whereas `__init__` is used to initialize the object, `__new__` is used to create the object itself, which can then be initialized. That's why `__init__` takes `self` as the first parameter but `__new__` takes `cls`. When `__new__` is called, the `self` instance doesn't exist yet. So the class is passed to `__new__` and then it creates a `self` instance to be used by `__init__`. "
   ]
  },
  {
   "cell_type": "markdown",
   "metadata": {},
   "source": [
    "Here, we will use them to construct only quadratic (2-degree) polynomials: "
   ]
  },
  {
   "cell_type": "code",
   "execution_count": 8,
   "metadata": {},
   "outputs": [],
   "source": [
    "class Polynomial:\n",
    "    '''An abstraction of the polynomial'''\n",
    "    \n",
    "    def __new__(cls, *coefficients):\n",
    "        '''An arbitary constraint for demonstration'''\n",
    "        if len(coefficients) == 3:\n",
    "            return super().__new__(cls)\n",
    "        else:\n",
    "            raise Exception(\"Polynomial must be quadratic with 3 non-zero coefficients.\")\n",
    "        \n",
    "    def __init__(self, *coefficients):\n",
    "        self.coeff = [c for c in coefficients]"
   ]
  },
  {
   "cell_type": "code",
   "execution_count": 9,
   "metadata": {},
   "outputs": [
    {
     "data": {
      "text/plain": [
       "[1, 2, 3]"
      ]
     },
     "execution_count": 9,
     "metadata": {},
     "output_type": "execute_result"
    }
   ],
   "source": [
    "y = Polynomial(1,2,3)\n",
    "y.coeff"
   ]
  },
  {
   "cell_type": "code",
   "execution_count": 10,
   "metadata": {},
   "outputs": [
    {
     "name": "stdout",
     "output_type": "stream",
     "text": [
      "Polynomial must be quadratic with 3 non-zero coefficients.\n"
     ]
    }
   ],
   "source": [
    "try:\n",
    "    y = Polynomial(2,5)\n",
    "except Exception as e:\n",
    "    print(e)"
   ]
  },
  {
   "cell_type": "markdown",
   "metadata": {},
   "source": [
    "## Representing with `__repr__` & `__str__`"
   ]
  },
  {
   "cell_type": "markdown",
   "metadata": {},
   "source": [
    "Let's make our `Polynomial` objects look like real polynomials."
   ]
  },
  {
   "cell_type": "markdown",
   "metadata": {},
   "source": [
    "Python gives us `__repr__` and `__str__` to represent the objects of our class to the outside world. So, what's the difference between the two:\n",
    "* `__repr__`:  To design the \"official\" string representation which should, if possible, look like the valid Python expression used to create this object\n",
    "* `__str__`: To design the \"informal\" string representation which prints pretty and looks closer to how we *think* about the object"
   ]
  },
  {
   "cell_type": "code",
   "execution_count": 11,
   "metadata": {},
   "outputs": [],
   "source": [
    "class Polynomial:\n",
    "    '''An abstraction of the polynomial'''\n",
    "            \n",
    "    def __init__(self, *coefficients):\n",
    "        self.coeff = [c for c in coefficients]\n",
    "    \n",
    "    def __repr__(self):\n",
    "        return f\"Polynomial({self.coeff})\"\n",
    "    \n",
    "    def __str__(self):\n",
    "        return ' + '.join([f'{c}x^{i}'\n",
    "                           for i,c in enumerate(self.coeff)])"
   ]
  },
  {
   "cell_type": "code",
   "execution_count": 12,
   "metadata": {},
   "outputs": [
    {
     "data": {
      "text/plain": [
       "Polynomial([1, 2, 3])"
      ]
     },
     "execution_count": 12,
     "metadata": {},
     "output_type": "execute_result"
    }
   ],
   "source": [
    "y = Polynomial(1,2,3)\n",
    "y"
   ]
  },
  {
   "cell_type": "code",
   "execution_count": 13,
   "metadata": {},
   "outputs": [
    {
     "name": "stdout",
     "output_type": "stream",
     "text": [
      "1x^0 + 2x^1 + 3x^2\n"
     ]
    }
   ],
   "source": [
    "print(y)"
   ]
  },
  {
   "cell_type": "markdown",
   "metadata": {},
   "source": [
    "## Iterating with `__len__` & `__getitem__`"
   ]
  },
  {
   "cell_type": "markdown",
   "metadata": {},
   "source": [
    "The `__len__` and `__getitem__` method along with some others (`__setitem__`, `__iter__`, `__contains__`) can be used to emulate container objects like tuples or lists i.e. sequences or even mappings like dictionaries."
   ]
  },
  {
   "cell_type": "markdown",
   "metadata": {},
   "source": [
    "Here, we will use these two *magic* methods to close the gap between our `Polynomial` class abstraction and the real math-y polynomials:\n",
    "* Whenever someone calls the `len()` function on our `Polynomial` objects, we should return the nearest interpretation for the \"length\" of a polynomial. This must be the degree of the polynomial (highest power of x with a non-zero coefficient e.g. degree of $3x^{2} + 2x + 1$ is 2).\n",
    "* Whenever someone tries to index into our polynomial object using `polynomial[i]` we simply return the coefficient  of that particular term e.g. 0th item of $3x^{2} + 2x + 1$ is 1, 2nd item of $3x^{2} + 2x + 1$ is 3. "
   ]
  },
  {
   "cell_type": "code",
   "execution_count": 14,
   "metadata": {},
   "outputs": [],
   "source": [
    "class Polynomial:\n",
    "    '''An abstraction of the polynomial'''\n",
    "            \n",
    "    def __init__(self, *coefficients):\n",
    "        self.coeff = [c for c in coefficients]\n",
    "    \n",
    "    def __len__(self):\n",
    "        '''Degree of a polynomial'''\n",
    "        return len(self.coeff)\n",
    "    \n",
    "    def __getitem__(self, i):\n",
    "        '''get the coeffecients'''\n",
    "        return self.coeff[i]"
   ]
  },
  {
   "cell_type": "code",
   "execution_count": 15,
   "metadata": {},
   "outputs": [],
   "source": [
    "y = Polynomial(1,2,3)"
   ]
  },
  {
   "cell_type": "code",
   "execution_count": 16,
   "metadata": {},
   "outputs": [
    {
     "data": {
      "text/plain": [
       "3"
      ]
     },
     "execution_count": 16,
     "metadata": {},
     "output_type": "execute_result"
    }
   ],
   "source": [
    "len(y)"
   ]
  },
  {
   "cell_type": "code",
   "execution_count": 17,
   "metadata": {},
   "outputs": [
    {
     "data": {
      "text/plain": [
       "(3, 2, 1)"
      ]
     },
     "execution_count": 17,
     "metadata": {},
     "output_type": "execute_result"
    }
   ],
   "source": [
    "y[2], y[1], y[0]"
   ]
  },
  {
   "cell_type": "markdown",
   "metadata": {},
   "source": [
    "## Calling objects like functions with `__call__`"
   ]
  },
  {
   "cell_type": "markdown",
   "metadata": {},
   "source": [
    "Let's make our `Polynomial` objects do some real work. So what can we do with real polynomials like:\n",
    "\n",
    "\\begin{equation*}\n",
    "y = 3x^{2} + 2x + 1\n",
    "\\end{equation*}\n",
    "\n",
    "Well, we can compute the value of the polynomial at a given x like so:\n",
    "\n",
    "\\begin{align}\n",
    "y(1) = 6 \\\\ \n",
    "y(2) = 17 \\\\\n",
    "y(3) = 34 \\\\\n",
    "\\end{align}\n"
   ]
  },
  {
   "cell_type": "markdown",
   "metadata": {},
   "source": [
    "Python has the `__call__` method to implement this behaviour. In general, defining a `__call__` method in a class makes it a *Callable* class. Then we can use the objects of this class just like we use functions e.g. f(x) -> obj(x). I find this really useful and really cool!  "
   ]
  },
  {
   "cell_type": "code",
   "execution_count": 18,
   "metadata": {},
   "outputs": [],
   "source": [
    "class Polynomial:\n",
    "    '''An abstraction of the polynomial'''\n",
    "            \n",
    "    def __init__(self, *coefficients):\n",
    "        self.coeff = [c for c in coefficients]\n",
    "    \n",
    "    def __call__(self, x):\n",
    "        return sum([c*(x**i) for i, c in enumerate(self.coeff)])"
   ]
  },
  {
   "cell_type": "code",
   "execution_count": 19,
   "metadata": {},
   "outputs": [],
   "source": [
    "y = Polynomial(1,2,3)"
   ]
  },
  {
   "cell_type": "code",
   "execution_count": 20,
   "metadata": {},
   "outputs": [
    {
     "data": {
      "text/plain": [
       "6"
      ]
     },
     "execution_count": 20,
     "metadata": {},
     "output_type": "execute_result"
    }
   ],
   "source": [
    "y(1)"
   ]
  },
  {
   "cell_type": "code",
   "execution_count": 21,
   "metadata": {},
   "outputs": [
    {
     "data": {
      "text/plain": [
       "17"
      ]
     },
     "execution_count": 21,
     "metadata": {},
     "output_type": "execute_result"
    }
   ],
   "source": [
    "y(2)"
   ]
  },
  {
   "cell_type": "code",
   "execution_count": 22,
   "metadata": {},
   "outputs": [
    {
     "data": {
      "text/plain": [
       "34"
      ]
     },
     "execution_count": 22,
     "metadata": {},
     "output_type": "execute_result"
    }
   ],
   "source": [
    "y(3)"
   ]
  },
  {
   "cell_type": "markdown",
   "metadata": {},
   "source": [
    "## Pythonic Polynomials"
   ]
  },
  {
   "cell_type": "code",
   "execution_count": 2,
   "metadata": {},
   "outputs": [],
   "source": [
    "class Polynomial:\n",
    "    '''An abstraction of polynomials in the python data model'''\n",
    "            \n",
    "    def __init__(self, *coefficients):\n",
    "        self.coeff = [c for c in coefficients]\n",
    "    \n",
    "    def __call__(self, x):\n",
    "        return sum([c*(x**i) for i, c in enumerate(self.coeff)])\n",
    "    \n",
    "    def __len__(self):\n",
    "        '''Degree of a polynomial'''\n",
    "        return len(self.coeff)\n",
    "    \n",
    "    def __getitem__(self, i):\n",
    "        '''get the coeffecients'''\n",
    "        return self.coeff[i]\n",
    "    \n",
    "    def __str__(self):\n",
    "        return ' + '.join([f'{c}x^{i}'\n",
    "                           for i,c in enumerate(self.coeff)])\n",
    "    \n",
    "    def __repr__(self):\n",
    "        return f\"Polynomial({self.coeff})\""
   ]
  },
  {
   "cell_type": "markdown",
   "metadata": {},
   "source": [
    "## Setting up contexts with `__enter__`, `__exit__` & `__del__`"
   ]
  },
  {
   "cell_type": "markdown",
   "metadata": {},
   "source": [
    "Now, let's demonstrate the usage of `__enter__`, `__exit__` & `__del__` by implementing a random polynomial generator which works only within a context. "
   ]
  },
  {
   "cell_type": "markdown",
   "metadata": {},
   "source": [
    "When we enter the context using `with` we get either one of a linear, quadratic or cubic polynomial with random coefficients. We compute the value of the polynomial at x and optionally do some more operations in the body. When we exit the `with` context, `del` is automatically called for clean up. And next time we get a fresh new polynomial. "
   ]
  },
  {
   "cell_type": "code",
   "execution_count": 23,
   "metadata": {},
   "outputs": [],
   "source": [
    "import random"
   ]
  },
  {
   "cell_type": "code",
   "execution_count": 24,
   "metadata": {},
   "outputs": [],
   "source": [
    "class RandomPolynomial():\n",
    "    ''' Working within the context of a randomly defined polynomial'''\n",
    "    \n",
    "    def __enter__(self):\n",
    "        degree = random.randint(1,3)\n",
    "        coeffs = random.sample(range(1,9), k=degree)\n",
    "        self.random_polynomial = Polynomial(*coeffs) \n",
    "        print(f\"Entering with random coefficients: {coeffs}\")\n",
    "        return self.random_polynomial\n",
    "    \n",
    "    def __exit__(self, *args):\n",
    "        '''__del__ is automatically called'''\n",
    "        print(\"Exiting by cleaning up\")\n",
    "    \n",
    "    def __del__(self):\n",
    "        del(self.random_polynomial)\n",
    "        print(\"Cleanup Complete\")"
   ]
  },
  {
   "cell_type": "code",
   "execution_count": 25,
   "metadata": {},
   "outputs": [
    {
     "name": "stdout",
     "output_type": "stream",
     "text": [
      "Entering with random coefficients: [4, 5, 7]\n",
      "82\n",
      "Exiting by cleaning up\n",
      "Cleanup Complete\n"
     ]
    }
   ],
   "source": [
    "with RandomPolynomial() as y:\n",
    "    print(y(3))"
   ]
  },
  {
   "cell_type": "markdown",
   "metadata": {},
   "source": [
    "# Python Decorators\n",
    "---"
   ]
  },
  {
   "cell_type": "markdown",
   "metadata": {},
   "source": [
    "Decorators can extend the behaviour of an object without modifying its structure. For example, we can use decorators to check the arguments that are passed to a function. In this way, the function can keep its core logic and delegate such repetitive tasks to others. \n",
    "\n",
    "To demonstrate, we can decorate a factorial function. The function only implements its recursive logic to compute factorials. However a factorial can only work with natural numbers. The logic to check for natural numbers is delegated to the decorator."
   ]
  },
  {
   "cell_type": "code",
   "execution_count": 41,
   "metadata": {},
   "outputs": [],
   "source": [
    "import functools"
   ]
  },
  {
   "cell_type": "code",
   "execution_count": 47,
   "metadata": {},
   "outputs": [],
   "source": [
    "def argtest_natural_number(func):\n",
    "    ''' Argument check for natural number'''\n",
    "    @functools.wraps(func)\n",
    "    def wrapper(*args, **kwargs):\n",
    "        if isinstance(args[0], int) and args[0]>0:\n",
    "            return func(*args, **kwargs)\n",
    "        else:\n",
    "            raise Exception(\"Argument is not a natural number.\")\n",
    "    return wrapper"
   ]
  },
  {
   "cell_type": "code",
   "execution_count": 48,
   "metadata": {},
   "outputs": [],
   "source": [
    "@argtest_natural_number\n",
    "def factorial(n):\n",
    "    if n==1:\n",
    "        return 1\n",
    "    else:\n",
    "        return n * factorial(n-1)"
   ]
  },
  {
   "cell_type": "code",
   "execution_count": 49,
   "metadata": {},
   "outputs": [
    {
     "data": {
      "text/plain": [
       "6"
      ]
     },
     "execution_count": 49,
     "metadata": {},
     "output_type": "execute_result"
    }
   ],
   "source": [
    "factorial(3)"
   ]
  },
  {
   "cell_type": "code",
   "execution_count": 51,
   "metadata": {},
   "outputs": [
    {
     "name": "stdout",
     "output_type": "stream",
     "text": [
      "Argument is not a natural number.\n"
     ]
    }
   ],
   "source": [
    "try:\n",
    "    print(factorial(3.5))\n",
    "except Exception as e:\n",
    "    print(e)"
   ]
  },
  {
   "cell_type": "markdown",
   "metadata": {},
   "source": [
    "# Callbacks in Python\n",
    "---"
   ]
  },
  {
   "cell_type": "markdown",
   "metadata": {},
   "source": [
    "## Events & Callbacks"
   ]
  },
  {
   "cell_type": "code",
   "execution_count": 52,
   "metadata": {},
   "outputs": [],
   "source": [
    "import ipywidgets as widgets"
   ]
  },
  {
   "cell_type": "markdown",
   "metadata": {},
   "source": [
    "We create a graphical button using the ipywidgets.Button"
   ]
  },
  {
   "cell_type": "code",
   "execution_count": 53,
   "metadata": {},
   "outputs": [
    {
     "data": {
      "application/vnd.jupyter.widget-view+json": {
       "model_id": "e97fbab5cd194b3384bad99d2196a296",
       "version_major": 2,
       "version_minor": 0
      },
      "text/plain": [
       "Button(description='Click Here', style=ButtonStyle())"
      ]
     },
     "metadata": {},
     "output_type": "display_data"
    }
   ],
   "source": [
    "b = widgets.Button(description=\"Click Here\")\n",
    "b"
   ]
  },
  {
   "cell_type": "markdown",
   "metadata": {},
   "source": [
    "However, it won't do anything no matter how many times you click on it. But something does happen when you click on it. The developers of the ipywidgets library have defined an event called `on_click()` which is called everytime the button registers a mouse click. If we, the users of this library, want something to happen when the button is clicked we can indeed open the source code of the library and manually edit the `on_click()` function. But that's gonna be a mess, a disaster waiting to happen.\n",
    "\n",
    "But the developers of ipywidgets wanted users to create their own buttons with their own behaviours. We did create our own button, but how do we define it's behaviour?  "
   ]
  },
  {
   "cell_type": "markdown",
   "metadata": {},
   "source": [
    "The ipywidgets' developers simply want us to write a function `f()` that implements our custom behaviour and pass the function `f()` to the `on_click()` function. The developers have promised us that `on_click()` will call our function `f()` back. That's a callback!"
   ]
  },
  {
   "cell_type": "code",
   "execution_count": 56,
   "metadata": {},
   "outputs": [],
   "source": [
    "def f(obj):\n",
    "    print(\"Custom Click Click!\")"
   ]
  },
  {
   "cell_type": "code",
   "execution_count": 57,
   "metadata": {},
   "outputs": [
    {
     "data": {
      "application/vnd.jupyter.widget-view+json": {
       "model_id": "e97fbab5cd194b3384bad99d2196a296",
       "version_major": 2,
       "version_minor": 0
      },
      "text/plain": [
       "Button(description='Click Here', style=ButtonStyle())"
      ]
     },
     "metadata": {},
     "output_type": "display_data"
    }
   ],
   "source": [
    "b.on_click(f)\n",
    "b"
   ]
  },
  {
   "cell_type": "markdown",
   "metadata": {},
   "source": [
    "## Custom Callback"
   ]
  },
  {
   "cell_type": "code",
   "execution_count": 60,
   "metadata": {},
   "outputs": [],
   "source": [
    "from time import sleep"
   ]
  },
  {
   "cell_type": "code",
   "execution_count": 68,
   "metadata": {},
   "outputs": [],
   "source": [
    "def factorial(n, callback=None):\n",
    "    sleep(0.5);\n",
    "    if callback:\n",
    "        callback(n)\n",
    "    if n==1:\n",
    "        return 1\n",
    "    return n * factorial(n-1, callback)"
   ]
  },
  {
   "cell_type": "code",
   "execution_count": 69,
   "metadata": {},
   "outputs": [
    {
     "data": {
      "text/plain": [
       "24"
      ]
     },
     "execution_count": 69,
     "metadata": {},
     "output_type": "execute_result"
    }
   ],
   "source": [
    "factorial(4)"
   ]
  },
  {
   "cell_type": "code",
   "execution_count": 70,
   "metadata": {},
   "outputs": [],
   "source": [
    "def print_callback(n):\n",
    "    print(f\"factorial({n})\")"
   ]
  },
  {
   "cell_type": "code",
   "execution_count": 71,
   "metadata": {},
   "outputs": [
    {
     "name": "stdout",
     "output_type": "stream",
     "text": [
      "factorial(4)\n",
      "factorial(3)\n",
      "factorial(2)\n",
      "factorial(1)\n"
     ]
    },
    {
     "data": {
      "text/plain": [
       "24"
      ]
     },
     "execution_count": 71,
     "metadata": {},
     "output_type": "execute_result"
    }
   ],
   "source": [
    "factorial(4, callback=print_callback)"
   ]
  },
  {
   "cell_type": "markdown",
   "metadata": {},
   "source": [
    "## Lambdas, Partials & Inner Functions"
   ]
  },
  {
   "cell_type": "markdown",
   "metadata": {},
   "source": [
    "**Using Lambda functions for single use function definition**"
   ]
  },
  {
   "cell_type": "code",
   "execution_count": 72,
   "metadata": {},
   "outputs": [
    {
     "name": "stdout",
     "output_type": "stream",
     "text": [
      "factorial(4)\n",
      "factorial(3)\n",
      "factorial(2)\n",
      "factorial(1)\n"
     ]
    },
    {
     "data": {
      "text/plain": [
       "24"
      ]
     },
     "execution_count": 72,
     "metadata": {},
     "output_type": "execute_result"
    }
   ],
   "source": [
    "factorial(4, callback=lambda x: print(f\"factorial({x})\"))"
   ]
  },
  {
   "cell_type": "markdown",
   "metadata": {},
   "source": [
    "**Using Partial functions**"
   ]
  },
  {
   "cell_type": "code",
   "execution_count": 73,
   "metadata": {},
   "outputs": [],
   "source": [
    "from functools import partial"
   ]
  },
  {
   "cell_type": "code",
   "execution_count": 75,
   "metadata": {},
   "outputs": [],
   "source": [
    "def print_callback(n, msg=''):\n",
    "    print(msg + f\"factorial({n})\")"
   ]
  },
  {
   "cell_type": "code",
   "execution_count": 76,
   "metadata": {},
   "outputs": [
    {
     "name": "stdout",
     "output_type": "stream",
     "text": [
      "Calling: factorial(4)\n",
      "Calling: factorial(3)\n",
      "Calling: factorial(2)\n",
      "Calling: factorial(1)\n"
     ]
    },
    {
     "data": {
      "text/plain": [
       "24"
      ]
     },
     "execution_count": 76,
     "metadata": {},
     "output_type": "execute_result"
    }
   ],
   "source": [
    "factorial(4, callback=partial(print_callback, msg=\"Calling: \"))"
   ]
  },
  {
   "cell_type": "markdown",
   "metadata": {},
   "source": [
    "**Using Lambda functions as on-the-fly generated functions**"
   ]
  },
  {
   "cell_type": "code",
   "execution_count": 77,
   "metadata": {},
   "outputs": [],
   "source": [
    "def make_print_callback(msg=''):\n",
    "    return lambda x: print(msg + f\"factorial({x})\")"
   ]
  },
  {
   "cell_type": "code",
   "execution_count": 78,
   "metadata": {},
   "outputs": [
    {
     "name": "stdout",
     "output_type": "stream",
     "text": [
      "Calling: factorial(4)\n",
      "Calling: factorial(3)\n",
      "Calling: factorial(2)\n",
      "Calling: factorial(1)\n"
     ]
    },
    {
     "data": {
      "text/plain": [
       "24"
      ]
     },
     "execution_count": 78,
     "metadata": {},
     "output_type": "execute_result"
    }
   ],
   "source": [
    "factorial(4, callback=make_print_callback(msg=\"Calling: \"))"
   ]
  },
  {
   "cell_type": "markdown",
   "metadata": {},
   "source": [
    "**Using Inner functions**"
   ]
  },
  {
   "cell_type": "code",
   "execution_count": 79,
   "metadata": {},
   "outputs": [],
   "source": [
    "def make_print_callback(msg=''):\n",
    "    def _inner(n): print(msg + f\"factorial({n})\")\n",
    "    return _inner"
   ]
  },
  {
   "cell_type": "code",
   "execution_count": 80,
   "metadata": {},
   "outputs": [
    {
     "name": "stdout",
     "output_type": "stream",
     "text": [
      "Calling: factorial(4)\n",
      "Calling: factorial(3)\n",
      "Calling: factorial(2)\n",
      "Calling: factorial(1)\n"
     ]
    },
    {
     "data": {
      "text/plain": [
       "24"
      ]
     },
     "execution_count": 80,
     "metadata": {},
     "output_type": "execute_result"
    }
   ],
   "source": [
    "factorial(4, callback=make_print_callback(msg=\"Calling: \"))"
   ]
  },
  {
   "cell_type": "markdown",
   "metadata": {},
   "source": [
    "## Stateful Callbacks with callable Classes"
   ]
  },
  {
   "cell_type": "code",
   "execution_count": 81,
   "metadata": {},
   "outputs": [],
   "source": [
    "class PrintCallback():\n",
    "    '''Prints the parameter passed during along with an optional message'''\n",
    "    \n",
    "    def __init__(self, msg=''):\n",
    "        self.msg = msg\n",
    "    \n",
    "    def __call__(self, n):\n",
    "        print(self.msg + f\"{n}\")"
   ]
  },
  {
   "cell_type": "code",
   "execution_count": 82,
   "metadata": {},
   "outputs": [
    {
     "name": "stdout",
     "output_type": "stream",
     "text": [
      "Recursive Callling: 4\n",
      "Recursive Callling: 3\n",
      "Recursive Callling: 2\n",
      "Recursive Callling: 1\n"
     ]
    },
    {
     "data": {
      "text/plain": [
       "24"
      ]
     },
     "execution_count": 82,
     "metadata": {},
     "output_type": "execute_result"
    }
   ],
   "source": [
    "cb = PrintCallback(\"Recursive Callling: \")\n",
    "factorial(4, cb)"
   ]
  },
  {
   "cell_type": "markdown",
   "metadata": {},
   "source": [
    "## Callback arguments with `*args` & `**kwargs`"
   ]
  },
  {
   "cell_type": "code",
   "execution_count": 83,
   "metadata": {},
   "outputs": [],
   "source": [
    "def fibonacci(n, callback=None):\n",
    "    if callback and hasattr(callback, 'before'):\n",
    "        callback.before(n)\n",
    "    sleep(0.1)\n",
    "    if n<=1:\n",
    "        return n\n",
    "    if callback and hasattr(callback, 'after'):\n",
    "        callback.after(n)\n",
    "    return fibonacci(n-1, callback) + fibonacci(n-2, callback)"
   ]
  },
  {
   "cell_type": "code",
   "execution_count": 84,
   "metadata": {},
   "outputs": [
    {
     "data": {
      "text/plain": [
       "3"
      ]
     },
     "execution_count": 84,
     "metadata": {},
     "output_type": "execute_result"
    }
   ],
   "source": [
    "fibonacci(4)"
   ]
  },
  {
   "cell_type": "code",
   "execution_count": 85,
   "metadata": {},
   "outputs": [],
   "source": [
    "class StackCallback:\n",
    "    '''Printing the recursive call stack'''\n",
    "    \n",
    "    def __init__(self, msg=''):\n",
    "        self.msg = msg\n",
    "        \n",
    "    def before(self, n):\n",
    "        print(self.msg + f\"Calling: fibonacci({n})\")\n",
    "        \n",
    "    def after(self, n):\n",
    "        print(self.msg + f\"Recursing: fibonacci({n-1}) & fibonacci({n-2})\")"
   ]
  },
  {
   "cell_type": "code",
   "execution_count": 86,
   "metadata": {},
   "outputs": [],
   "source": [
    "cb = StackCallback()"
   ]
  },
  {
   "cell_type": "code",
   "execution_count": 87,
   "metadata": {},
   "outputs": [
    {
     "name": "stdout",
     "output_type": "stream",
     "text": [
      "Calling: fibonacci(4)\n",
      "Recursing: fibonacci(3) & fibonacci(2)\n",
      "Calling: fibonacci(3)\n",
      "Recursing: fibonacci(2) & fibonacci(1)\n",
      "Calling: fibonacci(2)\n",
      "Recursing: fibonacci(1) & fibonacci(0)\n",
      "Calling: fibonacci(1)\n",
      "Calling: fibonacci(0)\n",
      "Calling: fibonacci(1)\n",
      "Calling: fibonacci(2)\n",
      "Recursing: fibonacci(1) & fibonacci(0)\n",
      "Calling: fibonacci(1)\n",
      "Calling: fibonacci(0)\n"
     ]
    },
    {
     "data": {
      "text/plain": [
       "3"
      ]
     },
     "execution_count": 87,
     "metadata": {},
     "output_type": "execute_result"
    }
   ],
   "source": [
    "fibonacci(4, cb)"
   ]
  },
  {
   "cell_type": "code",
   "execution_count": 88,
   "metadata": {},
   "outputs": [
    {
     "name": "stdout",
     "output_type": "stream",
     "text": [
      "Calling: fibonacci(3)\n",
      "Recursing: fibonacci(2) & fibonacci(1)\n",
      "Calling: fibonacci(2)\n",
      "Recursing: fibonacci(1) & fibonacci(0)\n",
      "Calling: fibonacci(1)\n",
      "Calling: fibonacci(0)\n",
      "Calling: fibonacci(1)\n"
     ]
    },
    {
     "data": {
      "text/plain": [
       "2"
      ]
     },
     "execution_count": 88,
     "metadata": {},
     "output_type": "execute_result"
    }
   ],
   "source": [
    "fibonacci(3, cb)"
   ]
  },
  {
   "cell_type": "markdown",
   "metadata": {},
   "source": [
    "## Callbacks affecting behaviour"
   ]
  },
  {
   "cell_type": "markdown",
   "metadata": {},
   "source": [
    "Sometimes we find that functions are being called more than once on the same parameter. This is a waste of computation time. We could use callbacks to maintain a cache of commonly computed values."
   ]
  },
  {
   "cell_type": "code",
   "execution_count": 89,
   "metadata": {},
   "outputs": [],
   "source": [
    "def fibonacci(n, callback=None):\n",
    "    if callback and hasattr(callback, 'cached'):\n",
    "        if callback.cached(n):\n",
    "            return callback.cached(n)\n",
    "    if callback and hasattr(callback, 'before'):\n",
    "        callback.before(n)\n",
    "    sleep(0.1)\n",
    "    if n <= 1:\n",
    "        return n\n",
    "    if callback and hasattr(callback, 'after'):\n",
    "        callback.after(n)\n",
    "    return fibonacci(n-1, callback) + fibonacci(n-2, callback)"
   ]
  },
  {
   "cell_type": "code",
   "execution_count": 90,
   "metadata": {},
   "outputs": [],
   "source": [
    "class CacheCallback(StackCallback):\n",
    "    '''Maintains a cache of commnonly called values'''\n",
    "    \n",
    "    def __init__(self, cache, msg=''):\n",
    "        self.cache, self.msg = cache, msg\n",
    "        \n",
    "    def cached(self, n):\n",
    "        return self.cache.get(n, None)        "
   ]
  },
  {
   "cell_type": "code",
   "execution_count": 91,
   "metadata": {},
   "outputs": [],
   "source": [
    "fibonacci_cache = {0: 0, 1: 1, 2: 1, 3: 2, 4: 3, 5: 5}\n",
    "cb = CacheCallback(fibonacci_cache)"
   ]
  },
  {
   "cell_type": "code",
   "execution_count": 92,
   "metadata": {},
   "outputs": [
    {
     "name": "stdout",
     "output_type": "stream",
     "text": [
      "Calling: fibonacci(6)\n",
      "Recursing: fibonacci(5) & fibonacci(4)\n"
     ]
    },
    {
     "data": {
      "text/plain": [
       "8"
      ]
     },
     "execution_count": 92,
     "metadata": {},
     "output_type": "execute_result"
    }
   ],
   "source": [
    "fibonacci(6, cb)"
   ]
  },
  {
   "cell_type": "code",
   "execution_count": 93,
   "metadata": {},
   "outputs": [
    {
     "name": "stdout",
     "output_type": "stream",
     "text": [
      "Calling: fibonacci(7)\n",
      "Recursing: fibonacci(6) & fibonacci(5)\n",
      "Calling: fibonacci(6)\n",
      "Recursing: fibonacci(5) & fibonacci(4)\n"
     ]
    },
    {
     "data": {
      "text/plain": [
       "13"
      ]
     },
     "execution_count": 93,
     "metadata": {},
     "output_type": "execute_result"
    }
   ],
   "source": [
    "fibonacci(7, cb)"
   ]
  },
  {
   "cell_type": "markdown",
   "metadata": {},
   "source": [
    "# Statistical Measures\n",
    "---"
   ]
  },
  {
   "cell_type": "code",
   "execution_count": 94,
   "metadata": {},
   "outputs": [],
   "source": [
    "import torch\n",
    "import matplotlib.pyplot as plt"
   ]
  },
  {
   "cell_type": "code",
   "execution_count": 95,
   "metadata": {},
   "outputs": [],
   "source": [
    "# taking advantage of python's dynamic nature to plot tensors\n",
    "torch.Tensor.ndim = property(lambda x: len(x.shape))"
   ]
  },
  {
   "cell_type": "markdown",
   "metadata": {},
   "source": [
    "## Measures of Spread"
   ]
  },
  {
   "cell_type": "code",
   "execution_count": 98,
   "metadata": {},
   "outputs": [
    {
     "data": {
      "text/plain": [
       "tensor([ 1.,  2.,  3.,  4., 15.])"
      ]
     },
     "execution_count": 98,
     "metadata": {},
     "output_type": "execute_result"
    }
   ],
   "source": [
    "x = torch.tensor([1.,2.,3.,4.,15.])\n",
    "x"
   ]
  },
  {
   "cell_type": "markdown",
   "metadata": {},
   "source": [
    "**Measure of Central Tendency: What's the centre of the values?**"
   ]
  },
  {
   "cell_type": "code",
   "execution_count": 99,
   "metadata": {},
   "outputs": [
    {
     "data": {
      "text/plain": [
       "tensor(5.)"
      ]
     },
     "execution_count": 99,
     "metadata": {},
     "output_type": "execute_result"
    }
   ],
   "source": [
    "m = x.mean()\n",
    "m"
   ]
  },
  {
   "cell_type": "markdown",
   "metadata": {},
   "source": [
    "**Measure of Spread: How far are the values spread out?**"
   ]
  },
  {
   "cell_type": "markdown",
   "metadata": {},
   "source": [
    "This won't work since the negative distances from the centre cancel out the positive distances from the centre"
   ]
  },
  {
   "cell_type": "code",
   "execution_count": 100,
   "metadata": {},
   "outputs": [
    {
     "data": {
      "text/plain": [
       "tensor(0.)"
      ]
     },
     "execution_count": 100,
     "metadata": {},
     "output_type": "execute_result"
    }
   ],
   "source": [
    "(x-m).mean()"
   ]
  },
  {
   "cell_type": "markdown",
   "metadata": {},
   "source": [
    "We can still make it work. Here are three ways of doing so:"
   ]
  },
  {
   "cell_type": "markdown",
   "metadata": {},
   "source": [
    "**1. Mean Absolute Deviation: Absolute distance of all the values from the mean or typical value**"
   ]
  },
  {
   "cell_type": "code",
   "execution_count": 135,
   "metadata": {},
   "outputs": [
    {
     "data": {
      "text/plain": [
       "tensor(4.)"
      ]
     },
     "execution_count": 135,
     "metadata": {},
     "output_type": "execute_result"
    }
   ],
   "source": [
    "(x-m).abs().mean()"
   ]
  },
  {
   "cell_type": "markdown",
   "metadata": {},
   "source": [
    "**2. Variance: Square the variation in distances of all the values from the mean or typical value**"
   ]
  },
  {
   "cell_type": "code",
   "execution_count": 136,
   "metadata": {},
   "outputs": [
    {
     "data": {
      "text/plain": [
       "tensor(26.)"
      ]
     },
     "execution_count": 136,
     "metadata": {},
     "output_type": "execute_result"
    }
   ],
   "source": [
    "(x-m).pow(2).mean()"
   ]
  },
  {
   "cell_type": "markdown",
   "metadata": {},
   "source": [
    "But this is goes on a different scale since everything is squared. And hence:"
   ]
  },
  {
   "cell_type": "markdown",
   "metadata": {},
   "source": [
    "**3. Standard Deviation: Take the square root of variance to scale it back to the original scale**"
   ]
  },
  {
   "cell_type": "code",
   "execution_count": 101,
   "metadata": {},
   "outputs": [
    {
     "data": {
      "text/plain": [
       "tensor(5.0990)"
      ]
     },
     "execution_count": 101,
     "metadata": {},
     "output_type": "execute_result"
    }
   ],
   "source": [
    "(x-m).pow(2).mean().sqrt()"
   ]
  },
  {
   "cell_type": "markdown",
   "metadata": {},
   "source": [
    "However, Standard Deviation (STD) does not match Mean Absolute Deviation (MAD) exactly. The reason is simple: STD is more sensitive to outliers than MAD, since values are squared in STD. This makes large values even larger and small values even smaller. In short, STD overplays the outliers in our data. Hence, it's better to use MAD sometimes."
   ]
  },
  {
   "cell_type": "code",
   "execution_count": 102,
   "metadata": {},
   "outputs": [
    {
     "data": {
      "text/plain": [
       "tensor(4.)"
      ]
     },
     "execution_count": 102,
     "metadata": {},
     "output_type": "execute_result"
    }
   ],
   "source": [
    "(x-m).abs().mean()"
   ]
  },
  {
   "cell_type": "markdown",
   "metadata": {},
   "source": [
    "**Efficiently computing Variance:**"
   ]
  },
  {
   "cell_type": "markdown",
   "metadata": {},
   "source": [
    "$$\\operatorname{E}\\left[X^2 \\right] - \\operatorname{E}[X]^2$$"
   ]
  },
  {
   "cell_type": "code",
   "execution_count": 103,
   "metadata": {},
   "outputs": [
    {
     "data": {
      "text/plain": [
       "tensor(26.)"
      ]
     },
     "execution_count": 103,
     "metadata": {},
     "output_type": "execute_result"
    }
   ],
   "source": [
    "(x*x).mean() - m*m"
   ]
  },
  {
   "cell_type": "markdown",
   "metadata": {},
   "source": [
    "## Measures of Correlation"
   ]
  },
  {
   "cell_type": "markdown",
   "metadata": {},
   "source": [
    "*Let's try to measure similarity between two sets of data*"
   ]
  },
  {
   "cell_type": "code",
   "execution_count": 104,
   "metadata": {},
   "outputs": [],
   "source": [
    "# original dataset\n",
    "x = torch.randn(100)"
   ]
  },
  {
   "cell_type": "markdown",
   "metadata": {},
   "source": [
    "**1. Exactly the same datset: No added randomness**"
   ]
  },
  {
   "cell_type": "code",
   "execution_count": 105,
   "metadata": {},
   "outputs": [],
   "source": [
    "randomness = 0."
   ]
  },
  {
   "cell_type": "code",
   "execution_count": 106,
   "metadata": {},
   "outputs": [
    {
     "data": {
      "text/plain": [
       "<matplotlib.collections.PathCollection at 0x7fbc51bb6e50>"
      ]
     },
     "execution_count": 106,
     "metadata": {},
     "output_type": "execute_result"
    },
    {
     "data": {
      "image/png": "[encoded data removed]",
      "text/plain": [
       "<Figure size 432x288 with 1 Axes>"
      ]
     },
     "metadata": {
      "needs_background": "light"
     },
     "output_type": "display_data"
    }
   ],
   "source": [
    "# same as x but with added randomness\n",
    "y = x + torch.rand_like(x)*randomness\n",
    "plt.scatter(x,y)"
   ]
  },
  {
   "cell_type": "markdown",
   "metadata": {},
   "source": [
    "**Covariance: How much do x and y vary?**"
   ]
  },
  {
   "cell_type": "code",
   "execution_count": 107,
   "metadata": {},
   "outputs": [
    {
     "data": {
      "text/plain": [
       "tensor(1.2532)"
      ]
     },
     "execution_count": 107,
     "metadata": {},
     "output_type": "execute_result"
    }
   ],
   "source": [
    "cov = ((x - x.mean()) * (y - y.mean())).mean()\n",
    "cov"
   ]
  },
  {
   "cell_type": "markdown",
   "metadata": {},
   "source": [
    "**Pearson Correlation Coefficient: How much are x and y correlated?**"
   ]
  },
  {
   "cell_type": "code",
   "execution_count": 108,
   "metadata": {},
   "outputs": [
    {
     "data": {
      "text/plain": [
       "tensor(0.9900)"
      ]
     },
     "execution_count": 108,
     "metadata": {},
     "output_type": "execute_result"
    }
   ],
   "source": [
    "p_corr = cov / (x.std() * y.std())\n",
    "p_corr"
   ]
  },
  {
   "cell_type": "markdown",
   "metadata": {},
   "source": [
    "**2. Slightly different dataset: Some added randomness**"
   ]
  },
  {
   "cell_type": "code",
   "execution_count": 109,
   "metadata": {},
   "outputs": [],
   "source": [
    "randomness = 3."
   ]
  },
  {
   "cell_type": "code",
   "execution_count": 110,
   "metadata": {},
   "outputs": [
    {
     "data": {
      "text/plain": [
       "<matplotlib.collections.PathCollection at 0x7fbc519f2450>"
      ]
     },
     "execution_count": 110,
     "metadata": {},
     "output_type": "execute_result"
    },
    {
     "data": {
      "image/png": "[encoded data removed]",
      "text/plain": [
       "<Figure size 432x288 with 1 Axes>"
      ]
     },
     "metadata": {
      "needs_background": "light"
     },
     "output_type": "display_data"
    }
   ],
   "source": [
    "y = x + torch.rand_like(x)*randomness\n",
    "plt.scatter(x,y)"
   ]
  },
  {
   "cell_type": "markdown",
   "metadata": {},
   "source": [
    "**Covariance:**"
   ]
  },
  {
   "cell_type": "code",
   "execution_count": 111,
   "metadata": {},
   "outputs": [
    {
     "data": {
      "text/plain": [
       "tensor(1.1379)"
      ]
     },
     "execution_count": 111,
     "metadata": {},
     "output_type": "execute_result"
    }
   ],
   "source": [
    "cov = ((x - x.mean()) * (y - y.mean())).mean()\n",
    "cov"
   ]
  },
  {
   "cell_type": "markdown",
   "metadata": {},
   "source": [
    "**Pearson Correlation Coefficient:**"
   ]
  },
  {
   "cell_type": "code",
   "execution_count": 112,
   "metadata": {},
   "outputs": [
    {
     "data": {
      "text/plain": [
       "tensor(0.7631)"
      ]
     },
     "execution_count": 112,
     "metadata": {},
     "output_type": "execute_result"
    }
   ],
   "source": [
    "p_corr = cov / (x.std() * y.std())\n",
    "p_corr"
   ]
  },
  {
   "cell_type": "markdown",
   "metadata": {},
   "source": [
    "**3. Very different dataset: Significantly added randomness**"
   ]
  },
  {
   "cell_type": "code",
   "execution_count": 113,
   "metadata": {},
   "outputs": [],
   "source": [
    "randomness = 10."
   ]
  },
  {
   "cell_type": "code",
   "execution_count": 114,
   "metadata": {},
   "outputs": [
    {
     "data": {
      "text/plain": [
       "<matplotlib.collections.PathCollection at 0x7fbc519c6050>"
      ]
     },
     "execution_count": 114,
     "metadata": {},
     "output_type": "execute_result"
    },
    {
     "data": {
      "image/png": "[encoded data removed]",
      "text/plain": [
       "<Figure size 432x288 with 1 Axes>"
      ]
     },
     "metadata": {
      "needs_background": "light"
     },
     "output_type": "display_data"
    }
   ],
   "source": [
    "y = x + torch.rand_like(x)*randomness\n",
    "plt.scatter(x,y)"
   ]
  },
  {
   "cell_type": "markdown",
   "metadata": {},
   "source": [
    "**Covariance:**"
   ]
  },
  {
   "cell_type": "code",
   "execution_count": 115,
   "metadata": {},
   "outputs": [
    {
     "data": {
      "text/plain": [
       "tensor(1.5723)"
      ]
     },
     "execution_count": 115,
     "metadata": {},
     "output_type": "execute_result"
    }
   ],
   "source": [
    "cov = ((x - x.mean()) * (y - y.mean())).mean()\n",
    "cov"
   ]
  },
  {
   "cell_type": "markdown",
   "metadata": {},
   "source": [
    "**Pearson Correlation Coefficient:**"
   ]
  },
  {
   "cell_type": "code",
   "execution_count": 116,
   "metadata": {},
   "outputs": [
    {
     "data": {
      "text/plain": [
       "tensor(0.4079)"
      ]
     },
     "execution_count": 116,
     "metadata": {},
     "output_type": "execute_result"
    }
   ],
   "source": [
    "p_corr = cov / (x.std() * y.std())\n",
    "p_corr"
   ]
  },
  {
   "cell_type": "markdown",
   "metadata": {},
   "source": [
    "**4. Exactly opposite dataset:**"
   ]
  },
  {
   "cell_type": "code",
   "execution_count": 117,
   "metadata": {},
   "outputs": [
    {
     "data": {
      "text/plain": [
       "<matplotlib.collections.PathCollection at 0x7fbc51932dd0>"
      ]
     },
     "execution_count": 117,
     "metadata": {},
     "output_type": "execute_result"
    },
    {
     "data": {
      "image/png": "[encoded data removed]",
      "text/plain": [
       "<Figure size 432x288 with 1 Axes>"
      ]
     },
     "metadata": {
      "needs_background": "light"
     },
     "output_type": "display_data"
    }
   ],
   "source": [
    "y = -x\n",
    "plt.scatter(x,y)"
   ]
  },
  {
   "cell_type": "markdown",
   "metadata": {},
   "source": [
    "**Covariance:**"
   ]
  },
  {
   "cell_type": "code",
   "execution_count": 118,
   "metadata": {},
   "outputs": [
    {
     "data": {
      "text/plain": [
       "tensor(-1.2532)"
      ]
     },
     "execution_count": 118,
     "metadata": {},
     "output_type": "execute_result"
    }
   ],
   "source": [
    "cov = ((x - x.mean()) * (y - y.mean())).mean()\n",
    "cov"
   ]
  },
  {
   "cell_type": "markdown",
   "metadata": {},
   "source": [
    "**Pearson Correlation Coefficient:**"
   ]
  },
  {
   "cell_type": "code",
   "execution_count": 119,
   "metadata": {},
   "outputs": [
    {
     "data": {
      "text/plain": [
       "tensor(-0.9900)"
      ]
     },
     "execution_count": 119,
     "metadata": {},
     "output_type": "execute_result"
    }
   ],
   "source": [
    "p_corr = cov / (x.std() * y.std())\n",
    "p_corr"
   ]
  },
  {
   "cell_type": "markdown",
   "metadata": {},
   "source": [
    "# Entropy Measures\n",
    "---"
   ]
  },
  {
   "cell_type": "markdown",
   "metadata": {},
   "source": [
    "**TODO:**"
   ]
  },
  {
   "cell_type": "code",
   "execution_count": null,
   "metadata": {},
   "outputs": [],
   "source": []
  }
 ],
 "metadata": {
  "kernelspec": {
   "display_name": "Python [conda env:prod] *",
   "language": "python",
   "name": "conda-env-prod-py"
  },
  "language_info": {
   "codemirror_mode": {
    "name": "ipython",
    "version": 3
   },
   "file_extension": ".py",
   "mimetype": "text/x-python",
   "name": "python",
   "nbconvert_exporter": "python",
   "pygments_lexer": "ipython3",
   "version": "3.7.5"
  },
  "toc": {
   "base_numbering": 1,
   "nav_menu": {},
   "number_sections": true,
   "sideBar": true,
   "skip_h1_title": false,
   "title_cell": "Table of Contents",
   "title_sidebar": "Contents",
   "toc_cell": true,
   "toc_position": {},
   "toc_section_display": true,
   "toc_window_display": true
  }
 },
 "nbformat": 4,
 "nbformat_minor": 4
}
