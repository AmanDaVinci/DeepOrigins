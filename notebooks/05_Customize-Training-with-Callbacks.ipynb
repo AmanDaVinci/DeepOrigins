{
 "cells": [
  {
   "cell_type": "markdown",
   "metadata": {},
   "source": [
    "# Customize Training with Callbacks\n",
    "---"
   ]
  },
  {
   "cell_type": "markdown",
   "metadata": {
    "toc": true
   },
   "source": [
    "<h1>Table of Contents<span class=\"tocSkip\"></span></h1>\n",
    "<div class=\"toc\"><ul class=\"toc-item\"><li><span><a href=\"#Customize-Training-with-Callbacks\" data-toc-modified-id=\"Customize-Training-with-Callbacks-1\"><span class=\"toc-item-num\">1&nbsp;&nbsp;</span>Customize Training with Callbacks</a></span><ul class=\"toc-item\"><li><span><a href=\"#Import-Libraries\" data-toc-modified-id=\"Import-Libraries-1.1\"><span class=\"toc-item-num\">1.1&nbsp;&nbsp;</span>Import Libraries</a></span></li><li><span><a href=\"#Load-Data\" data-toc-modified-id=\"Load-Data-1.2\"><span class=\"toc-item-num\">1.2&nbsp;&nbsp;</span>Load Data</a></span></li><li><span><a href=\"#Pre-process-Data\" data-toc-modified-id=\"Pre-process-Data-1.3\"><span class=\"toc-item-num\">1.3&nbsp;&nbsp;</span>Pre-process Data</a></span></li></ul></li><li><span><a href=\"#Basic-Callback-system\" data-toc-modified-id=\"Basic-Callback-system-2\"><span class=\"toc-item-num\">2&nbsp;&nbsp;</span>Basic Callback system</a></span></li></ul></div>"
   ]
  },
  {
   "cell_type": "markdown",
   "metadata": {},
   "source": [
    "## Import Libraries"
   ]
  },
  {
   "cell_type": "code",
   "execution_count": 1,
   "metadata": {},
   "outputs": [],
   "source": [
    "import torch\n",
    "import torch.nn as nn\n",
    "import torch.nn.functional as F\n",
    "from torchvision.datasets import MNIST\n",
    "from torch.utils.data.dataloader import DataLoader"
   ]
  },
  {
   "cell_type": "markdown",
   "metadata": {},
   "source": [
    "## Load Data"
   ]
  },
  {
   "cell_type": "code",
   "execution_count": 2,
   "metadata": {},
   "outputs": [],
   "source": [
    "dataset = MNIST(root=\"../data/\")"
   ]
  },
  {
   "cell_type": "code",
   "execution_count": 3,
   "metadata": {},
   "outputs": [
    {
     "data": {
      "text/plain": [
       "(torch.Size([50000, 28, 28]), torch.Size([10000, 28, 28]))"
      ]
     },
     "execution_count": 3,
     "metadata": {},
     "output_type": "execute_result"
    }
   ],
   "source": [
    "x, y = dataset.data.float(), dataset.targets\n",
    "x_train, x_test = x[:50000], x[50000:]\n",
    "y_train, y_test = y[:50000], y[50000:]\n",
    "\n",
    "x_train.shape, x_test.shape"
   ]
  },
  {
   "cell_type": "markdown",
   "metadata": {},
   "source": [
    "**Flatten**"
   ]
  },
  {
   "cell_type": "code",
   "execution_count": 4,
   "metadata": {},
   "outputs": [],
   "source": [
    "x_train = x_train.reshape(x_train.shape[0],x_train.shape[1]*x_train.shape[2])\n",
    "x_test = x_test.reshape(x_test.shape[0],x_test.shape[1]*x_test.shape[2])"
   ]
  },
  {
   "cell_type": "markdown",
   "metadata": {},
   "source": [
    "## Pre-process Data"
   ]
  },
  {
   "cell_type": "code",
   "execution_count": 5,
   "metadata": {},
   "outputs": [],
   "source": [
    "def normalize(x, mean, std): return (x-mean)/std"
   ]
  },
  {
   "cell_type": "code",
   "execution_count": 6,
   "metadata": {},
   "outputs": [],
   "source": [
    "train_mean = x_train.mean()\n",
    "train_std = x_train.std()"
   ]
  },
  {
   "cell_type": "code",
   "execution_count": 7,
   "metadata": {},
   "outputs": [],
   "source": [
    "x_train = normalize(x_train, train_mean, train_std)\n",
    "x_test = normalize(x_test, train_mean, train_std)"
   ]
  },
  {
   "cell_type": "code",
   "execution_count": 8,
   "metadata": {},
   "outputs": [],
   "source": [
    "class Dataset():\n",
    "    \n",
    "    def __init__(self, x, y):\n",
    "        self.x, self.y = x, y\n",
    "    \n",
    "    def __len__(self):\n",
    "        return self.x.shape[0]\n",
    "    \n",
    "    def __getitem__(self, i):\n",
    "        return self.x[i], self.y[i]"
   ]
  },
  {
   "cell_type": "markdown",
   "metadata": {},
   "source": [
    "# Basic Callback system\n",
    "---"
   ]
  },
  {
   "cell_type": "code",
   "execution_count": 9,
   "metadata": {},
   "outputs": [],
   "source": [
    "config = {\n",
    "    'epochs': 10,\n",
    "    'lr': 0.5,\n",
    "    'bs': 128\n",
    "}"
   ]
  },
  {
   "cell_type": "code",
   "execution_count": 10,
   "metadata": {},
   "outputs": [],
   "source": [
    "model = nn.Sequential(nn.Linear(784,300), nn.ReLU(), nn.Linear(300,10))"
   ]
  },
  {
   "cell_type": "code",
   "execution_count": 11,
   "metadata": {},
   "outputs": [],
   "source": [
    "train_ds, test_ds = Dataset(x_train, y_train), Dataset(x_test, y_test)"
   ]
  },
  {
   "cell_type": "code",
   "execution_count": 24,
   "metadata": {},
   "outputs": [],
   "source": [
    "class Agent():\n",
    "    \n",
    "    def __init__(self, config, model,\n",
    "                 train_ds, test_ds,\n",
    "                 loss_fn, metric_fn, optimizer):\n",
    "        \n",
    "        self.config, self.model = config, model\n",
    "        \n",
    "        self.train_dl = DataLoader(train_ds, self.config['bs'], shuffle=True)\n",
    "        self.test_dl = DataLoader(test_ds, self.config['bs']*2, shuffle=False)\n",
    "        \n",
    "        self.loss_fn, self.metric_fn = loss_fn, metric_fn\n",
    "        self.opt = optimizer(self.model.parameters(), config['lr'])\n",
    "        \n",
    "    def train_one_epoch(self):\n",
    "        self.model.train()\n",
    "        losses = 0.\n",
    "        for xb, yb in self.train_dl:\n",
    "            yb_pred = self.model(xb)\n",
    "            loss = self.loss_fn(yb_pred, yb)\n",
    "            loss.backward()\n",
    "            self.opt.step()\n",
    "            self.opt.zero_grad()\n",
    "            losses += loss\n",
    "        return losses           \n",
    "    \n",
    "    def validate(self):\n",
    "        self.model.eval()\n",
    "        losses = 0.\n",
    "        metrics = 0.\n",
    "        with torch.no_grad():\n",
    "            for xb, yb in self.test_dl:\n",
    "                yb_pred = self.model(xb)\n",
    "                losses += self.loss_fn(yb_pred, yb)\n",
    "                metrics += self.metric_fn(yb_pred, yb)\n",
    "        return losses, metrics\n",
    "    \n",
    "    def train(self):\n",
    "        for epoch in range(self.config['epochs']):\n",
    "            train_loss = self.train_one_epoch()\n",
    "            valid_loss, valid_metric = self.validate()\n",
    "            report = (f\"EPOCH#:{epoch} \\t\"\n",
    "                      f\"Train-Loss: {train_loss:.4f} \\t\"\n",
    "                      f\"Valid-Loss: {valid_loss:.4f} \\t\"\n",
    "                      f\"Valid-Metric: {valid_metric:.4f}\")\n",
    "            print(report)"
   ]
  },
  {
   "cell_type": "code",
   "execution_count": 25,
   "metadata": {},
   "outputs": [],
   "source": [
    "agent = Agent(config, model,\n",
    "              train_ds, test_ds,\n",
    "              F.cross_entropy, F.cross_entropy,\n",
    "              torch.optim.SGD)"
   ]
  },
  {
   "cell_type": "code",
   "execution_count": 26,
   "metadata": {},
   "outputs": [
    {
     "name": "stdout",
     "output_type": "stream",
     "text": [
      "EPOCH#:0 \tTrain-Loss: 1.4344 \tValid-Loss: 2.9827 \tValid-Metric: 2.9827\n",
      "EPOCH#:1 \tTrain-Loss: 0.8576 \tValid-Loss: 3.0184 \tValid-Metric: 3.0184\n",
      "EPOCH#:2 \tTrain-Loss: 0.6495 \tValid-Loss: 3.0779 \tValid-Metric: 3.0779\n",
      "EPOCH#:3 \tTrain-Loss: 0.4975 \tValid-Loss: 3.1153 \tValid-Metric: 3.1153\n",
      "EPOCH#:4 \tTrain-Loss: 0.4218 \tValid-Loss: 3.1431 \tValid-Metric: 3.1431\n",
      "EPOCH#:5 \tTrain-Loss: 0.3615 \tValid-Loss: 3.1253 \tValid-Metric: 3.1253\n",
      "EPOCH#:6 \tTrain-Loss: 0.3272 \tValid-Loss: 3.1588 \tValid-Metric: 3.1588\n",
      "EPOCH#:7 \tTrain-Loss: 0.2870 \tValid-Loss: 3.2010 \tValid-Metric: 3.2010\n",
      "EPOCH#:8 \tTrain-Loss: 0.2642 \tValid-Loss: 3.2119 \tValid-Metric: 3.2119\n",
      "EPOCH#:9 \tTrain-Loss: 0.2444 \tValid-Loss: 3.2481 \tValid-Metric: 3.2481\n"
     ]
    }
   ],
   "source": [
    "agent.train()"
   ]
  },
  {
   "cell_type": "code",
   "execution_count": null,
   "metadata": {},
   "outputs": [],
   "source": []
  }
 ],
 "metadata": {
  "kernelspec": {
   "display_name": "Python [conda env:prod] *",
   "language": "python",
   "name": "conda-env-prod-py"
  },
  "language_info": {
   "codemirror_mode": {
    "name": "ipython",
    "version": 3
   },
   "file_extension": ".py",
   "mimetype": "text/x-python",
   "name": "python",
   "nbconvert_exporter": "python",
   "pygments_lexer": "ipython3",
   "version": "3.7.3"
  },
  "toc": {
   "base_numbering": 1,
   "nav_menu": {},
   "number_sections": true,
   "sideBar": true,
   "skip_h1_title": false,
   "title_cell": "Table of Contents",
   "title_sidebar": "Contents",
   "toc_cell": true,
   "toc_position": {},
   "toc_section_display": true,
   "toc_window_display": true
  }
 },
 "nbformat": 4,
 "nbformat_minor": 2
}
