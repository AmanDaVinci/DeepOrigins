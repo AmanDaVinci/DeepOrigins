{
 "cells": [
  {
   "cell_type": "markdown",
   "metadata": {},
   "source": [
    "# Customize Training with Callbacks\n",
    "---"
   ]
  },
  {
   "cell_type": "code",
   "execution_count": 1,
   "metadata": {},
   "outputs": [],
   "source": [
    "config = {\n",
    "    'epochs': 10,\n",
    "    'lr': 0.01,\n",
    "    'bs': 128\n",
    "}"
   ]
  },
  {
   "cell_type": "markdown",
   "metadata": {},
   "source": [
    "## Import Libraries"
   ]
  },
  {
   "cell_type": "code",
   "execution_count": 2,
   "metadata": {},
   "outputs": [],
   "source": [
    "import torch\n",
    "import torch.nn as nn\n",
    "import torch.nn.functional as F"
   ]
  },
  {
   "cell_type": "code",
   "execution_count": 3,
   "metadata": {},
   "outputs": [],
   "source": [
    "import utils"
   ]
  },
  {
   "cell_type": "markdown",
   "metadata": {},
   "source": [
    "## Load Data"
   ]
  },
  {
   "cell_type": "code",
   "execution_count": 4,
   "metadata": {},
   "outputs": [],
   "source": [
    "x_train, y_train, x_test, y_test = utils.get_data()\n",
    "train_dl, test_dl = utils.get_dataloaders(x_train, y_train, x_test, y_test, config['bs'])"
   ]
  },
  {
   "cell_type": "code",
   "execution_count": 5,
   "metadata": {},
   "outputs": [],
   "source": [
    "data = utils.Databunch(train_dl, test_dl, n_classes=10)"
   ]
  },
  {
   "cell_type": "markdown",
   "metadata": {},
   "source": [
    "## Initiate Learner"
   ]
  },
  {
   "cell_type": "code",
   "execution_count": 6,
   "metadata": {},
   "outputs": [],
   "source": [
    "model = nn.Sequential(nn.Linear(784, 300), nn.ReLU(), nn.Linear(300,10))"
   ]
  },
  {
   "cell_type": "code",
   "execution_count": 7,
   "metadata": {},
   "outputs": [],
   "source": [
    "optim = torch.optim.SGD(model.parameters(), lr = config['lr'])"
   ]
  },
  {
   "cell_type": "code",
   "execution_count": 8,
   "metadata": {},
   "outputs": [],
   "source": [
    "learner = utils.Learner(model, data, optim, F.cross_entropy)"
   ]
  },
  {
   "cell_type": "markdown",
   "metadata": {},
   "source": [
    "# Basic Callback System\n",
    "---\n",
    "**WARNING: Bad Smelly Code Ahead!**"
   ]
  },
  {
   "cell_type": "markdown",
   "metadata": {},
   "source": [
    "## Abstract Callback Class"
   ]
  },
  {
   "cell_type": "code",
   "execution_count": 9,
   "metadata": {},
   "outputs": [],
   "source": [
    "class Callback:\n",
    "    \"\"\"\n",
    "    Abstract class inherited by all callbacks\n",
    "  \n",
    "    All methods return true by default\n",
    "    to avoid interrupting the training loop    \n",
    "    \"\"\"\n",
    "    \n",
    "    def before_train(self, learner):\n",
    "        self.learner = learner\n",
    "        return True\n",
    "    \n",
    "    def before_epoch(self, epoch):\n",
    "        self.epoch = epoch\n",
    "        return True\n",
    "    \n",
    "    def before_batch(self, xb, yb):\n",
    "        self.xb, self.yb = xb, yb\n",
    "        return True\n",
    "    \n",
    "    def after_loss(self, loss):\n",
    "        self.loss = loss\n",
    "        return True\n",
    "    \n",
    "    def after_backward(self):  return True\n",
    "    def after_step(self):      return True\n",
    "    def before_validate(self): return True\n",
    "    def after_epoch(self):     return True\n",
    "    def after_train(self):     return True"
   ]
  },
  {
   "cell_type": "markdown",
   "metadata": {},
   "source": [
    "## Test Callback"
   ]
  },
  {
   "cell_type": "code",
   "execution_count": 10,
   "metadata": {},
   "outputs": [],
   "source": [
    "class Test(Callback):\n",
    "    '''Test callback system to stop training at given iteration'''\n",
    "    \n",
    "    def __init__(self, stop_train_at=10):\n",
    "        self.stop_at = stop_train_at\n",
    "        \n",
    "    def before_train(self, learner):\n",
    "        super().before_train(learner)\n",
    "        self.iters = 0\n",
    "        return True\n",
    "    \n",
    "    def after_step(self):\n",
    "        self.iters += 1\n",
    "        print(self.iters)\n",
    "        if self.iters > self.stop_at:\n",
    "            self.learner.stop = True\n",
    "        return True"
   ]
  },
  {
   "cell_type": "markdown",
   "metadata": {},
   "source": [
    "## Callback Controller"
   ]
  },
  {
   "cell_type": "code",
   "execution_count": 11,
   "metadata": {},
   "outputs": [],
   "source": [
    "class CallbackController:\n",
    "    '''Runs the registered callbacks during a training loop'''\n",
    "    \n",
    "    def __init__(self, callbacks):\n",
    "        self.cbs = callbacks if callbacks else []\n",
    "    \n",
    "    def before_train(self, learner):\n",
    "        self.learner = learner\n",
    "        self.in_train = True\n",
    "        carry_on = True\n",
    "        self.learner.stop = False\n",
    "        for cb in self.cbs:\n",
    "            carry_on = carry_on and cb.before_train(model)\n",
    "        return carry_on\n",
    "    \n",
    "    def after_train(self):\n",
    "        carry_on = not self.in_train\n",
    "        for cb in self.cbs:\n",
    "            carry_on = carry_on and cb.after_train()\n",
    "        return carry_on\n",
    "    \n",
    "    def before_epoch(self, epoch):\n",
    "        self.learner.model.train()\n",
    "        self.in_train = True\n",
    "        carry_on = True\n",
    "        for cb in self.cbs:\n",
    "            carry_on = carry_on and cb.before_epoch(epoch)\n",
    "        return carry_on\n",
    "    \n",
    "    def after_epoch(self):\n",
    "        carry_on = True\n",
    "        for cb in self.cbs:\n",
    "            carry_on = carry_on and cb.after_epoch()\n",
    "        return carry_on\n",
    "    \n",
    "    def before_batch(self, xb, yb):\n",
    "        carry_on = True\n",
    "        for cb in self.cbs:\n",
    "            carry_on = carry_on and cb.before_batch(xb, yb)\n",
    "        return carry_on\n",
    "        \n",
    "    def before_validate(self):\n",
    "        self.learner.model.eval()\n",
    "        self.in_train = False\n",
    "        carry_on = True\n",
    "        for cb in self.cbs:\n",
    "            carry_on = carry_on and cb.before_validate()\n",
    "        return carry_on\n",
    "        \n",
    "    def after_loss(self, loss):\n",
    "        carry_on = self.in_train\n",
    "        for cb in self.cbs:\n",
    "            carry_on = carry_on and cb.after_loss(loss)\n",
    "        return carry_on\n",
    "    \n",
    "    def after_backward(self):\n",
    "        carry_on = True\n",
    "        for cb in self.cbs:\n",
    "            carry_on = carry_on and cb.after_backward()\n",
    "        return carry_on\n",
    "    \n",
    "    def after_step(self):\n",
    "        carry_on = True\n",
    "        for cb in self.cbs:\n",
    "            carry_on = carry_on and cb.after_step()\n",
    "        return carry_on\n",
    "    \n",
    "    def do_stop(self):\n",
    "        try:     return self.learner.stop\n",
    "        finally: self.learner.stop = False"
   ]
  },
  {
   "cell_type": "markdown",
   "metadata": {},
   "source": [
    "## Train with Callbacks"
   ]
  },
  {
   "cell_type": "code",
   "execution_count": 17,
   "metadata": {},
   "outputs": [],
   "source": [
    "def train_one_batch(xb, yb, cb):\n",
    "    if not cb.before_batch(xb, yb): return\n",
    "    yb_pred = cb.learner.model(xb)\n",
    "    loss = cb.learner.loss_func(yb_pred, yb)\n",
    "    if not cb.after_loss(loss): return\n",
    "    loss.backward()\n",
    "    if cb.after_backward(): cb.learner.opt.step()\n",
    "    if cb.after_step(): cb.learner.opt.zero_grad()\n",
    "\n",
    "def train_all_batches(dl, cb):\n",
    "    for xb,yb in dl:\n",
    "        train_one_batch(xb, yb, cb)\n",
    "        if cb.do_stop: return\n",
    "    \n",
    "def train(epochs, learner, cb):\n",
    "    if not cb.before_train(learner): return\n",
    "    for epoch in range(epochs):\n",
    "        if not cb.before_epoch(epoch): continue\n",
    "        train_all_batches(learner.data.train_dl, cb)\n",
    "        \n",
    "        if cb.before_validate():\n",
    "            with torch.no_grad():\n",
    "                train_all_batches(learner.data.test_dl, cb)\n",
    "        if cb.do_stop() or not cb.after_epoch(): return\n",
    "    cb.after_train()"
   ]
  },
  {
   "cell_type": "code",
   "execution_count": 18,
   "metadata": {
    "scrolled": false
   },
   "outputs": [
    {
     "name": "stdout",
     "output_type": "stream",
     "text": [
      "1\n",
      "2\n",
      "3\n",
      "4\n",
      "5\n",
      "6\n",
      "7\n",
      "8\n",
      "9\n",
      "10\n"
     ]
    }
   ],
   "source": [
    "train(config['epochs'], learner,\n",
    "      CallbackController([Test(stop_train_at=10)]))"
   ]
  },
  {
   "cell_type": "markdown",
   "metadata": {},
   "source": [
    "# Improved Callback System\n",
    "---\n",
    "**Cleaning up the mess**"
   ]
  }
 ],
 "metadata": {
  "kernelspec": {
   "display_name": "Python 3",
   "language": "python",
   "name": "python3"
  },
  "language_info": {
   "codemirror_mode": {
    "name": "ipython",
    "version": 3
   },
   "file_extension": ".py",
   "mimetype": "text/x-python",
   "name": "python",
   "nbconvert_exporter": "python",
   "pygments_lexer": "ipython3",
   "version": "3.7.3"
  },
  "toc": {
   "base_numbering": 1,
   "nav_menu": {},
   "number_sections": true,
   "sideBar": true,
   "skip_h1_title": false,
   "title_cell": "Table of Contents",
   "title_sidebar": "Contents",
   "toc_cell": false,
   "toc_position": {},
   "toc_section_display": true,
   "toc_window_display": true
  }
 },
 "nbformat": 4,
 "nbformat_minor": 2
}
